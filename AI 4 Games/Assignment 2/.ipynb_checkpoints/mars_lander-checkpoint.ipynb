{
 "cells": [
  {
   "cell_type": "code",
   "execution_count": 1,
   "metadata": {},
   "outputs": [],
   "source": [
    "import sys\n",
    "import os\n",
    "import numpy as np\n",
    "import matplotlib.pyplot as plt\n",
    "from tqdm import tqdm \n",
    "import math\n",
    "\n",
    "from IPython.display import clear_output\n",
    "%config IPCompleter.greedy=True"
   ]
  },
  {
   "cell_type": "code",
   "execution_count": 2,
   "metadata": {},
   "outputs": [],
   "source": [
    "class ES:\n",
    "    def __init__(\n",
    "        self, \n",
    "        eval_f, \n",
    "        population_size, chromosome_len=20, K=0.9, \n",
    "        tau0=None, tau1=None\n",
    "    ):\n",
    "        '''\n",
    "        Args:\n",
    "            population_size : int\n",
    "                Number of cars in the population\n",
    "            chromosome_len : int\n",
    "                Length of the list, which is our answer for the problem\n",
    "            K : int\n",
    "                Kind of learning rate parameter\n",
    "        '''\n",
    "\n",
    "        self.eval_f = eval_f\n",
    "        self.population_size: int = population_size\n",
    "        self.d: int = chromosome_len\n",
    "        self.K: float = K\n",
    "        self.tau0: float = tau0\n",
    "        self.tau1: float = tau1\n",
    "\n",
    "        if self.tau0 is None:\n",
    "            self.tau0 = K / np.sqrt(2 * np.sqrt(self.d))\n",
    "\n",
    "        if self.tau1 is None:\n",
    "            self.tau1 = K / np.sqrt(2 * self.d)\n",
    "\n",
    "        self.population_angles = np.random.uniform(\n",
    "            low=-15,\n",
    "            high=16,\n",
    "            size=(self.population_size, self.d)\n",
    "        )\n",
    "        # 1 - increase thrust | 0 - nothing | -1 - decrease thrust\n",
    "        self.population_thrust = np.random.randint(\n",
    "            low=-1,\n",
    "            high=2,\n",
    "            size=(self.population_size, self.d)\n",
    "        )\n",
    "        \n",
    "        self.population = np.stack((self.population_angles, self.population_thrust), axis=2)\n",
    "        \n",
    "        # sigmas are only for angles\n",
    "        self.sigmas = np.random.uniform(  \n",
    "            low=0,\n",
    "            high=1,\n",
    "            size=(self.population_size, self.d)\n",
    "        )\n",
    "\n",
    "        self.cost = self.eval_f(self.population)\n",
    "        self.cost_history = []  # List[Tuple[min, mean, max]]\n",
    "        self.population_history = []  # List[np.ndarray]\n",
    "        self.sigmas_history = []  # List[np.ndarray]\n",
    "        self.best_individuals = []  # List[Tuple[np.ndarray, fitness]]\n",
    "\n",
    "    def parents_selection(self) -> np.ndarray:\n",
    "        fitness_values = self.cost\n",
    "        fitness_values = fitness_values - fitness_values.min()\n",
    "        if fitness_values.sum() > 0:\n",
    "            fitness_values = fitness_values / fitness_values.sum()\n",
    "        else:\n",
    "            fitness_values = np.ones(len(self.population)) / len(self.population)\n",
    "\n",
    "        ids = np.random.choice(\n",
    "            np.arange(self.population_size),\n",
    "            size=self.population_size,\n",
    "            replace=True,\n",
    "            p=fitness_values\n",
    "        )\n",
    "        return ids\n",
    "\n",
    "    \n",
    "    def crossover(self, ids) -> None:\n",
    "        self.population = self.population[ids]\n",
    "\n",
    "        \n",
    "    def mutation(self) -> None:\n",
    "        ''' ES algorithm based mutation '''\n",
    "\n",
    "        E = np.random.normal(0, self.tau1, size=self.sigmas.shape)\n",
    "        eps_o = np.random.normal(0, self.tau0)\n",
    "        self.sigmas *= np.exp(E + eps_o)\n",
    "        self.sigmas = self.sigmas.clip(-15, 15)\n",
    "        \n",
    "        # muatation for angles\n",
    "        self.population[:, :, 0] += np.random.normal(0, 1, size=self.sigmas.shape) * self.sigmas\n",
    "        self.population[:, :, 0] = self.population[:, :, 0].clip(-15, 15)\n",
    "        \n",
    "        # mutation for power\n",
    "        random_indices = np.random.randint(0, self.d, size=self.d)\n",
    "        self.population[:, :, 1][np.arange(self.population_size), random_indices] = np.random.randint(-1, 2, size=self.d)\n",
    "\n",
    "    \n",
    "    def run(self, iters: int, visualize_every=None) -> None:\n",
    "        for i in tqdm(range(iters), desc='ES(µ + λ)', position=0, leave=True):\n",
    "            parents_ids = self.parents_selection()\n",
    "            self.crossover(ids=parents_ids)\n",
    "            self.mutation()\n",
    "            self.cost = self.eval_f(self.population)\n",
    "\n",
    "            self.cost_history.append((self.cost.min(), self.cost.mean(), self.cost.max()))\n",
    "            self.population_history.append(self.population.copy())\n",
    "            \n",
    "            best_indi_id = self.cost.argmax()\n",
    "            self.sigmas_history.append(self.sigmas[best_indi_id])\n",
    "            self.best_individuals.append((self.population[best_indi_id], self.cost[best_indi_id]))\n",
    "\n",
    "\n",
    "    def plot_cost(self):\n",
    "        plt.figure(figsize=(15, 5))\n",
    "        plt.plot(np.array(self.cost_history))\n",
    "        best_id = np.array(self.cost_history)[:, 0].argmax()\n",
    "        best_val = np.array(self.cost_history)[:, 0][best_id]\n",
    "        plt.title(f'POPULATION SIZE: {self.population_size}  |  CHROMOSOME LEN: {self.d}  |  BEST_ITER: {best_id}  |  BEST VAL: {best_val :.3f}')\n",
    "        plt.legend(['Min', 'Mean', 'Max'], loc='upper right')\n",
    "\n",
    "    def plot_sigmas(self, mode=''):\n",
    "        plt.figure(figsize=(15, 5))\n",
    "        plt.title('Sigmas')\n",
    "        plt.plot(np.array(self.sigmas_history))"
   ]
  },
  {
   "cell_type": "markdown",
   "metadata": {},
   "source": [
    "1. Now I chose mu parents (do crossover) and mutate them\n",
    "2. Chose lambda children, mutate them, add them to parents, chose best from (mu + lambda) individuals\n",
    "3. Mix those 2 (?)"
   ]
  },
  {
   "cell_type": "code",
   "execution_count": 3,
   "metadata": {},
   "outputs": [],
   "source": [
    "SURFACE = np.array([(0, 100), (1000, 500), (1500, 1500), (3000, 1000), (4000, 150), (5500, 150), (6999, 800)])"
   ]
  },
  {
   "cell_type": "code",
   "execution_count": 4,
   "metadata": {},
   "outputs": [],
   "source": [
    "def create_point_surface(surface) -> dict:\n",
    "    n = len(surface)\n",
    "    \n",
    "    points_surface = {}\n",
    "    for i in range(n - 1):\n",
    "        x1, y1 = surface[i]\n",
    "        x2, y2 = surface[i + 1]\n",
    "        a = (y1 - y2) / (x1 - x2)\n",
    "        b = y1 - a * x1\n",
    "        assert b == y2 - a * x2\n",
    "        for x in range(x1, x2):\n",
    "            points_surface[x] = a * x + b\n",
    "            \n",
    "    return points_surface"
   ]
  },
  {
   "cell_type": "code",
   "execution_count": 5,
   "metadata": {},
   "outputs": [],
   "source": [
    "def next_state(\n",
    "    x: float, y: float, h_speed: float, v_speed: float, fuel: int, angle: int, power: int,\n",
    "    new_angle: int, new_power: int\n",
    "):\n",
    "    GRAVITY = -3.711\n",
    "    \n",
    "    power += new_power\n",
    "    power = max(0, power)\n",
    "    power = min(4, power)\n",
    "    assert power in [0, 1, 2, 3, 4], f'Wrong power: {power}'\n",
    "    \n",
    "    angle += new_angle\n",
    "    angle = max(-15, angle)\n",
    "    angle = min(15, angle)\n",
    "    assert -15 <= angle <= 15\n",
    "    \n",
    "    angle_radians = (angle * math.pi) / 180.0\n",
    "    a_h = -math.sin(angle_radians) * power\n",
    "    a_v = math.cos(angle_radians) * power + GRAVITY\n",
    "    \n",
    "    x += h_speed + a_h / 2.0\n",
    "    y += v_speed + a_v / 2.0\n",
    "    \n",
    "    h_speed += a_h\n",
    "    v_speed += a_v\n",
    "    \n",
    "    return x, y, h_speed, v_speed, fuel, angle, power"
   ]
  },
  {
   "cell_type": "code",
   "execution_count": 6,
   "metadata": {},
   "outputs": [],
   "source": [
    "# def ccw(A, B, C) -> bool:\n",
    "#     return (C[1] - A[1]) * (B[0] - A[0]) > (B[1] - A[1]) * (C[0] - A[0])\n",
    "\n",
    "# def intersect(A, B) -> bool:\n",
    "#     \"\"\" Return: True if intersect. \"\"\"\n",
    "#     for i in range(len(SURFACE) - 1):\n",
    "#         C = SURFACE[i]\n",
    "#         D = SURFACE[i + 1]\n",
    "        \n",
    "#         if ccw(A,C,D) != ccw(B,C,D) and ccw(A,B,C) != ccw(A,B,D):\n",
    "#             return True\n",
    "#     return False\n",
    "\n",
    "def intersect(point: tuple, point_surface: dict) -> bool:\n",
    "    \"\"\" Return: True if point intersects with surface. \"\"\"\n",
    "    x, y = point\n",
    "    surface_y = point_surface[int(x)]\n",
    "\n",
    "    return y <= surface_y"
   ]
  },
  {
   "cell_type": "code",
   "execution_count": 7,
   "metadata": {},
   "outputs": [],
   "source": [
    "def simmulate(\n",
    "    genotype: np.ndarray, \n",
    "    x: int, y: int, \n",
    "    h_speed: int, v_speed: int, \n",
    "    fuel: int, angle: int, power: int,\n",
    "    point_surface: list\n",
    "):\n",
    "    cords = [(x, y)]\n",
    "    \n",
    "#     print(f'x: {x:.1f}, y: {y:.1f}, speed: {(h_speed, v_speed)}, fuel: {fuel}, angle: {angle}, power: {power}')\n",
    "    for new_angle, new_power in genotype:\n",
    "        x2, y2, h_speed2, v_speed2, fuel2, angle2, power2 = next_state(\n",
    "            x=x, y=y, h_speed=h_speed, v_speed=v_speed, fuel=fuel, angle=angle, power=power,\n",
    "            new_angle=new_angle, new_power=new_power\n",
    "        )\n",
    "        if x2 < 0 or x2 > 6999 or y2 > 2700 or intersect(point=(x2, y2), point_surface=point_surface):\n",
    "#             print('INTERSECTION')\n",
    "            break\n",
    "        \n",
    "        x, y, h_speed, v_speed, fuel, angle, power = x2, y2, h_speed2, v_speed2, fuel2, angle2, power2\n",
    "        cords.append((x, y))\n",
    "#         print(f'x: {x:.1f}, y: {y:.1f}, speed: {(h_speed, v_speed)}, fuel: {fuel}, angle: {angle}, power: {power}')\n",
    "\n",
    "        \n",
    "    return -((x - 5000) ** 2), cords"
   ]
  },
  {
   "cell_type": "code",
   "execution_count": 8,
   "metadata": {},
   "outputs": [],
   "source": [
    "def objective_function(population, point_surface):\n",
    "    costs = []\n",
    "    for p in population:\n",
    "        cost = simmulate(\n",
    "            genotype=p, \n",
    "            x=2500, y=2700, \n",
    "            h_speed=0, v_speed=0,\n",
    "            fuel=550, angle=0, power=0,\n",
    "            point_surface=point_surface\n",
    "        )[0]\n",
    "        costs.append(cost)\n",
    "    return np.array(costs)"
   ]
  },
  {
   "cell_type": "code",
   "execution_count": 9,
   "metadata": {},
   "outputs": [
    {
     "data": {
      "text/plain": [
       "<matplotlib.collections.PathCollection at 0x1f4395bf748>"
      ]
     },
     "execution_count": 9,
     "metadata": {},
     "output_type": "execute_result"
    },
    {
     "data": {
      "image/png": "[encoded data removed]",
      "text/plain": [
       "<Figure size 1080x360 with 1 Axes>"
      ]
     },
     "metadata": {
      "needs_background": "light"
     },
     "output_type": "display_data"
    }
   ],
   "source": [
    "point_surface = create_point_surface(surface=SURFACE)\n",
    "\n",
    "plt.figure(figsize=(15, 5))\n",
    "plt.scatter(point_surface.keys(), point_surface.values(), alpha=0.3, edgecolors='black')\n"
   ]
  },
  {
   "cell_type": "code",
   "execution_count": 10,
   "metadata": {},
   "outputs": [
    {
     "data": {
      "image/png": "[encoded data removed]",
      "text/plain": [
       "<Figure size 1080x360 with 1 Axes>"
      ]
     },
     "metadata": {
      "needs_background": "light"
     },
     "output_type": "display_data"
    }
   ],
   "source": [
    "tmp = [(15, -1) for i in range(100)]\n",
    "# tmp = [(5, np.random.randint(-1, 2)) for i in range(100)]\n",
    "score, cords = simmulate(\n",
    "    genotype=tmp, \n",
    "    x=2500, y=2700, \n",
    "    h_speed=0, v_speed=0, \n",
    "    fuel=550, angle=0, power=0, \n",
    "    point_surface=point_surface\n",
    ")\n",
    "\n",
    "plt.figure(figsize=(15, 5))\n",
    "plt.plot(SURFACE[:, 0], SURFACE[:, 1], c='red')\n",
    "\n",
    "for x, y in cords:\n",
    "    plt.scatter(x, y, edgecolors='black', color='green')"
   ]
  },
  {
   "cell_type": "code",
   "execution_count": 11,
   "metadata": {},
   "outputs": [],
   "source": [
    "model = ES(\n",
    "    eval_f=lambda x: objective_function(population=x, point_surface=point_surface), \n",
    "    population_size=50, chromosome_len=60, K=0.9\n",
    ")"
   ]
  },
  {
   "cell_type": "code",
   "execution_count": 12,
   "metadata": {},
   "outputs": [
    {
     "name": "stderr",
     "output_type": "stream",
     "text": [
      "ES(µ + λ):   0%|                                                                               | 0/200 [00:00<?, ?it/s]\n"
     ]
    },
    {
     "ename": "AttributeError",
     "evalue": "'ES' object has no attribute 'chromosome_len'",
     "output_type": "error",
     "traceback": [
      "\u001b[1;31m---------------------------------------------------------------------------\u001b[0m",
      "\u001b[1;31mAttributeError\u001b[0m                            Traceback (most recent call last)",
      "\u001b[1;32m<ipython-input-12-7d5a21a3e3ea>\u001b[0m in \u001b[0;36m<module>\u001b[1;34m\u001b[0m\n\u001b[1;32m----> 1\u001b[1;33m \u001b[0mmodel\u001b[0m\u001b[1;33m.\u001b[0m\u001b[0mrun\u001b[0m\u001b[1;33m(\u001b[0m\u001b[0miters\u001b[0m\u001b[1;33m=\u001b[0m\u001b[1;36m200\u001b[0m\u001b[1;33m)\u001b[0m\u001b[1;33m\u001b[0m\u001b[1;33m\u001b[0m\u001b[0m\n\u001b[0m\u001b[0;32m      2\u001b[0m \u001b[0mmodel\u001b[0m\u001b[1;33m.\u001b[0m\u001b[0mplot_cost\u001b[0m\u001b[1;33m(\u001b[0m\u001b[1;33m)\u001b[0m\u001b[1;33m\u001b[0m\u001b[1;33m\u001b[0m\u001b[0m\n\u001b[0;32m      3\u001b[0m \u001b[0mmodel\u001b[0m\u001b[1;33m.\u001b[0m\u001b[0mplot_sigmas\u001b[0m\u001b[1;33m(\u001b[0m\u001b[1;33m)\u001b[0m\u001b[1;33m\u001b[0m\u001b[1;33m\u001b[0m\u001b[0m\n",
      "\u001b[1;32m<ipython-input-2-61f27db055a1>\u001b[0m in \u001b[0;36mrun\u001b[1;34m(self, iters, visualize_every)\u001b[0m\n\u001b[0;32m     98\u001b[0m             \u001b[0mparents_ids\u001b[0m \u001b[1;33m=\u001b[0m \u001b[0mself\u001b[0m\u001b[1;33m.\u001b[0m\u001b[0mparents_selection\u001b[0m\u001b[1;33m(\u001b[0m\u001b[1;33m)\u001b[0m\u001b[1;33m\u001b[0m\u001b[1;33m\u001b[0m\u001b[0m\n\u001b[0;32m     99\u001b[0m             \u001b[0mself\u001b[0m\u001b[1;33m.\u001b[0m\u001b[0mcrossover\u001b[0m\u001b[1;33m(\u001b[0m\u001b[0mids\u001b[0m\u001b[1;33m=\u001b[0m\u001b[0mparents_ids\u001b[0m\u001b[1;33m)\u001b[0m\u001b[1;33m\u001b[0m\u001b[1;33m\u001b[0m\u001b[0m\n\u001b[1;32m--> 100\u001b[1;33m             \u001b[0mself\u001b[0m\u001b[1;33m.\u001b[0m\u001b[0mmutation\u001b[0m\u001b[1;33m(\u001b[0m\u001b[1;33m)\u001b[0m\u001b[1;33m\u001b[0m\u001b[1;33m\u001b[0m\u001b[0m\n\u001b[0m\u001b[0;32m    101\u001b[0m             \u001b[0mself\u001b[0m\u001b[1;33m.\u001b[0m\u001b[0mcost\u001b[0m \u001b[1;33m=\u001b[0m \u001b[0mself\u001b[0m\u001b[1;33m.\u001b[0m\u001b[0meval_f\u001b[0m\u001b[1;33m(\u001b[0m\u001b[0mself\u001b[0m\u001b[1;33m.\u001b[0m\u001b[0mpopulation\u001b[0m\u001b[1;33m)\u001b[0m\u001b[1;33m\u001b[0m\u001b[1;33m\u001b[0m\u001b[0m\n\u001b[0;32m    102\u001b[0m \u001b[1;33m\u001b[0m\u001b[0m\n",
      "\u001b[1;32m<ipython-input-2-61f27db055a1>\u001b[0m in \u001b[0;36mmutation\u001b[1;34m(self)\u001b[0m\n\u001b[0;32m     90\u001b[0m \u001b[1;33m\u001b[0m\u001b[0m\n\u001b[0;32m     91\u001b[0m         \u001b[1;31m# mutation for power\u001b[0m\u001b[1;33m\u001b[0m\u001b[1;33m\u001b[0m\u001b[1;33m\u001b[0m\u001b[0m\n\u001b[1;32m---> 92\u001b[1;33m         \u001b[0mrandom_indices\u001b[0m \u001b[1;33m=\u001b[0m \u001b[0mnp\u001b[0m\u001b[1;33m.\u001b[0m\u001b[0mrandom\u001b[0m\u001b[1;33m.\u001b[0m\u001b[0mrandint\u001b[0m\u001b[1;33m(\u001b[0m\u001b[1;36m0\u001b[0m\u001b[1;33m,\u001b[0m \u001b[0mself\u001b[0m\u001b[1;33m.\u001b[0m\u001b[0mchromosome_len\u001b[0m\u001b[1;33m,\u001b[0m \u001b[0msize\u001b[0m\u001b[1;33m=\u001b[0m\u001b[0mself\u001b[0m\u001b[1;33m.\u001b[0m\u001b[0mchromosome_len\u001b[0m\u001b[1;33m)\u001b[0m\u001b[1;33m\u001b[0m\u001b[1;33m\u001b[0m\u001b[0m\n\u001b[0m\u001b[0;32m     93\u001b[0m         \u001b[0mself\u001b[0m\u001b[1;33m.\u001b[0m\u001b[0mpopulation\u001b[0m\u001b[1;33m[\u001b[0m\u001b[1;33m:\u001b[0m\u001b[1;33m,\u001b[0m \u001b[1;33m:\u001b[0m\u001b[1;33m,\u001b[0m \u001b[1;36m1\u001b[0m\u001b[1;33m]\u001b[0m\u001b[1;33m[\u001b[0m\u001b[0mnp\u001b[0m\u001b[1;33m.\u001b[0m\u001b[0marange\u001b[0m\u001b[1;33m(\u001b[0m\u001b[0mself\u001b[0m\u001b[1;33m.\u001b[0m\u001b[0mpopulation_size\u001b[0m\u001b[1;33m)\u001b[0m\u001b[1;33m,\u001b[0m \u001b[0mrandom_indices\u001b[0m\u001b[1;33m]\u001b[0m \u001b[1;33m=\u001b[0m \u001b[0mnp\u001b[0m\u001b[1;33m.\u001b[0m\u001b[0mrandom\u001b[0m\u001b[1;33m.\u001b[0m\u001b[0mrandint\u001b[0m\u001b[1;33m(\u001b[0m\u001b[1;33m-\u001b[0m\u001b[1;36m1\u001b[0m\u001b[1;33m,\u001b[0m \u001b[1;36m2\u001b[0m\u001b[1;33m,\u001b[0m \u001b[0msize\u001b[0m\u001b[1;33m=\u001b[0m\u001b[0mself\u001b[0m\u001b[1;33m.\u001b[0m\u001b[0mchromosome_len\u001b[0m\u001b[1;33m)\u001b[0m\u001b[1;33m\u001b[0m\u001b[1;33m\u001b[0m\u001b[0m\n\u001b[0;32m     94\u001b[0m \u001b[1;33m\u001b[0m\u001b[0m\n",
      "\u001b[1;31mAttributeError\u001b[0m: 'ES' object has no attribute 'chromosome_len'"
     ]
    }
   ],
   "source": [
    "model.run(iters=200)\n",
    "model.plot_cost()\n",
    "model.plot_sigmas()"
   ]
  },
  {
   "cell_type": "code",
   "execution_count": null,
   "metadata": {},
   "outputs": [],
   "source": [
    "for i, population in enumerate(model.best_individuals):\n",
    "    if not i % 5 == 0:\n",
    "        continue\n",
    "    clear_output(wait=True)\n",
    "    plt.figure(figsize=(15, 5))\n",
    "    plt.plot(SURFACE[:, 0], SURFACE[:, 1], c='red')\n",
    "    tmp = simmulate(\n",
    "        genotype=population[0], \n",
    "        x=2500, y=2700, \n",
    "        h_speed=0, v_speed=0, \n",
    "        fuel=550, angle=0, power=0, \n",
    "        point_surface=point_surface\n",
    "    )[1]\n",
    "    for x, y in tmp:\n",
    "        plt.scatter(x, y, edgecolors='black', color='green', alpha=0.6)\n",
    "    plt.title(f'{i + 1} / {len(model.best_individuals)}')\n",
    "    plt.show()"
   ]
  },
  {
   "cell_type": "code",
   "execution_count": null,
   "metadata": {},
   "outputs": [],
   "source": [
    "%%time\n",
    "\n",
    "plt.figure(figsize=(15, 5))\n",
    "plt.plot(SURFACE[:, 0], SURFACE[:, 1], c='red')\n",
    "\n",
    "for genotype in tqdm(model.population, leave=True, position=0):\n",
    "    tmp = simmulate(\n",
    "        genotype=genotype, \n",
    "        x=2500, y=2700, \n",
    "        h_speed=0, v_speed=0, \n",
    "        fuel=550, angle=0, power=0, \n",
    "        point_surface=point_surface\n",
    "    )[1]\n",
    "    for x, y in tmp:\n",
    "        plt.scatter(x, y, edgecolors='black', color='green', alpha=0.6)"
   ]
  },
  {
   "cell_type": "code",
   "execution_count": null,
   "metadata": {},
   "outputs": [],
   "source": [
    "model.population[:, :, 0].shape\n"
   ]
  },
  {
   "cell_type": "code",
   "execution_count": null,
   "metadata": {},
   "outputs": [],
   "source": [
    "a = np.arange(5 * 6).reshape(5, 6)\n",
    "a"
   ]
  },
  {
   "cell_type": "code",
   "execution_count": null,
   "metadata": {},
   "outputs": [],
   "source": [
    "b = np.random.randint(0, 6, 5)\n",
    "b"
   ]
  },
  {
   "cell_type": "code",
   "execution_count": null,
   "metadata": {},
   "outputs": [],
   "source": [
    "np.random.randint(0, 2, size=a.shape)"
   ]
  },
  {
   "cell_type": "code",
   "execution_count": null,
   "metadata": {},
   "outputs": [],
   "source": [
    "np.choose([0, 1, 0, 0], [[1, 2, 3, 4], [4, 5, 6, 7]])"
   ]
  },
  {
   "cell_type": "code",
   "execution_count": null,
   "metadata": {},
   "outputs": [],
   "source": [
    "a[np.arange(a.shape[0]), np.random.randint(0, a.shape[0], size=a.shape[0])]"
   ]
  },
  {
   "cell_type": "code",
   "execution_count": null,
   "metadata": {},
   "outputs": [],
   "source": []
  },
  {
   "cell_type": "code",
   "execution_count": null,
   "metadata": {},
   "outputs": [],
   "source": []
  },
  {
   "cell_type": "code",
   "execution_count": null,
   "metadata": {},
   "outputs": [],
   "source": [
    "a = np.random.randint(-1, 2, 10)\n",
    "a"
   ]
  },
  {
   "cell_type": "code",
   "execution_count": null,
   "metadata": {},
   "outputs": [],
   "source": [
    "b = (np.random.rand(10) < 0.5)\n",
    "b"
   ]
  },
  {
   "cell_type": "code",
   "execution_count": null,
   "metadata": {},
   "outputs": [],
   "source": [
    "tmp = a[b]"
   ]
  },
  {
   "cell_type": "code",
   "execution_count": null,
   "metadata": {},
   "outputs": [],
   "source": [
    "a"
   ]
  },
  {
   "cell_type": "code",
   "execution_count": null,
   "metadata": {},
   "outputs": [],
   "source": [
    "tmp = 32"
   ]
  },
  {
   "cell_type": "code",
   "execution_count": null,
   "metadata": {},
   "outputs": [],
   "source": [
    "a"
   ]
  },
  {
   "cell_type": "code",
   "execution_count": null,
   "metadata": {},
   "outputs": [],
   "source": [
    "a[b] *= -1\n",
    "a"
   ]
  },
  {
   "cell_type": "code",
   "execution_count": null,
   "metadata": {},
   "outputs": [],
   "source": []
  }
 ],
 "metadata": {
  "kernelspec": {
   "display_name": "Python 3",
   "language": "python",
   "name": "python3"
  },
  "language_info": {
   "codemirror_mode": {
    "name": "ipython",
    "version": 3
   },
   "file_extension": ".py",
   "mimetype": "text/x-python",
   "name": "python",
   "nbconvert_exporter": "python",
   "pygments_lexer": "ipython3",
   "version": "3.7.3"
  }
 },
 "nbformat": 4,
 "nbformat_minor": 4
}
