{
 "cells": [
  {
   "cell_type": "code",
   "execution_count": 3,
   "metadata": {},
   "outputs": [],
   "source": [
    "import sys\n",
    "import os\n",
    "import numpy as np\n",
    "import matplotlib.pyplot as plt\n",
    "from tqdm import tqdm \n",
    "\n",
    "%config IPCompleter.greedy=True"
   ]
  },
  {
   "cell_type": "code",
   "execution_count": 182,
   "metadata": {},
   "outputs": [],
   "source": [
    "class ES:\n",
    "    def __init__(self, eval_f, population_size, chromosome_len=20, K=0.9, tau0=None, tau1=None):\n",
    "        '''\n",
    "        Args:\n",
    "            population_size : int\n",
    "                Number of cars in the population\n",
    "            chromosome_len : int\n",
    "                Length of the list, which is our answer for the problem\n",
    "            K : int\n",
    "                Kind of learning rate parameter\n",
    "        '''\n",
    "\n",
    "        self.eval_f = eval_f\n",
    "        self.population_size: int = population_size\n",
    "        self.d: int = chromosome_len\n",
    "        self.K: float = K\n",
    "        self.tau0: float = tau0\n",
    "        self.tau1: float = tau1\n",
    "\n",
    "        if self.tau0 is None:\n",
    "            self.tau0 = K / np.sqrt(2 * np.sqrt(self.d))\n",
    "\n",
    "        if self.tau1 is None:\n",
    "            self.tau1 = K / np.sqrt(2 * self.d)\n",
    "\n",
    "        self.population_angles = np.random.uniform(\n",
    "            low=-15,\n",
    "            high=16,\n",
    "            size=(self.population_size, self.d)\n",
    "        )\n",
    "        # 1 - increase thrust | 0 - nothing | -1 - decrease thrust\n",
    "        self.population_thrust = np.random.randint(\n",
    "            low=-1,\n",
    "            high=2,\n",
    "            size=(self.population_size, self.d)\n",
    "        )\n",
    "        \n",
    "        self.population = np.stack((self.population_angles, self.population_thrust), axis=2)\n",
    "        \n",
    "        self.sigmas = np.random.uniform(\n",
    "            low=0,\n",
    "            high=1,\n",
    "            size=(self.population_size, self.d, 2)\n",
    "        )\n",
    "\n",
    "        self.cost = self.eval_f(self.population)\n",
    "        self.cost_history = []  # List[Tuple[min, mean, max]]\n",
    "        self.population_history = []  # List[np.ndarray]\n",
    "        self.sigmas_history = []  # List[np.ndarray]\n",
    "        self.best_individuals = []  # List[Tuple[np.ndarray, fitness]]\n",
    "\n",
    "    def parents_selection(self) -> np.ndarray:\n",
    "        fitness_values = self.cost\n",
    "        fitness_values = fitness_values - fitness_values.min()\n",
    "        if fitness_values.sum() > 0:\n",
    "            fitness_values = fitness_values / fitness_values.sum()\n",
    "        else:\n",
    "            fitness_values = np.ones(len(self.population)) / len(self.population)\n",
    "\n",
    "        ids = np.random.choice(\n",
    "            np.arange(self.population_size),\n",
    "            size=self.population_size,\n",
    "            replace=True,\n",
    "            p=fitness_values\n",
    "        )\n",
    "        return ids\n",
    "\n",
    "    \n",
    "    def crossover(self, ids) -> None:\n",
    "        self.population = self.population[ids]\n",
    "\n",
    "        \n",
    "    def mutation(self) -> None:\n",
    "        ''' ES algorithm based mutation '''\n",
    "        X = self.population\n",
    "        Sigmas = self.sigmas\n",
    "\n",
    "        E = np.random.normal(0, self.tau1, size=Sigmas.shape)\n",
    "        eps_o = np.random.normal(0, self.tau0)\n",
    "        Sigmas *= np.exp(E + eps_o)\n",
    "\n",
    "        self.population = X + np.random.normal(0, 1, size=Sigmas.shape) * Sigmas\n",
    "        assert (self.sigmas == Sigmas).all()\n",
    "\n",
    "    \n",
    "    def run(self, iters: int) -> None:\n",
    "        for i in tqdm(range(iters), desc='ES(µ + λ)', position=0, leave=True):\n",
    "            parents_ids = self.parents_selection()\n",
    "            self.crossover(ids=parents_ids)\n",
    "            self.mutation()\n",
    "            self.cost = self.eval_f(self.population)\n",
    "\n",
    "            self.cost_history.append((self.cost.min(), self.cost.mean(), self.cost.max()))\n",
    "            self.population_history.append(self.population.copy())\n",
    "            self.sigmas_history.append(self.sigmas.copy())\n",
    "\n",
    "            best_indi_id = self.cost.argmin()\n",
    "            self.best_individuals.append((self.population[best_indi_id], self.cost[best_indi_id]))\n",
    "  \n",
    "\n",
    "    def plot_cost(self):\n",
    "        self.cost_history = np.array(self.cost_history)\n",
    "        plt.figure(figsize=(15, 5))\n",
    "        plt.plot(self.cost_history)\n",
    "        maxi_id = self.cost_history[:, 0].argmax()\n",
    "        maxi_val = self.cost_history[:, 0][maxi_id]\n",
    "        plt.title(f'POPULATION SIZE: {self.population_size}  |  CHROMOSOME LEN: {self.d}  |  BEST_ITER: {maxi_id}  |  MAX: {maxi_val :.3f}')\n",
    "        plt.legend(['Min', 'Mean', 'Max'], loc='upper right')\n",
    "\n",
    "    def plot_sigmas(self, sigmas, mode=''):\n",
    "        plt.figure(figsize=(15, 5))\n",
    "        plt.title('Sigmas')\n",
    "        plt.plot(sigmas)"
   ]
  },
  {
   "cell_type": "markdown",
   "metadata": {},
   "source": [
    "1. Now I chose mu parents (do crossover) and mutate them\n",
    "2. Chose lambda children, mutate them, add them to parents, chose best from (mu + lambda) individuals\n",
    "3. Mix those 2 (?)"
   ]
  },
  {
   "cell_type": "code",
   "execution_count": 198,
   "metadata": {},
   "outputs": [],
   "source": [
    "SURFACE = np.array([(0, 100), (1000, 500), (1500, 1500), (3000, 1000), (4000, 150), (5500, 150), (6999, 800)])"
   ]
  },
  {
   "cell_type": "code",
   "execution_count": 398,
   "metadata": {},
   "outputs": [],
   "source": [
    "def next_state(\n",
    "    x: float, y: float, h_speed: float, v_speed: float, fuel: int, angle: int, power: int,\n",
    "    new_angle: int, new_power: int\n",
    "):\n",
    "    GRAVITY = -3.711\n",
    "    \n",
    "    if new_power > power:\n",
    "        power += 1\n",
    "        \n",
    "    if new_power < power:\n",
    "        power -= 1\n",
    "        \n",
    "    if new_angle > angle:\n",
    "        angle += min(15, new_angle - angle)\n",
    "        \n",
    "    if new_angle < angle:\n",
    "        angle -= min(15, angle - new_angle)\n",
    "    \n",
    "    power = min(fuel, power)\n",
    "    fuel -= power\n",
    "    \n",
    "    angle_radians = (angle * math.pi) / 180.0\n",
    "    a_h = -math.sin(angle_radians) * power\n",
    "    a_v = math.cos(angle_radians) * power + GRAVITY\n",
    "    \n",
    "    x += h_speed + a_h / 2.0\n",
    "    y += v_speed + a_v / 2.0\n",
    "    \n",
    "    h_speed += a_h\n",
    "    v_speed += a_v\n",
    "    \n",
    "    return x, y, h_speed, v_speed, fuel, angle, power"
   ]
  },
  {
   "cell_type": "code",
   "execution_count": 405,
   "metadata": {},
   "outputs": [],
   "source": [
    "def ccw(A, B, C) -> bool:\n",
    "    return (C[1] - A[1]) * (B[0] - A[0]) > (B[1] - A[1]) * (C[0] - A[0])\n",
    "\n",
    "def intersect(A, B) -> bool:\n",
    "    \"\"\" Return: True if intersect. \"\"\"\n",
    "    for i in range(len(SURFACE) - 1):\n",
    "        C = SURFACE[i]\n",
    "        D = SURFACE[i + 1]\n",
    "        \n",
    "        if ccw(A,C,D) != ccw(B,C,D) and ccw(A,B,C) != ccw(A,B,D):\n",
    "            return True\n",
    "    return False"
   ]
  },
  {
   "cell_type": "code",
   "execution_count": 487,
   "metadata": {},
   "outputs": [],
   "source": [
    "def simmulate(genotype: np.ndarray, x: int, y: int, h_speed: int, v_speed: int, fuel: int, angle: int, power: int):\n",
    "    cords = [(x, y)]\n",
    "    \n",
    "#     print(f'x: {x:.1f}, y: {y:.1f}, speed: {(h_speed, v_speed)}, fuel: {fuel}, angle: {angle}, power: {power}')\n",
    "    for new_angle, new_power in genotype:\n",
    "        x2, y2, h_speed2, v_speed2, fuel2, angle2, power2 = next_state(\n",
    "            x=x, y=y, h_speed=h_speed, v_speed=v_speed, fuel=fuel, angle=angle, power=power,\n",
    "            new_angle=new_angle, new_power=new_power\n",
    "        )\n",
    "        if x < 0 or x > 6999 or y > 2700 or intersect((x, y), (x2, y2)):\n",
    "#             print('INTERSECTION')\n",
    "            break\n",
    "        \n",
    "        x, y, h_speed, v_speed, fuel, angle, power = x2, y2, h_speed2, v_speed2, fuel2, angle2, power2\n",
    "        cords.append((x, y))\n",
    "#         print(f'x: {x:.1f}, y: {y:.1f}, speed: {(h_speed, v_speed)}, fuel: {fuel}, angle: {angle}, power: {power}')\n",
    "\n",
    "        \n",
    "    return - ((x - 5000) ** 2 + (y - 150) ** 2), cords"
   ]
  },
  {
   "cell_type": "code",
   "execution_count": 488,
   "metadata": {},
   "outputs": [],
   "source": [
    "def objective_function(population):\n",
    "    costs = []\n",
    "    for p in population:\n",
    "        cost = simmulate(genotype=p, x=2500, y=2700, h_speed=0, v_speed=0, fuel=550, angle=0, power=0)[0]\n",
    "        costs.append(cost)\n",
    "    return np.array(costs)"
   ]
  },
  {
   "cell_type": "code",
   "execution_count": 489,
   "metadata": {},
   "outputs": [],
   "source": [
    "tmp = [(-45, 3) for _ in range(100)]\n",
    "score, cords = simmulate(genotype=tmp, x=2500, y=2700, h_speed=0, v_speed=0, fuel=550, angle=0, power=0)"
   ]
  },
  {
   "cell_type": "code",
   "execution_count": 490,
   "metadata": {},
   "outputs": [
    {
     "data": {
      "image/png": "[encoded data removed]",
      "text/plain": [
       "<Figure size 1080x360 with 1 Axes>"
      ]
     },
     "metadata": {
      "needs_background": "light"
     },
     "output_type": "display_data"
    }
   ],
   "source": [
    "plt.figure(figsize=(15, 5))\n",
    "plt.plot(SURFACE[:, 0], SURFACE[:, 1], c='red')\n",
    "\n",
    "for x, y in cords:\n",
    "    plt.scatter(x, y, edgecolors='black', color='green')"
   ]
  },
  {
   "cell_type": "code",
   "execution_count": 491,
   "metadata": {},
   "outputs": [],
   "source": [
    "model = ES(eval_f=objective_function, population_size=10, chromosome_len=5, K=0.9)"
   ]
  },
  {
   "cell_type": "code",
   "execution_count": 492,
   "metadata": {},
   "outputs": [
    {
     "name": "stderr",
     "output_type": "stream",
     "text": [
      "ES(µ + λ): 100%|██████████████████████████████████████████████████████████████████| 1000/1000 [00:04<00:00, 213.23it/s]\n"
     ]
    }
   ],
   "source": [
    "model.run(iters=1000)"
   ]
  },
  {
   "cell_type": "code",
   "execution_count": 493,
   "metadata": {},
   "outputs": [
    {
     "name": "stderr",
     "output_type": "stream",
     "text": [
      "100%|██████████████████████████████████████████████████████████████████████████████| 1000/1000 [00:17<00:00, 57.44it/s]\n"
     ]
    },
    {
     "data": {
      "image/png": "[encoded data removed]",
      "text/plain": [
       "<Figure size 1080x360 with 1 Axes>"
      ]
     },
     "metadata": {
      "needs_background": "light"
     },
     "output_type": "display_data"
    }
   ],
   "source": [
    "plt.figure(figsize=(15, 5))\n",
    "plt.plot(SURFACE[:, 0], SURFACE[:, 1], c='red')\n",
    "\n",
    "for ans in tqdm(model.best_individuals):\n",
    "    tmp = simmulate(genotype=ans[0], x=2500, y=2700, h_speed=0, v_speed=0, fuel=550, angle=0, power=0)[1]\n",
    "    for x, y in tmp:\n",
    "        plt.scatter(x, y, edgecolors='black', color='blue', alpha=0.6)"
   ]
  },
  {
   "cell_type": "code",
   "execution_count": null,
   "metadata": {},
   "outputs": [],
   "source": []
  }
 ],
 "metadata": {
  "kernelspec": {
   "display_name": "Python 3",
   "language": "python",
   "name": "python3"
  },
  "language_info": {
   "codemirror_mode": {
    "name": "ipython",
    "version": 3
   },
   "file_extension": ".py",
   "mimetype": "text/x-python",
   "name": "python",
   "nbconvert_exporter": "python",
   "pygments_lexer": "ipython3",
   "version": "3.7.3"
  }
 },
 "nbformat": 4,
 "nbformat_minor": 4
}
