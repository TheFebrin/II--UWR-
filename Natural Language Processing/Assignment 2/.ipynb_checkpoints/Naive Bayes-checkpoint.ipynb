{
 "cells": [
  {
   "cell_type": "code",
   "execution_count": 1,
   "metadata": {},
   "outputs": [],
   "source": [
    "import sys\n",
    "import os\n",
    "import re\n",
    "import numpy as np\n",
    "import matplotlib.pyplot as plt\n",
    "from tqdm import tqdm \n",
    "from collections import OrderedDict \n",
    "from operator import itemgetter\n",
    "from collections import Counter\n",
    "import itertools\n",
    "from sklearn.metrics import confusion_matrix\n",
    "from sklearn.model_selection import train_test_split\n",
    "\n",
    "%config IPCompleter.greedy=True"
   ]
  },
  {
   "cell_type": "markdown",
   "metadata": {},
   "source": [
    "## 1. Read data and split in train and valid"
   ]
  },
  {
   "cell_type": "code",
   "execution_count": 2,
   "metadata": {},
   "outputs": [],
   "source": [
    "with open('dane_pozytywistyczne/korpus_orzeszkowej.txt', encoding='UTF-8') as f:\n",
    "    orzeszkowa = [x for x in f.readlines() if len(x) > 1]\n",
    "    \n",
    "with open('dane_pozytywistyczne/korpus_prusa.txt', encoding='UTF-8') as f:\n",
    "    prus = [x for x in f.readlines() if len(x) > 1]\n",
    "    \n",
    "with open('dane_pozytywistyczne/korpus_sienkiewicza.txt', encoding='UTF-8') as f:\n",
    "    sienkiewicz = [x for x in f.readlines() if len(x) > 1]"
   ]
  },
  {
   "cell_type": "code",
   "execution_count": 3,
   "metadata": {},
   "outputs": [
    {
     "data": {
      "text/plain": [
       "(6291, 8323, 2615)"
      ]
     },
     "execution_count": 3,
     "metadata": {},
     "output_type": "execute_result"
    }
   ],
   "source": [
    "len(orzeszkowa), len(prus), len(sienkiewicz)"
   ]
  },
  {
   "cell_type": "code",
   "execution_count": 4,
   "metadata": {},
   "outputs": [],
   "source": [
    "train_O, test_O = train_test_split(orzeszkowa, test_size=0.33, random_state=42)\n",
    "train_P, test_P = train_test_split(prus, test_size=0.33, random_state=42)\n",
    "train_S, test_S = train_test_split(sienkiewicz, test_size=0.33, random_state=42)"
   ]
  },
  {
   "cell_type": "markdown",
   "metadata": {},
   "source": [
    "## 2. Create normalized lookup tables for Naive Bayes"
   ]
  },
  {
   "cell_type": "code",
   "execution_count": 5,
   "metadata": {},
   "outputs": [],
   "source": [
    "def regex(line: str) -> str:\n",
    "    return re.sub(r'[^\\w\\s]', '', line).strip().lower().split()\n",
    "#     return re.sub(r'[\\W+]', '', line).strip().lower()\n",
    "\n",
    "def preprocess(train: list):\n",
    "    return list(itertools.chain.from_iterable([regex(line) for line in train]))\n",
    "#     return ''.join([regex(line) for line in train if len(line) > 1])"
   ]
  },
  {
   "cell_type": "code",
   "execution_count": 6,
   "metadata": {},
   "outputs": [],
   "source": [
    "all_text_in_one_string = preprocess(train=train_O) + preprocess(train=train_P) + preprocess(train=train_S)\n",
    "all_letters = set(all_text_in_one_string)"
   ]
  },
  {
   "cell_type": "code",
   "execution_count": 7,
   "metadata": {},
   "outputs": [],
   "source": [
    "train_O_letters_occurencies = Counter(preprocess(train=train_O))\n",
    "train_P_letters_occurencies = Counter(preprocess(train=train_P))\n",
    "train_S_letters_occurencies = Counter(preprocess(train=train_S))\n",
    "\n",
    "train_O_letters_occurencies = {k: v / sum(train_O_letters_occurencies.values()) \n",
    "                                for k, v in train_O_letters_occurencies.items()}\n",
    "\n",
    "train_P_letters_occurencies = {k: v / sum(train_P_letters_occurencies.values()) \n",
    "                                for k, v in train_P_letters_occurencies.items()}\n",
    "\n",
    "train_S_letters_occurencies = {k: v / sum(train_S_letters_occurencies.values()) \n",
    "                                for k, v in train_S_letters_occurencies.items()}\n",
    "\n",
    "languages = [\n",
    "    train_O_letters_occurencies,\n",
    "    train_P_letters_occurencies,\n",
    "    train_S_letters_occurencies\n",
    "]\n",
    "\n",
    "names = ['Orzeszkowa', 'Prus', 'Sienkiewicz']"
   ]
  },
  {
   "cell_type": "markdown",
   "metadata": {},
   "source": [
    "## 3. Naive Bayes model"
   ]
  },
  {
   "cell_type": "code",
   "execution_count": 8,
   "metadata": {},
   "outputs": [],
   "source": [
    "def naive_bayes(sentence: str, languages: list = languages, names: list = names):\n",
    "    \"\"\"\n",
    "    Returns the most probable language of a sentence\n",
    "    \n",
    "    :param languages: List of dictionaries\n",
    "    :param names: Names of those languages\n",
    "    \"\"\"\n",
    "    \n",
    "    sentence = regex(line=sentence)\n",
    "\n",
    "    log_probs = {}\n",
    "    Z = 0.0\n",
    "    for i, lang in enumerate(languages):\n",
    "        P_DC = np.sum(np.array(([np.log(lang[x]) if x in lang else np.log(1e-18) for x in sentence])))\n",
    "        P_DC = np.exp(P_DC)\n",
    "        log_probs[names[i]] = P_DC * (1 / len(languages))\n",
    "        Z += log_probs[names[i]]\n",
    "        \n",
    "    for x in log_probs:\n",
    "        log_probs[x] /= (Z + 1e-18)\n",
    "        \n",
    "    # TODO compute language probabilitie and order from most to least probable\n",
    "    probs = OrderedDict(reversed(sorted(log_probs.items(), key=itemgetter(1))))\n",
    "    return probs"
   ]
  },
  {
   "cell_type": "code",
   "execution_count": 9,
   "metadata": {},
   "outputs": [
    {
     "data": {
      "text/plain": [
       "OrderedDict([('Sienkiewicz', 0.9906483844720596),\n",
       "             ('Prus', 2.7340558462639588e-15),\n",
       "             ('Orzeszkowa', 2.310399623751893e-15)])"
      ]
     },
     "execution_count": 9,
     "metadata": {},
     "output_type": "execute_result"
    }
   ],
   "source": [
    "naive_bayes(\n",
    "    sentence='W dwa miesiące potem Marysia', \n",
    "    languages=languages, \n",
    "    names=names\n",
    ")"
   ]
  },
  {
   "cell_type": "code",
   "execution_count": 10,
   "metadata": {},
   "outputs": [
    {
     "data": {
      "text/plain": [
       "OrderedDict([('Prus', 4.299640558205488e-30),\n",
       "             ('Orzeszkowa', 4.125905761418803e-30),\n",
       "             ('Sienkiewicz', 2.5972229690104778e-43)])"
      ]
     },
     "execution_count": 10,
     "metadata": {},
     "output_type": "execute_result"
    }
   ],
   "source": [
    "naive_bayes(\n",
    "    sentence='Przetwarzanie języka to fajny przedmiot', \n",
    "    languages=languages, \n",
    "    names=names\n",
    ")"
   ]
  },
  {
   "cell_type": "code",
   "execution_count": 11,
   "metadata": {},
   "outputs": [
    {
     "data": {
      "text/plain": [
       "OrderedDict([('Orzeszkowa', 5.462677595915203e-35),\n",
       "             ('Prus', 4.299640558205432e-48),\n",
       "             ('Sienkiewicz', 2.5972229690104077e-61)])"
      ]
     },
     "execution_count": 11,
     "metadata": {},
     "output_type": "execute_result"
    }
   ],
   "source": [
    "naive_bayes(\n",
    "    sentence='Przetwarzanie języka naturalnego to fajny przedmiot', \n",
    "    languages=languages, \n",
    "    names=names\n",
    ")"
   ]
  },
  {
   "cell_type": "markdown",
   "metadata": {},
   "source": [
    "## 4. Validate accuracy\n",
    "\n",
    "NB: Using only letters accuracy was 24%, 47%, 50% for Orzeszkowa, Prus and Sienkiewicz"
   ]
  },
  {
   "cell_type": "code",
   "execution_count": 12,
   "metadata": {},
   "outputs": [
    {
     "data": {
      "text/plain": [
       "73.32691381800674"
      ]
     },
     "execution_count": 12,
     "metadata": {},
     "output_type": "execute_result"
    }
   ],
   "source": [
    "classify_O = [next(iter(naive_bayes(x))) for x in test_O]\n",
    "accuracy_O = classify_O.count('Orzeszkowa') / len(classify_O)\n",
    "accuracy_O * 100"
   ]
  },
  {
   "cell_type": "code",
   "execution_count": 13,
   "metadata": {},
   "outputs": [
    {
     "data": {
      "text/plain": [
       "79.06807426283218"
      ]
     },
     "execution_count": 13,
     "metadata": {},
     "output_type": "execute_result"
    }
   ],
   "source": [
    "classify_P = [next(iter(naive_bayes(x))) for x in test_P]\n",
    "accuracy_P = classify_P.count('Prus') / len(classify_P)\n",
    "accuracy_P * 100"
   ]
  },
  {
   "cell_type": "code",
   "execution_count": 14,
   "metadata": {},
   "outputs": [
    {
     "data": {
      "text/plain": [
       "69.17728852838934"
      ]
     },
     "execution_count": 14,
     "metadata": {},
     "output_type": "execute_result"
    }
   ],
   "source": [
    "classify_S = [next(iter(naive_bayes(x))) for x in test_S]\n",
    "accuracy_S = classify_S.count('Sienkiewicz') / len(classify_S)\n",
    "accuracy_S * 100"
   ]
  },
  {
   "cell_type": "code",
   "execution_count": 15,
   "metadata": {},
   "outputs": [
    {
     "name": "stdout",
     "output_type": "stream",
     "text": [
      "Confusion matrix:\n"
     ]
    },
    {
     "data": {
      "text/plain": [
       "array([[1523,  211,  343],\n",
       "       [ 290, 2172,  285],\n",
       "       [ 118,  148,  597]], dtype=int64)"
      ]
     },
     "execution_count": 15,
     "metadata": {},
     "output_type": "execute_result"
    }
   ],
   "source": [
    "print('Confusion matrix:')\n",
    "\n",
    "CM = confusion_matrix(\n",
    "    ['Orzeszkowa'] * len(classify_O) + ['Prus'] * len(classify_P) + ['Sienkiewicz'] * len(classify_S), \n",
    "    classify_O + classify_P + classify_S\n",
    ")\n",
    "CM"
   ]
  },
  {
   "cell_type": "code",
   "execution_count": 16,
   "metadata": {},
   "outputs": [
    {
     "name": "stdout",
     "output_type": "stream",
     "text": [
      "Confusion matrix in percentages:\n"
     ]
    },
    {
     "data": {
      "text/plain": [
       "array([[73, 10, 16],\n",
       "       [10, 79, 10],\n",
       "       [13, 17, 69]])"
      ]
     },
     "execution_count": 16,
     "metadata": {},
     "output_type": "execute_result"
    }
   ],
   "source": [
    "print('Confusion matrix in percentages:')\n",
    "\n",
    "(CM / CM.sum(axis=1)[:, np.newaxis] * 100).astype(np.int)"
   ]
  },
  {
   "cell_type": "code",
   "execution_count": 17,
   "metadata": {},
   "outputs": [
    {
     "name": "stdout",
     "output_type": "stream",
     "text": [
      "Total accuracy: \n",
      "75.47037102162828\n"
     ]
    }
   ],
   "source": [
    "print('Total accuracy: ')\n",
    "\n",
    "print(np.diag(CM).sum() / CM.sum() * 100)"
   ]
  },
  {
   "cell_type": "markdown",
   "metadata": {},
   "source": [
    "## Validate on another tests"
   ]
  },
  {
   "cell_type": "code",
   "execution_count": 18,
   "metadata": {},
   "outputs": [],
   "source": [
    "valid_O, valid_P, valid_S = [], [], []\n",
    "\n",
    "path = 'dane_pozytywistyczne/testy1'\n",
    "for file_name in os.listdir(path):\n",
    "    if file_name.find('orzeszkowej') != -1:\n",
    "        with open(path + '/' + file_name, encoding='UTF-8') as f:\n",
    "            valid_O.append([x for x in f.readlines() if len(x) > 1])\n",
    "    \n",
    "    if file_name.find('prus') != -1:\n",
    "        with open(path + '/' + file_name, encoding='UTF-8') as f:\n",
    "            valid_P.append([x for x in f.readlines() if len(x) > 1])\n",
    "    \n",
    "    if file_name.find('sienkiewicz') != -1:\n",
    "        with open(path + '/' + file_name, encoding='UTF-8') as f:\n",
    "            valid_S.append([x for x in f.readlines() if len(x) > 1])"
   ]
  },
  {
   "cell_type": "code",
   "execution_count": 19,
   "metadata": {},
   "outputs": [
    {
     "data": {
      "text/plain": [
       "OrderedDict([('Prus', 4.268399789214876e-21),\n",
       "             ('Orzeszkowa', 3.621125660342394e-21),\n",
       "             ('Sienkiewicz', 3.594389432622781e-21)])"
      ]
     },
     "execution_count": 19,
     "metadata": {},
     "output_type": "execute_result"
    }
   ],
   "source": [
    "naive_bayes(valid_O[0][0])"
   ]
  },
  {
   "cell_type": "code",
   "execution_count": 20,
   "metadata": {},
   "outputs": [],
   "source": [
    "valid_O = [\n",
    "    sentence \n",
    "    for text in valid_O \n",
    "        for line in text \n",
    "            for sentence in line.split('.') \n",
    "                if len(sentence) > 1\n",
    "]\n",
    "\n",
    "valid_P = [\n",
    "    sentence \n",
    "    for text in valid_P \n",
    "        for line in text \n",
    "            for sentence in line.split('.') \n",
    "                if len(sentence) > 1\n",
    "]\n",
    "\n",
    "valid_S = [\n",
    "    sentence \n",
    "    for text in valid_S \n",
    "        for line in text \n",
    "            for sentence in line.split('.') \n",
    "                if len(sentence) > 1\n",
    "]"
   ]
  },
  {
   "cell_type": "code",
   "execution_count": 21,
   "metadata": {},
   "outputs": [
    {
     "data": {
      "text/plain": [
       "59.854014598540154"
      ]
     },
     "execution_count": 21,
     "metadata": {},
     "output_type": "execute_result"
    }
   ],
   "source": [
    "classify_valid_O = [next(iter(naive_bayes(sentence))) for sentence in valid_O]\n",
    "accuracy_valid_O = classify_valid_O.count('Orzeszkowa') / len(classify_valid_O)\n",
    "accuracy_valid_O * 100"
   ]
  },
  {
   "cell_type": "code",
   "execution_count": 22,
   "metadata": {},
   "outputs": [
    {
     "data": {
      "text/plain": [
       "10.12970969734404"
      ]
     },
     "execution_count": 22,
     "metadata": {},
     "output_type": "execute_result"
    }
   ],
   "source": [
    "classify_valid_P = [next(iter(naive_bayes(line))) for line in valid_P]\n",
    "accuracy_valid_P = classify_valid_O.count('Prus') / len(classify_valid_P)\n",
    "accuracy_valid_P * 100"
   ]
  },
  {
   "cell_type": "code",
   "execution_count": 23,
   "metadata": {},
   "outputs": [
    {
     "data": {
      "text/plain": [
       "50.36420395421436"
      ]
     },
     "execution_count": 23,
     "metadata": {},
     "output_type": "execute_result"
    }
   ],
   "source": [
    "classify_valid_S = [next(iter(naive_bayes(line))) for line in valid_S]\n",
    "accuracy_valid_S = classify_valid_S.count('Prus') / len(classify_valid_S)\n",
    "accuracy_valid_S * 100"
   ]
  },
  {
   "cell_type": "code",
   "execution_count": 24,
   "metadata": {},
   "outputs": [
    {
     "name": "stdout",
     "output_type": "stream",
     "text": [
      "Confusion matrix:\n"
     ]
    },
    {
     "data": {
      "text/plain": [
       "array([[ 410,  164,  111],\n",
       "       [ 209, 1215,  195],\n",
       "       [ 424,  968,  530]], dtype=int64)"
      ]
     },
     "execution_count": 24,
     "metadata": {},
     "output_type": "execute_result"
    }
   ],
   "source": [
    "print('Confusion matrix:')\n",
    "\n",
    "CM = confusion_matrix(\n",
    "    ['Orzeszkowa'] * len(classify_valid_O) + ['Prus'] * len(classify_valid_P) + ['Sienkiewicz'] * len(classify_valid_S), \n",
    "    classify_valid_O + classify_valid_P + classify_valid_S\n",
    ")\n",
    "CM"
   ]
  },
  {
   "cell_type": "code",
   "execution_count": 25,
   "metadata": {},
   "outputs": [
    {
     "name": "stdout",
     "output_type": "stream",
     "text": [
      "Confusion matrix in percentages:\n"
     ]
    },
    {
     "data": {
      "text/plain": [
       "array([[59, 23, 16],\n",
       "       [12, 75, 12],\n",
       "       [22, 50, 27]])"
      ]
     },
     "execution_count": 25,
     "metadata": {},
     "output_type": "execute_result"
    }
   ],
   "source": [
    "print('Confusion matrix in percentages:')\n",
    "\n",
    "(CM / CM.sum(axis=1)[:, np.newaxis] * 100).astype(np.int)"
   ]
  },
  {
   "cell_type": "code",
   "execution_count": 26,
   "metadata": {},
   "outputs": [
    {
     "name": "stdout",
     "output_type": "stream",
     "text": [
      "Total accuracy: \n",
      "50.99384761003313\n"
     ]
    }
   ],
   "source": [
    "print('Total accuracy: ')\n",
    "\n",
    "print(np.diag(CM).sum() / CM.sum() * 100)"
   ]
  },
  {
   "cell_type": "code",
   "execution_count": null,
   "metadata": {},
   "outputs": [],
   "source": []
  }
 ],
 "metadata": {
  "kernelspec": {
   "display_name": "Python 3",
   "language": "python",
   "name": "python3"
  },
  "language_info": {
   "codemirror_mode": {
    "name": "ipython",
    "version": 3
   },
   "file_extension": ".py",
   "mimetype": "text/x-python",
   "name": "python",
   "nbconvert_exporter": "python",
   "pygments_lexer": "ipython3",
   "version": "3.7.3"
  }
 },
 "nbformat": 4,
 "nbformat_minor": 4
}
