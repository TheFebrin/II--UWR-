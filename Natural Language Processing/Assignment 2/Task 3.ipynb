{
 "cells": [
  {
   "cell_type": "code",
   "execution_count": 1,
   "metadata": {},
   "outputs": [],
   "source": [
    "import sys\n",
    "import os\n",
    "import re\n",
    "import numpy as np\n",
    "import matplotlib.pyplot as plt\n",
    "from tqdm import tqdm \n",
    "from collections import OrderedDict \n",
    "from operator import itemgetter\n",
    "from collections import Counter\n",
    "import itertools\n",
    "from scipy.stats import mode\n",
    "from sklearn.metrics import confusion_matrix\n",
    "from sklearn.model_selection import train_test_split\n",
    "\n",
    "%config IPCompleter.greedy=True"
   ]
  },
  {
   "cell_type": "code",
   "execution_count": 2,
   "metadata": {},
   "outputs": [
    {
     "name": "stdout",
     "output_type": "stream",
     "text": [
      "CPU times: user 6.55 s, sys: 153 ms, total: 6.7 s\n",
      "Wall time: 6.67 s\n"
     ]
    },
    {
     "data": {
      "text/plain": [
       "(1781994, 5824, 4034)"
      ]
     },
     "execution_count": 2,
     "metadata": {},
     "output_type": "execute_result"
    }
   ],
   "source": [
    "%%time\n",
    "\n",
    "word_to_tag, sufix_to_tag, tag_to_word = {}, {}, {}\n",
    "\n",
    "with open('./supertags.txt','r',encoding='UTF-8') as f:\n",
    "    for line in f:\n",
    "        word, tag = line.strip().split(' ')\n",
    "        word_to_tag[word] = tag\n",
    "        \n",
    "        if word[-3 :] in sufix_to_tag:\n",
    "            sufix_to_tag[word[-3 :]].append(tag)\n",
    "        else:\n",
    "            sufix_to_tag[word[-3 :]] = [tag]\n",
    "            \n",
    "        if tag in tag_to_word:\n",
    "            tag_to_word[tag].append(word)\n",
    "        else:\n",
    "            tag_to_word[tag] = [word]\n",
    "\n",
    "            \n",
    "for x in sufix_to_tag.keys():\n",
    "    sufix_to_tag[x] = max(set(sufix_to_tag[x]), key=sufix_to_tag[x].count) \n",
    "    \n",
    "len(word_to_tag), len(sufix_to_tag), len(tag_to_word)"
   ]
  },
  {
   "cell_type": "code",
   "execution_count": 3,
   "metadata": {},
   "outputs": [],
   "source": [
    "def generate_sentence(base_sentence: str) -> str:\n",
    "    generated_sentence = ''\n",
    "\n",
    "    for i, w in enumerate(base_sentence.lower().split(' ')):\n",
    "        if w in word_to_tag:\n",
    "            next_words = tag_to_word[\n",
    "                word_to_tag[w]\n",
    "            ]\n",
    "        elif w[-3:] in sufix_to_tag:\n",
    "            next_words = tag_to_word[\n",
    "                sufix_to_tag[w[-3 :]]\n",
    "            ]\n",
    "        else:\n",
    "            next_words = tag_to_word[\n",
    "                np.random.choice(list(tag_to_word.keys()))\n",
    "            ]\n",
    "        next_word = np.random.choice(next_words)\n",
    "        if i == 0:\n",
    "            next_word = next_word.capitalize()\n",
    "        generated_sentence += next_word + ' '\n",
    "        \n",
    "    return generated_sentence.strip() + '.'"
   ]
  },
  {
   "cell_type": "code",
   "execution_count": 4,
   "metadata": {},
   "outputs": [
    {
     "data": {
      "text/plain": [
       "'Formalistyczny refrenista zaśnieżył pod niewybaczalnej rundzie pilno zmilitaryzowaną handicapa.'"
      ]
     },
     "execution_count": 4,
     "metadata": {},
     "output_type": "execute_result"
    }
   ],
   "source": [
    "generate_sentence(\n",
    "    base_sentence='Mały Piotruś spotkał w niewielkiej restauracyjce wczoraj poznaną koleżankę.'\n",
    ")"
   ]
  },
  {
   "cell_type": "code",
   "execution_count": 5,
   "metadata": {},
   "outputs": [
    {
     "data": {
      "text/plain": [
       "'Fermowy legniczanin przystrzelał bazgrała przyjemniejszej calówce wodno pozalepianą zastaliby.'"
      ]
     },
     "execution_count": 5,
     "metadata": {},
     "output_type": "execute_result"
    }
   ],
   "source": [
    "generate_sentence(\n",
    "    base_sentence='Gruby Stefan przeczytał we wczorajszej gazecie starannie przygotowaną analizę.'\n",
    ")"
   ]
  },
  {
   "cell_type": "code",
   "execution_count": 6,
   "metadata": {},
   "outputs": [
    {
     "data": {
      "text/plain": [
       "'Niezwrotność utopijną migamy za kruszwicą postępków z pałacyku przedostałam.'"
      ]
     },
     "execution_count": 6,
     "metadata": {},
     "output_type": "execute_result"
    }
   ],
   "source": [
    "generate_sentence(\n",
    "    base_sentence='Zgodność gramatyczną sprawdzamy za pomocą tagów z pliku supertags.'\n",
    ")"
   ]
  },
  {
   "cell_type": "code",
   "execution_count": null,
   "metadata": {},
   "outputs": [],
   "source": []
  }
 ],
 "metadata": {
  "kernelspec": {
   "display_name": "Python 3",
   "language": "python",
   "name": "python3"
  },
  "language_info": {
   "codemirror_mode": {
    "name": "ipython",
    "version": 3
   },
   "file_extension": ".py",
   "mimetype": "text/x-python",
   "name": "python",
   "nbconvert_exporter": "python",
   "pygments_lexer": "ipython3",
   "version": "3.8.5"
  }
 },
 "nbformat": 4,
 "nbformat_minor": 4
}
