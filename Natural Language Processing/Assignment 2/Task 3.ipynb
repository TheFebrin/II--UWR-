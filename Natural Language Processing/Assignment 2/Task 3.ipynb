{
 "cells": [
  {
   "cell_type": "code",
   "execution_count": 1,
   "metadata": {},
   "outputs": [],
   "source": [
    "import sys\n",
    "import os\n",
    "import re\n",
    "import time\n",
    "import numpy as np\n",
    "import matplotlib.pyplot as plt\n",
    "from tqdm import tqdm \n",
    "from collections import OrderedDict \n",
    "from operator import itemgetter\n",
    "from collections import Counter\n",
    "import itertools\n",
    "from typing import *\n",
    "from scipy.stats import mode\n",
    "from sklearn.metrics import confusion_matrix\n",
    "from sklearn.model_selection import train_test_split\n",
    "\n",
    "%config IPCompleter.greedy=True"
   ]
  },
  {
   "cell_type": "markdown",
   "metadata": {},
   "source": [
    "# Load data"
   ]
  },
  {
   "cell_type": "code",
   "execution_count": 43,
   "metadata": {},
   "outputs": [],
   "source": [
    "polish_corpora_path = '../../../polish_corpora.txt'\n",
    "poleval2_path = '../../../poleval_2grams.txt'\n",
    "poleval3_path = '../../../poleval_3grams.txt'\n",
    "supertags_path = 'supertags.txt'"
   ]
  },
  {
   "cell_type": "code",
   "execution_count": 6,
   "metadata": {},
   "outputs": [
    {
     "name": "stderr",
     "output_type": "stream",
     "text": [
      "Loading data...: 23011601it [07:43, 49624.81it/s]\n"
     ]
    }
   ],
   "source": [
    "unigrams: Mapping[bytes, int] = {}  # word -> number of occurrences\n",
    "\n",
    "with open(polish_corpora_path, encoding=\"utf8\") as f:\n",
    "    for line in tqdm(f, desc='Loading data...', position=0, leave=True, total=23011601):\n",
    "        line = line.strip().lower().split()\n",
    "        for word in line:\n",
    "            _word = bytes(bytearray(word, 'UTF-8'))\n",
    "            if _word in unigrams:\n",
    "                unigrams[_word] += 1\n",
    "            else:\n",
    "                unigrams[_word] = 1"
   ]
  },
  {
   "cell_type": "code",
   "execution_count": 6,
   "metadata": {},
   "outputs": [
    {
     "name": "stderr",
     "output_type": "stream",
     "text": [
      "Loading data...: 100%|█████████████████████████████████████████████████| 59134224/59134224 [04:42<00:00, 209585.00it/s]\n"
     ]
    }
   ],
   "source": [
    "bigrams: Mapping[Tuple[bytes, bytes], int] = {}\n",
    "    \n",
    "with open(poleval2_path, encoding=\"utf8\") as f:\n",
    "    for line in tqdm(f, desc='Loading data...', position=0, leave=True, total=59134224):\n",
    "        line = line.strip().lower().split()\n",
    "        \n",
    "        key: Tuple[bytes, bytes] = (bytes(bytearray(line[1], 'UTF-8')), bytes(bytearray(line[2], 'UTF-8')))\n",
    "        value: int =  int(line[0])\n",
    "            \n",
    "        if key in bigrams:\n",
    "            bigrams[key].append(value)\n",
    "        else:\n",
    "            bigrams[key] = [value]"
   ]
  },
  {
   "cell_type": "code",
   "execution_count": 10,
   "metadata": {},
   "outputs": [
    {
     "name": "stderr",
     "output_type": "stream",
     "text": [
      "Loading data...: 49894008it [02:16, 413537.41it/s]"
     ]
    },
    {
     "ename": "KeyboardInterrupt",
     "evalue": "",
     "output_type": "error",
     "traceback": [
      "\u001b[1;31m---------------------------------------------------------------------------\u001b[0m",
      "\u001b[1;31mKeyboardInterrupt\u001b[0m                         Traceback (most recent call last)",
      "\u001b[1;32m<ipython-input-10-7927ac924366>\u001b[0m in \u001b[0;36m<module>\u001b[1;34m\u001b[0m\n\u001b[0;32m      3\u001b[0m \u001b[1;33m\u001b[0m\u001b[0m\n\u001b[0;32m      4\u001b[0m \u001b[1;32mwith\u001b[0m \u001b[0mopen\u001b[0m\u001b[1;33m(\u001b[0m\u001b[0mpoleval3_path\u001b[0m\u001b[1;33m,\u001b[0m \u001b[0mencoding\u001b[0m\u001b[1;33m=\u001b[0m\u001b[1;34m\"utf8\"\u001b[0m\u001b[1;33m)\u001b[0m \u001b[1;32mas\u001b[0m \u001b[0mf\u001b[0m\u001b[1;33m:\u001b[0m\u001b[1;33m\u001b[0m\u001b[1;33m\u001b[0m\u001b[0m\n\u001b[1;32m----> 5\u001b[1;33m     \u001b[1;32mfor\u001b[0m \u001b[0mline\u001b[0m \u001b[1;32min\u001b[0m \u001b[0mtqdm\u001b[0m\u001b[1;33m(\u001b[0m\u001b[0mf\u001b[0m\u001b[1;33m,\u001b[0m \u001b[0mdesc\u001b[0m\u001b[1;33m=\u001b[0m\u001b[1;34m'Loading data...'\u001b[0m\u001b[1;33m,\u001b[0m \u001b[0mposition\u001b[0m\u001b[1;33m=\u001b[0m\u001b[1;36m0\u001b[0m\u001b[1;33m,\u001b[0m \u001b[0mleave\u001b[0m\u001b[1;33m=\u001b[0m\u001b[1;32mTrue\u001b[0m\u001b[1;33m)\u001b[0m\u001b[1;33m:\u001b[0m\u001b[1;33m\u001b[0m\u001b[1;33m\u001b[0m\u001b[0m\n\u001b[0m\u001b[0;32m      6\u001b[0m         \u001b[0mtotal_iters\u001b[0m \u001b[1;33m+=\u001b[0m \u001b[1;36m1\u001b[0m\u001b[1;33m\u001b[0m\u001b[1;33m\u001b[0m\u001b[0m\n\u001b[0;32m      7\u001b[0m         \u001b[0mline\u001b[0m \u001b[1;33m=\u001b[0m \u001b[0mline\u001b[0m\u001b[1;33m.\u001b[0m\u001b[0mstrip\u001b[0m\u001b[1;33m(\u001b[0m\u001b[1;33m)\u001b[0m\u001b[1;33m.\u001b[0m\u001b[0mlower\u001b[0m\u001b[1;33m(\u001b[0m\u001b[1;33m)\u001b[0m\u001b[1;33m.\u001b[0m\u001b[0msplit\u001b[0m\u001b[1;33m(\u001b[0m\u001b[1;33m)\u001b[0m\u001b[1;33m\u001b[0m\u001b[1;33m\u001b[0m\u001b[0m\n",
      "\u001b[1;32m~\\AppData\\Local\\Programs\\Python\\Python37\\lib\\site-packages\\tqdm\\std.py\u001b[0m in \u001b[0;36m__iter__\u001b[1;34m(self)\u001b[0m\n\u001b[0;32m   1085\u001b[0m             \"\"\"), fp_write=getattr(self.fp, 'write', sys.stderr.write))\n\u001b[0;32m   1086\u001b[0m \u001b[1;33m\u001b[0m\u001b[0m\n\u001b[1;32m-> 1087\u001b[1;33m         \u001b[1;32mfor\u001b[0m \u001b[0mobj\u001b[0m \u001b[1;32min\u001b[0m \u001b[0miterable\u001b[0m\u001b[1;33m:\u001b[0m\u001b[1;33m\u001b[0m\u001b[1;33m\u001b[0m\u001b[0m\n\u001b[0m\u001b[0;32m   1088\u001b[0m             \u001b[1;32myield\u001b[0m \u001b[0mobj\u001b[0m\u001b[1;33m\u001b[0m\u001b[1;33m\u001b[0m\u001b[0m\n\u001b[0;32m   1089\u001b[0m             \u001b[1;31m# Update and possibly print the progressbar.\u001b[0m\u001b[1;33m\u001b[0m\u001b[1;33m\u001b[0m\u001b[1;33m\u001b[0m\u001b[0m\n",
      "\u001b[1;32m~\\AppData\\Local\\Programs\\Python\\Python37\\lib\\codecs.py\u001b[0m in \u001b[0;36mdecode\u001b[1;34m(self, input, final)\u001b[0m\n\u001b[0;32m    317\u001b[0m         \u001b[1;32mraise\u001b[0m \u001b[0mNotImplementedError\u001b[0m\u001b[1;33m\u001b[0m\u001b[1;33m\u001b[0m\u001b[0m\n\u001b[0;32m    318\u001b[0m \u001b[1;33m\u001b[0m\u001b[0m\n\u001b[1;32m--> 319\u001b[1;33m     \u001b[1;32mdef\u001b[0m \u001b[0mdecode\u001b[0m\u001b[1;33m(\u001b[0m\u001b[0mself\u001b[0m\u001b[1;33m,\u001b[0m \u001b[0minput\u001b[0m\u001b[1;33m,\u001b[0m \u001b[0mfinal\u001b[0m\u001b[1;33m=\u001b[0m\u001b[1;32mFalse\u001b[0m\u001b[1;33m)\u001b[0m\u001b[1;33m:\u001b[0m\u001b[1;33m\u001b[0m\u001b[1;33m\u001b[0m\u001b[0m\n\u001b[0m\u001b[0;32m    320\u001b[0m         \u001b[1;31m# decode input (taking the buffer into account)\u001b[0m\u001b[1;33m\u001b[0m\u001b[1;33m\u001b[0m\u001b[1;33m\u001b[0m\u001b[0m\n\u001b[0;32m    321\u001b[0m         \u001b[0mdata\u001b[0m \u001b[1;33m=\u001b[0m \u001b[0mself\u001b[0m\u001b[1;33m.\u001b[0m\u001b[0mbuffer\u001b[0m \u001b[1;33m+\u001b[0m \u001b[0minput\u001b[0m\u001b[1;33m\u001b[0m\u001b[1;33m\u001b[0m\u001b[0m\n",
      "\u001b[1;31mKeyboardInterrupt\u001b[0m: "
     ]
    },
    {
     "name": "stderr",
     "output_type": "stream",
     "text": [
      "Loading data...: 49894008it [02:30, 413537.41it/s]"
     ]
    }
   ],
   "source": [
    "trigrams: Mapping[Tuple[bytes, bytes], Tuple[bytes, int]] = {} \n",
    "total_iters, skipped1, skipped2 = 0, 0, 0\n",
    "\n",
    "with open(poleval3_path, encoding=\"utf8\") as f:\n",
    "    for line in tqdm(f, desc='Loading data...', position=0, leave=True):\n",
    "        total_iters += 1\n",
    "        line = line.strip().lower().split()\n",
    "\n",
    "        if len(line) != 4:\n",
    "            skipped1 += 1\n",
    "            continue\n",
    "            \n",
    "        if int(line[0]) == 1:\n",
    "            skipped2 += 1\n",
    "            continue\n",
    "            \n",
    "        key: Tuple[bytes, bytes] = (bytes(bytearray(line[1], 'UTF-8')),  bytes(bytearray(line[2], 'UTF-8')))\n",
    "        value: Tuple[bytes, int] = (bytes(bytearray(line[3], 'UTF-8')), int(line[0]))\n",
    " \n",
    "        if key in trigrams:\n",
    "            trigrams[key].append(value)\n",
    "        else:\n",
    "            trigrams[key] = [value]"
   ]
  },
  {
   "cell_type": "code",
   "execution_count": 47,
   "metadata": {},
   "outputs": [],
   "source": [
    "%%time\n",
    "tags: Mapping[bytes, bytes] = {} \n",
    "\n",
    "with open(supertags_path, encoding='UTF-8') as f:\n",
    "    for line in f:\n",
    "        word, tag = line.strip().split(' ')\n",
    "        tags[bytes(bytearray(word, 'UTF-8'))] = bytes(bytearray(tag, 'UTF-8'))"
   ]
  },
  {
   "cell_type": "markdown",
   "metadata": {},
   "source": [
    "# Task 2\n",
    "![alt text](images/task2.png \"Title\")"
   ]
  },
  {
   "cell_type": "code",
   "execution_count": 7,
   "metadata": {},
   "outputs": [
    {
     "name": "stdout",
     "output_type": "stream",
     "text": [
      "68\n"
     ]
    }
   ],
   "source": [
    "sentences = []\n",
    "with open('sentences.txt', encoding='utf8') as f:\n",
    "    for line in f:\n",
    "        line = line.strip().lower().split()\n",
    "        sentences.append(line)\n",
    "        \n",
    "print(len(sentences))"
   ]
  },
  {
   "cell_type": "code",
   "execution_count": 79,
   "metadata": {},
   "outputs": [],
   "source": [
    "def simple_pbb_bigrams(w1: bytes, w2: bytes) -> int:\n",
    "    \"\"\" Calculate number of occurrences of bigram (w1, w2) \"\"\"\n",
    "    assert type(w1) == bytes and type(w2) == bytes, f'Given type: {type(w1)} | {type(w2)}'\n",
    "    return bigrams[(w1, w2)][0] if (w1, w2) in bigrams else 0\n",
    "\n",
    "\n",
    "def simple_score(sentence: List[bytes], cond_pbb_func) -> float:\n",
    "    pbb: float = 0.0\n",
    "    n: int = len(sentence)\n",
    "    for i in range(1, n):\n",
    "        value = cond_pbb_func(w1=sentence[i - 1], w2=sentence[i]) + 1\n",
    "        pbb += np.log(value)\n",
    "    return pbb\n",
    "\n",
    "\n",
    "def simple_score_with_tags(sentence: List[bytes], cond_pbb_func, alpha=2) -> float:\n",
    "    pbb: float = 0.0\n",
    "    n: int = len(sentence)\n",
    "    for i in range(1, n):\n",
    "        value = cond_pbb_func(w1=sentence[i - 1], w2=sentence[i]) + 1\n",
    "        if sentence[i - 1] in tags and sentence[i] in tags:\n",
    "            t0, t1 = tags[sentence[i - 1]], tags[sentence[i]]\n",
    "            if t0 == t1:\n",
    "                value *= alpha\n",
    "        pbb += np.log(value)\n",
    "    return pbb"
   ]
  },
  {
   "cell_type": "code",
   "execution_count": 80,
   "metadata": {},
   "outputs": [],
   "source": [
    "def generate_permutations(sentence: List[bytes]) -> list:\n",
    "    return list(itertools.permutations(sentence))\n",
    "\n",
    "def order_permutations(permutations: List[bytes], scoring_function, cond_pbb_func) -> List[bytes]:\n",
    "    scores = [scoring_function(x, cond_pbb_func) for x in permutations]\n",
    "    return sorted(zip(scores, permutations), reverse=True)\n",
    "\n",
    "def score_permuatations(valid_sentence: List[bytes], scoring_function, cond_pbb_func) -> Tuple[float, str]:\n",
    "    permutations: List[bytes] = generate_permutations(sentence=valid_sentence)\n",
    "    permutations = order_permutations(\n",
    "        permutations=permutations, scoring_function=scoring_function, cond_pbb_func=cond_pbb_func\n",
    "    )\n",
    "    permutations = [y for x, y in permutations]\n",
    "    best_decoded = list(map(lambda x: x.decode('utf8'), permutations[0]))\n",
    "    for i, sentence in enumerate(permutations):\n",
    "        if tuple(sentence) == tuple(valid_sentence):\n",
    "            return 1 / (i + 1), best_decoded\n",
    "    \n",
    "    return 0.0, best_decoded\n",
    "\n",
    "def final_score(cond_pbb_func, scoring_function) -> Tuple[float, int]:\n",
    "    total_score: float = 0.0\n",
    "    n_skipped: int = 0\n",
    "    perfect_score: int = 0\n",
    "    for i, sentence in enumerate(sentences):\n",
    "        time.sleep(1)\n",
    "        if len(sentence) > 7:\n",
    "            n_skipped += 1\n",
    "            print(f'{i+1} / {len(sentences)} | {sentence} ===> ??? / 1.0')\n",
    "            print('Skipped because sentence is too long.')\n",
    "            continue\n",
    "        sentence_bytes = list(map(lambda x: bytes(bytearray(x, encoding='UTF-8')), sentence))\n",
    "        score, best_sentence = score_permuatations(\n",
    "            valid_sentence=sentence_bytes, \n",
    "            scoring_function=scoring_function,\n",
    "            cond_pbb_func=cond_pbb_func\n",
    "        )\n",
    "        total_score += score\n",
    "        if score == 1:\n",
    "            perfect_score += 1\n",
    "        print(f'{i+1} / {len(sentences)} | {sentence} ===> {score:.3f} / 1.0')\n",
    "        print('My best: ', *best_sentence)\n",
    "        \n",
    "    return total_score / (len(sentences) - n_skipped), perfect_score"
   ]
  },
  {
   "cell_type": "code",
   "execution_count": 81,
   "metadata": {},
   "outputs": [
    {
     "name": "stdout",
     "output_type": "stream",
     "text": [
      "1 / 68 | ['judyta', 'dała', 'wczoraj', 'stefanowi', 'czekoladki'] ===> 0.111 / 1.0\n",
      "My best:  stefanowi judyta dała wczoraj czekoladki\n",
      "2 / 68 | ['babuleńka', 'miała', 'dwa', 'rogate', 'koziołki'] ===> 0.091 / 1.0\n",
      "My best:  rogate miała dwa koziołki babuleńka\n",
      "3 / 68 | ['wczoraj', 'wieczorem', 'spotkałem', 'pewną', 'piękną', 'kobietę'] ===> 0.333 / 1.0\n",
      "My best:  spotkałem wczoraj wieczorem pewną piękną kobietę\n",
      "4 / 68 | ['nasz', 'przedmiot', 'to', 'przetwarzanie', 'języka', 'naturalnego'] ===> 0.020 / 1.0\n",
      "My best:  przetwarzanie języka naturalnego to nasz przedmiot\n",
      "5 / 68 | ['jedną', 'grupę', 'prowadzi', 'jakub', 'michaliszyn'] ===> 0.091 / 1.0\n",
      "My best:  prowadzi jedną grupę michaliszyn jakub\n",
      "6 / 68 | ['wykładowcą', 'jest', 'paweł', 'rychlikowski'] ===> 0.333 / 1.0\n",
      "My best:  rychlikowski paweł jest wykładowcą\n",
      "7 / 68 | ['pan', 'paweł', 'prowadzi', 'również', 'dwie', 'pozostałe', 'grupy'] ===> 0.056 / 1.0\n",
      "My best:  pozostałe dwie grupy prowadzi również pan paweł\n",
      "8 / 68 | ['na', 'stronie', 'wykładu', 'będą', 'pojawiać', 'się', 'listy', 'zadań'] ===> ??? / 1.0\n",
      "Skipped because sentence is too long.\n",
      "9 / 68 | ['będą', 'to', 'listy', 'ćwiczeniowe', 'i', 'pracowniowe'] ===> 0.003 / 1.0\n",
      "My best:  ćwiczeniowe pracowniowe listy i to będą\n",
      "10 / 68 | ['będą', 'to', 'listy', 'pracowniowe', 'i', 'ćwiczeniowe'] ===> 0.003 / 1.0\n",
      "My best:  ćwiczeniowe pracowniowe listy i to będą\n",
      "11 / 68 | ['mogą', 'się', 'pojawiać', 'również', 'dodatkowe', 'aktywności'] ===> 0.029 / 1.0\n",
      "My best:  aktywności mogą pojawiać się również dodatkowe\n",
      "12 / 68 | ['te', 'aktywności', 'będą', 'premiowane'] ===> 0.077 / 1.0\n",
      "My best:  aktywności te będą premiowane\n",
      "13 / 68 | ['na', 'przykłąd', 'quizy', 'na', 'platformie', 'zdalnej'] ===> 0.008 / 1.0\n",
      "My best:  quizy przykłąd na na platformie zdalnej\n",
      "14 / 68 | ['rozważamy', 'też', 'miniprojekty', 'na', 'temat', 'wykładu'] ===> 0.014 / 1.0\n",
      "My best:  rozważamy też na temat wykładu miniprojekty\n",
      "15 / 68 | ['zapowiadamy', 'je', 'z', 'co', 'najmniej', 'tygodniowym', 'wyprzedzeniem'] ===> 1.000 / 1.0\n",
      "My best:  zapowiadamy je z co najmniej tygodniowym wyprzedzeniem\n",
      "16 / 68 | ['zadania', 'są', 'przeznaczone', 'na', 'konkretne', 'zajęcia'] ===> 0.062 / 1.0\n",
      "My best:  konkretne zadania są przeznaczone na zajęcia\n",
      "17 / 68 | ['ćwiczenia', 'zaczynają', 'się', 'w', 'sali', 'seminaryjnej'] ===> 1.000 / 1.0\n",
      "My best:  ćwiczenia zaczynają się w sali seminaryjnej\n",
      "18 / 68 | ['jest', 'tak', 'tylko', 'w', 'trybie', 'stacjonarnym'] ===> 0.333 / 1.0\n",
      "My best:  tak jest tylko w trybie stacjonarnym\n",
      "19 / 68 | ['pozostałe', 'zajęcia', 'domyślnie', 'zaczynają', 'się', 'w', 'pracowni'] ===> 0.200 / 1.0\n",
      "My best:  pozostałe zajęcia zaczynają się w pracowni domyślnie\n",
      "20 / 68 | ['pracownia', 'polega', 'na', 'indywidualnych', 'konsutlacjach'] ===> 1.000 / 1.0\n",
      "My best:  pracownia polega na indywidualnych konsutlacjach\n",
      "21 / 68 | ['rozmawiamy', 'tam', 'na', 'temat', 'rozwiązań'] ===> 0.333 / 1.0\n",
      "My best:  tam na temat rozwiązań rozmawiamy\n",
      "22 / 68 | ['podczas', 'ćwiczeń', 'studenci', 'przedstawiają', 'pisemne', 'rozwiązania', 'zadań'] ===> 0.014 / 1.0\n",
      "My best:  studenci przedstawiają rozwiązania zadań podczas ćwiczeń pisemne\n",
      "23 / 68 | ['tryb', 'zajęć', 'zależy', 'od', 'sytuacji', 'epidemiologicznej'] ===> 1.000 / 1.0\n",
      "My best:  tryb zajęć zależy od sytuacji epidemiologicznej\n",
      "24 / 68 | ['zależy', 'też', 'od', 'wymogów', 'formalnych'] ===> 0.500 / 1.0\n",
      "My best:  też zależy od wymogów formalnych\n",
      "25 / 68 | ['zależy', 'również', 'od', 'decyzji', 'władz'] ===> 0.500 / 1.0\n",
      "My best:  również zależy od decyzji władz\n",
      "26 / 68 | ['uwzględnia', 'się', 'możliwości', 'studentów', 'i', 'prowadzących'] ===> 0.200 / 1.0\n",
      "My best:  uwzględnia się możliwości i studentów prowadzących\n",
      "27 / 68 | ['może', 'się', 'on', 'zmieniać', 'w', 'trakcie', 'semestru'] ===> 0.059 / 1.0\n",
      "My best:  on może zmieniać się w trakcie semestru\n",
      "28 / 68 | ['przed', 'ćwiczeniami', 'studenci', 'dostarczają', 'prowadzącemu', 'deklaracje'] ===> 0.019 / 1.0\n",
      "My best:  studenci dostarczają prowadzącemu deklaracje przed ćwiczeniami\n",
      "29 / 68 | ['zawiera', 'ona', 'numery', 'zadań'] ===> 0.200 / 1.0\n",
      "My best:  zadań zawiera ona numery\n",
      "30 / 68 | ['studenci', 'pokazują', 'rozwiązania', 'przy', 'tablicy'] ===> 1.000 / 1.0\n",
      "My best:  studenci pokazują rozwiązania przy tablicy\n",
      "31 / 68 | ['jest', 'źle', ',', 'jeżeli', 'student', 'nie', 'umie'] ===> 0.013 / 1.0\n",
      "My best:  student umie , jeżeli nie jest źle\n",
      "32 / 68 | ['dodatkowo', 'coś', 'mu', 'się', 'odejmuje'] ===> 0.077 / 1.0\n",
      "My best:  odejmuje coś mu się dodatkowo\n",
      "33 / 68 | ['zadania', 'można', 'oddawać', 'podczas', 'zajęć', 'na', 'pracowni'] ===> 0.009 / 1.0\n",
      "My best:  pracowni podczas zajęć na zadania można oddawać\n",
      "34 / 68 | ['zadania', 'należy', 'rozwiązywać', 'samodzielnie'] ===> 0.143 / 1.0\n",
      "My best:  należy rozwiązywać zadania samodzielnie\n",
      "35 / 68 | ['prowadzący', 'ocenia', 'poprawność', 'rozwiązania'] ===> 1.000 / 1.0\n",
      "My best:  prowadzący ocenia poprawność rozwiązania\n",
      "36 / 68 | ['czasem', 'mogą', 'pojawić', 'się', 'informacje', 'o', 'regułach'] ===> 1.000 / 1.0\n",
      "My best:  czasem mogą pojawić się informacje o regułach\n",
      "37 / 68 | ['na', 'każdej', 'liście', 'podany', 'jest', 'termin'] ===> 0.005 / 1.0\n",
      "My best:  podany termin jest na liście każdej\n",
      "38 / 68 | ['za', 'poprawne', 'rozwiązanie', 'dostajemy', 'dużo', 'punktów'] ===> 0.009 / 1.0\n",
      "My best:  poprawne rozwiązanie za dużo punktów dostajemy\n",
      "39 / 68 | ['spóźnione', 'zadania', 'nie', 'będą', 'sprawdzane'] ===> 0.500 / 1.0\n",
      "My best:  zadania nie będą sprawdzane spóźnione\n",
      "40 / 68 | ['pierwsza', 'lista', 'ma', 'dłuższy', 'termin'] ===> 1.000 / 1.0\n",
      "My best:  pierwsza lista ma dłuższy termin\n",
      "41 / 68 | ['zasada', 'musi', 'być', 'zmodyfikowana', 'pod', 'koniec', 'semestru'] ===> 0.250 / 1.0\n",
      "My best:  zmodyfikowana zasada musi być pod koniec semestru\n",
      "42 / 68 | ['w', 'przypadku', 'choroby', 'studenta', 'obowiązują', 'inne', 'zasady'] ===> 0.006 / 1.0\n",
      "My best:  studenta inne zasady obowiązują w przypadku choroby\n",
      "43 / 68 | ['w', 'przypadku', 'kwarantanny', 'studenta', 'obowiązują', 'inne', 'zasady'] ===> 0.003 / 1.0\n",
      "My best:  kwarantanny inne zasady obowiązują w przypadku studenta\n",
      "44 / 68 | ['w', 'przypadku', 'izolacji', 'studenta', 'obowiązują', 'inne', 'zasady'] ===> 0.004 / 1.0\n",
      "My best:  izolacji inne zasady obowiązują w przypadku studenta\n",
      "45 / 68 | ['możliwe', 'jest', 'oddawanie', 'zaległych', 'zadań', 'bez', 'straty', 'punktowej'] ===> ??? / 1.0\n",
      "Skipped because sentence is too long.\n",
      "46 / 68 | ['ocenę', 'wystawia', 'się', 'zgodnie', 'z', 'tabelką'] ===> 1.000 / 1.0\n",
      "My best:  ocenę wystawia się zgodnie z tabelką\n",
      "47 / 68 | ['50', 'punktów', 'daje', 'ocenę', 'dostateczną'] ===> 1.000 / 1.0\n",
      "My best:  50 punktów daje ocenę dostateczną\n",
      "48 / 68 | ['120', 'punktów', 'daje', 'ocenę', 'bardzo', 'dobrą'] ===> 0.200 / 1.0\n",
      "My best:  120 punktów daje bardzo dobrą ocenę\n",
      "49 / 68 | ['powyższa', 'tabelka', 'zostanie', 'przeskalowana'] ===> 0.067 / 1.0\n",
      "My best:  tabelka przeskalowana powyższa zostanie\n",
      "50 / 68 | ['może', 'też', 'zostać', 'przeskalowana', 'z', 'innych', 'powodów'] ===> 0.004 / 1.0\n",
      "My best:  też może zostać z innych powodów przeskalowana\n",
      "51 / 68 | ['w', 'pierwszym', 'tygodniu', 'zajęć', 'coś', 'podamy'] ===> 0.026 / 1.0\n",
      "My best:  zajęć coś w pierwszym tygodniu podamy\n",
      "52 / 68 | ['dodatkowe', 'zasady', 'umożliwiające', 'zwolnienie', 'z', 'egzaminu'] ===> 1.000 / 1.0\n",
      "My best:  dodatkowe zasady umożliwiające zwolnienie z egzaminu\n",
      "53 / 68 | ['dotyczą', 'osób', 'z', 'dużą', 'liczbą', 'punktów'] ===> 1.000 / 1.0\n",
      "My best:  dotyczą osób z dużą liczbą punktów\n",
      "54 / 68 | ['można', 'rozwiązać', 'też', 'zadanie', 'specjalne'] ===> 0.033 / 1.0\n",
      "My best:  zadanie rozwiązać można też specjalne\n",
      "55 / 68 | ['forma', 'egzaminu', 'zależy', 'od', 'wielu', 'czynników'] ===> 1.000 / 1.0\n",
      "My best:  forma egzaminu zależy od wielu czynników\n",
      "56 / 68 | ['należy', 'się', 'spodziewać', 'różnych', 'wariantów'] ===> 0.333 / 1.0\n",
      "My best:  należy spodziewać się różnych wariantów\n",
      "57 / 68 | ['nie', 'wykluczamy', 'indywidualnego', 'egzaminu', 'ustnego'] ===> 0.062 / 1.0\n",
      "My best:  indywidualnego ustnego egzaminu nie wykluczamy\n",
      "58 / 68 | ['jaś', 'i', 'małgosia', 'też', 'są', 'tutaj'] ===> 0.011 / 1.0\n",
      "My best:  małgosia jaś i są też tutaj\n",
      "59 / 68 | ['puchatek', 'z', 'prosiaczkiem', 'nie', 'przybędą'] ===> 0.020 / 1.0\n",
      "My best:  puchatek nie z prosiaczkiem przybędą\n",
      "60 / 68 | ['raz', 'kotek', 'był', 'chory', 'i', 'odpoczywał'] ===> 0.005 / 1.0\n",
      "My best:  raz i był chory kotek odpoczywał\n",
      "61 / 68 | ['raz', 'kotek', 'był', 'chory', 'i', 'leżał', 'w', 'łóżeczku'] ===> ??? / 1.0\n",
      "Skipped because sentence is too long.\n",
      "62 / 68 | ['definicja', 'relacji', 'równoważności', 'nie', 'jest', 'trudna'] ===> 0.167 / 1.0\n",
      "My best:  relacji równoważności definicja nie jest trudna\n",
      "63 / 68 | ['hipoteza', 'continuum', 'jest', 'niezależna', 'od', 'aksjomatów'] ===> 1.000 / 1.0\n",
      "My best:  hipoteza continuum jest niezależna od aksjomatów\n",
      "64 / 68 | ['teoria', 'mnogości', 'daje', 'wiele', 'radości'] ===> 0.500 / 1.0\n",
      "My best:  daje wiele radości teoria mnogości\n",
      "65 / 68 | ['programowanie', 'nie', 'jest', 'szczególnie', 'trudne'] ===> 1.000 / 1.0\n",
      "My best:  programowanie nie jest szczególnie trudne\n",
      "66 / 68 | ['rachunek', 'prawdopodobieństwa', 'przydaje', 'się', 'w', 'życiu'] ===> 1.000 / 1.0\n",
      "My best:  rachunek prawdopodobieństwa przydaje się w życiu\n",
      "67 / 68 | ['rycerze', 'osaczyli', 'smoka', 'zanim', 'strawił', 'księżniczkę'] ===> 0.002 / 1.0\n",
      "My best:  zanim strawił smoka rycerze osaczyli księżniczkę\n",
      "68 / 68 | ['chyba', 'należy', 'już', 'przestać', 'wymyślać', 'zdania'] ===> 0.025 / 1.0\n",
      "My best:  zdania należy chyba już przestać wymyślać\n",
      "Final score: (0.3394528110732533, 16)\n",
      "Wall time: 1min 9s\n"
     ]
    }
   ],
   "source": [
    "%%time\n",
    "f_score = final_score(\n",
    "    cond_pbb_func=simple_pbb_bigrams, \n",
    "    scoring_function=lambda x, y: simple_score_with_tags(x, y, alpha=2)\n",
    ")\n",
    "print(f'Final score: {f_score}')"
   ]
  },
  {
   "cell_type": "code",
   "execution_count": null,
   "metadata": {},
   "outputs": [],
   "source": []
  },
  {
   "cell_type": "code",
   "execution_count": null,
   "metadata": {},
   "outputs": [],
   "source": []
  },
  {
   "cell_type": "code",
   "execution_count": null,
   "metadata": {},
   "outputs": [],
   "source": []
  },
  {
   "cell_type": "code",
   "execution_count": 87,
   "metadata": {},
   "outputs": [
    {
     "name": "stdout",
     "output_type": "stream",
     "text": [
      "1 / 68 | ['judyta', 'dała', 'wczoraj', 'stefanowi', 'czekoladki'] ===> 0.111 / 1.0\n",
      "My best:  stefanowi judyta dała wczoraj czekoladki\n",
      "2 / 68 | ['babuleńka', 'miała', 'dwa', 'rogate', 'koziołki'] ===> 0.091 / 1.0\n",
      "My best:  rogate miała dwa koziołki babuleńka\n",
      "3 / 68 | ['wczoraj', 'wieczorem', 'spotkałem', 'pewną', 'piękną', 'kobietę'] ===> 0.250 / 1.0\n",
      "My best:  spotkałem wczoraj wieczorem pewną piękną kobietę\n",
      "4 / 68 | ['nasz', 'przedmiot', 'to', 'przetwarzanie', 'języka', 'naturalnego'] ===> 0.020 / 1.0\n",
      "My best:  przetwarzanie języka naturalnego to nasz przedmiot\n",
      "5 / 68 | ['jedną', 'grupę', 'prowadzi', 'jakub', 'michaliszyn'] ===> 0.091 / 1.0\n",
      "My best:  prowadzi jedną grupę michaliszyn jakub\n",
      "6 / 68 | ['wykładowcą', 'jest', 'paweł', 'rychlikowski'] ===> 0.333 / 1.0\n",
      "My best:  rychlikowski paweł jest wykładowcą\n",
      "7 / 68 | ['pan', 'paweł', 'prowadzi', 'również', 'dwie', 'pozostałe', 'grupy'] ===> 0.050 / 1.0\n",
      "My best:  pozostałe dwie grupy prowadzi również pan paweł\n",
      "8 / 68 | ['na', 'stronie', 'wykładu', 'będą', 'pojawiać', 'się', 'listy', 'zadań'] ===> ??? / 1.0\n",
      "Skipped because sentence is too long.\n",
      "9 / 68 | ['będą', 'to', 'listy', 'ćwiczeniowe', 'i', 'pracowniowe'] ===> 0.003 / 1.0\n",
      "My best:  ćwiczeniowe pracowniowe listy i to będą\n",
      "10 / 68 | ['będą', 'to', 'listy', 'pracowniowe', 'i', 'ćwiczeniowe'] ===> 0.003 / 1.0\n",
      "My best:  ćwiczeniowe pracowniowe listy i to będą\n",
      "11 / 68 | ['mogą', 'się', 'pojawiać', 'również', 'dodatkowe', 'aktywności'] ===> 0.029 / 1.0\n",
      "My best:  aktywności mogą pojawiać się również dodatkowe\n",
      "12 / 68 | ['te', 'aktywności', 'będą', 'premiowane'] ===> 0.077 / 1.0\n",
      "My best:  aktywności te będą premiowane\n",
      "13 / 68 | ['na', 'przykłąd', 'quizy', 'na', 'platformie', 'zdalnej'] ===> 0.008 / 1.0\n",
      "My best:  quizy przykłąd na na platformie zdalnej\n",
      "14 / 68 | ['rozważamy', 'też', 'miniprojekty', 'na', 'temat', 'wykładu'] ===> 0.014 / 1.0\n",
      "My best:  rozważamy też na temat wykładu miniprojekty\n",
      "15 / 68 | ['zapowiadamy', 'je', 'z', 'co', 'najmniej', 'tygodniowym', 'wyprzedzeniem'] ===> 1.000 / 1.0\n",
      "My best:  zapowiadamy je z co najmniej tygodniowym wyprzedzeniem\n",
      "16 / 68 | ['zadania', 'są', 'przeznaczone', 'na', 'konkretne', 'zajęcia'] ===> 0.067 / 1.0\n",
      "My best:  konkretne zadania są przeznaczone na zajęcia\n",
      "17 / 68 | ['ćwiczenia', 'zaczynają', 'się', 'w', 'sali', 'seminaryjnej'] ===> 1.000 / 1.0\n",
      "My best:  ćwiczenia zaczynają się w sali seminaryjnej\n",
      "18 / 68 | ['jest', 'tak', 'tylko', 'w', 'trybie', 'stacjonarnym'] ===> 0.333 / 1.0\n",
      "My best:  tak jest tylko w trybie stacjonarnym\n",
      "19 / 68 | ['pozostałe', 'zajęcia', 'domyślnie', 'zaczynają', 'się', 'w', 'pracowni'] ===> 0.200 / 1.0\n",
      "My best:  pozostałe zajęcia zaczynają się w pracowni domyślnie\n",
      "20 / 68 | ['pracownia', 'polega', 'na', 'indywidualnych', 'konsutlacjach'] ===> 1.000 / 1.0\n",
      "My best:  pracownia polega na indywidualnych konsutlacjach\n",
      "21 / 68 | ['rozmawiamy', 'tam', 'na', 'temat', 'rozwiązań'] ===> 0.333 / 1.0\n",
      "My best:  tam na temat rozwiązań rozmawiamy\n",
      "22 / 68 | ['podczas', 'ćwiczeń', 'studenci', 'przedstawiają', 'pisemne', 'rozwiązania', 'zadań'] ===> 0.014 / 1.0\n",
      "My best:  studenci przedstawiają rozwiązania zadań podczas ćwiczeń pisemne\n",
      "23 / 68 | ['tryb', 'zajęć', 'zależy', 'od', 'sytuacji', 'epidemiologicznej'] ===> 1.000 / 1.0\n",
      "My best:  tryb zajęć zależy od sytuacji epidemiologicznej\n",
      "24 / 68 | ['zależy', 'też', 'od', 'wymogów', 'formalnych'] ===> 0.500 / 1.0\n",
      "My best:  też zależy od wymogów formalnych\n",
      "25 / 68 | ['zależy', 'również', 'od', 'decyzji', 'władz'] ===> 0.500 / 1.0\n",
      "My best:  również zależy od decyzji władz\n",
      "26 / 68 | ['uwzględnia', 'się', 'możliwości', 'studentów', 'i', 'prowadzących'] ===> 0.200 / 1.0\n",
      "My best:  uwzględnia się możliwości i studentów prowadzących\n",
      "27 / 68 | ['może', 'się', 'on', 'zmieniać', 'w', 'trakcie', 'semestru'] ===> 0.059 / 1.0\n",
      "My best:  on może zmieniać się w trakcie semestru\n",
      "28 / 68 | ['przed', 'ćwiczeniami', 'studenci', 'dostarczają', 'prowadzącemu', 'deklaracje'] ===> 0.019 / 1.0\n",
      "My best:  studenci dostarczają prowadzącemu deklaracje przed ćwiczeniami\n",
      "29 / 68 | ['zawiera', 'ona', 'numery', 'zadań'] ===> 0.200 / 1.0\n",
      "My best:  zadań zawiera ona numery\n",
      "30 / 68 | ['studenci', 'pokazują', 'rozwiązania', 'przy', 'tablicy'] ===> 1.000 / 1.0\n",
      "My best:  studenci pokazują rozwiązania przy tablicy\n",
      "31 / 68 | ['jest', 'źle', ',', 'jeżeli', 'student', 'nie', 'umie'] ===> 0.013 / 1.0\n",
      "My best:  student umie , jeżeli nie jest źle\n",
      "32 / 68 | ['dodatkowo', 'coś', 'mu', 'się', 'odejmuje'] ===> 0.077 / 1.0\n",
      "My best:  odejmuje coś mu się dodatkowo\n",
      "33 / 68 | ['zadania', 'można', 'oddawać', 'podczas', 'zajęć', 'na', 'pracowni'] ===> 0.009 / 1.0\n",
      "My best:  pracowni podczas zajęć na zadania można oddawać\n",
      "34 / 68 | ['zadania', 'należy', 'rozwiązywać', 'samodzielnie'] ===> 0.143 / 1.0\n",
      "My best:  należy rozwiązywać zadania samodzielnie\n",
      "35 / 68 | ['prowadzący', 'ocenia', 'poprawność', 'rozwiązania'] ===> 1.000 / 1.0\n",
      "My best:  prowadzący ocenia poprawność rozwiązania\n",
      "36 / 68 | ['czasem', 'mogą', 'pojawić', 'się', 'informacje', 'o', 'regułach'] ===> 1.000 / 1.0\n",
      "My best:  czasem mogą pojawić się informacje o regułach\n",
      "37 / 68 | ['na', 'każdej', 'liście', 'podany', 'jest', 'termin'] ===> 0.005 / 1.0\n",
      "My best:  podany termin jest na liście każdej\n",
      "38 / 68 | ['za', 'poprawne', 'rozwiązanie', 'dostajemy', 'dużo', 'punktów'] ===> 0.009 / 1.0\n",
      "My best:  poprawne rozwiązanie za dużo punktów dostajemy\n",
      "39 / 68 | ['spóźnione', 'zadania', 'nie', 'będą', 'sprawdzane'] ===> 0.500 / 1.0\n",
      "My best:  zadania nie będą sprawdzane spóźnione\n",
      "40 / 68 | ['pierwsza', 'lista', 'ma', 'dłuższy', 'termin'] ===> 1.000 / 1.0\n",
      "My best:  pierwsza lista ma dłuższy termin\n",
      "41 / 68 | ['zasada', 'musi', 'być', 'zmodyfikowana', 'pod', 'koniec', 'semestru'] ===> 0.250 / 1.0\n",
      "My best:  zmodyfikowana zasada musi być pod koniec semestru\n",
      "42 / 68 | ['w', 'przypadku', 'choroby', 'studenta', 'obowiązują', 'inne', 'zasady'] ===> 0.006 / 1.0\n",
      "My best:  studenta inne zasady obowiązują w przypadku choroby\n",
      "43 / 68 | ['w', 'przypadku', 'kwarantanny', 'studenta', 'obowiązują', 'inne', 'zasady'] ===> 0.003 / 1.0\n",
      "My best:  kwarantanny inne zasady obowiązują w przypadku studenta\n",
      "44 / 68 | ['w', 'przypadku', 'izolacji', 'studenta', 'obowiązują', 'inne', 'zasady'] ===> 0.004 / 1.0\n",
      "My best:  izolacji inne zasady obowiązują w przypadku studenta\n",
      "45 / 68 | ['możliwe', 'jest', 'oddawanie', 'zaległych', 'zadań', 'bez', 'straty', 'punktowej'] ===> ??? / 1.0\n",
      "Skipped because sentence is too long.\n",
      "46 / 68 | ['ocenę', 'wystawia', 'się', 'zgodnie', 'z', 'tabelką'] ===> 1.000 / 1.0\n",
      "My best:  ocenę wystawia się zgodnie z tabelką\n",
      "47 / 68 | ['50', 'punktów', 'daje', 'ocenę', 'dostateczną'] ===> 1.000 / 1.0\n",
      "My best:  50 punktów daje ocenę dostateczną\n",
      "48 / 68 | ['120', 'punktów', 'daje', 'ocenę', 'bardzo', 'dobrą'] ===> 0.200 / 1.0\n",
      "My best:  120 punktów daje bardzo dobrą ocenę\n",
      "49 / 68 | ['powyższa', 'tabelka', 'zostanie', 'przeskalowana'] ===> 0.067 / 1.0\n",
      "My best:  tabelka przeskalowana powyższa zostanie\n",
      "50 / 68 | ['może', 'też', 'zostać', 'przeskalowana', 'z', 'innych', 'powodów'] ===> 0.004 / 1.0\n",
      "My best:  też może zostać z innych powodów przeskalowana\n",
      "51 / 68 | ['w', 'pierwszym', 'tygodniu', 'zajęć', 'coś', 'podamy'] ===> 0.026 / 1.0\n",
      "My best:  zajęć coś w pierwszym tygodniu podamy\n",
      "52 / 68 | ['dodatkowe', 'zasady', 'umożliwiające', 'zwolnienie', 'z', 'egzaminu'] ===> 1.000 / 1.0\n",
      "My best:  dodatkowe zasady umożliwiające zwolnienie z egzaminu\n",
      "53 / 68 | ['dotyczą', 'osób', 'z', 'dużą', 'liczbą', 'punktów'] ===> 1.000 / 1.0\n",
      "My best:  dotyczą osób z dużą liczbą punktów\n",
      "54 / 68 | ['można', 'rozwiązać', 'też', 'zadanie', 'specjalne'] ===> 0.033 / 1.0\n",
      "My best:  zadanie rozwiązać można też specjalne\n",
      "55 / 68 | ['forma', 'egzaminu', 'zależy', 'od', 'wielu', 'czynników'] ===> 1.000 / 1.0\n",
      "My best:  forma egzaminu zależy od wielu czynników\n",
      "56 / 68 | ['należy', 'się', 'spodziewać', 'różnych', 'wariantów'] ===> 0.333 / 1.0\n",
      "My best:  należy spodziewać się różnych wariantów\n",
      "57 / 68 | ['nie', 'wykluczamy', 'indywidualnego', 'egzaminu', 'ustnego'] ===> 0.067 / 1.0\n",
      "My best:  ustnego egzaminu nie wykluczamy indywidualnego\n",
      "58 / 68 | ['jaś', 'i', 'małgosia', 'też', 'są', 'tutaj'] ===> 0.011 / 1.0\n",
      "My best:  małgosia jaś i są też tutaj\n",
      "59 / 68 | ['puchatek', 'z', 'prosiaczkiem', 'nie', 'przybędą'] ===> 0.020 / 1.0\n",
      "My best:  puchatek nie z prosiaczkiem przybędą\n",
      "60 / 68 | ['raz', 'kotek', 'był', 'chory', 'i', 'odpoczywał'] ===> 0.005 / 1.0\n",
      "My best:  raz i był chory kotek odpoczywał\n",
      "61 / 68 | ['raz', 'kotek', 'był', 'chory', 'i', 'leżał', 'w', 'łóżeczku'] ===> ??? / 1.0\n",
      "Skipped because sentence is too long.\n",
      "62 / 68 | ['definicja', 'relacji', 'równoważności', 'nie', 'jest', 'trudna'] ===> 0.167 / 1.0\n",
      "My best:  relacji równoważności definicja nie jest trudna\n",
      "63 / 68 | ['hipoteza', 'continuum', 'jest', 'niezależna', 'od', 'aksjomatów'] ===> 1.000 / 1.0\n",
      "My best:  hipoteza continuum jest niezależna od aksjomatów\n",
      "64 / 68 | ['teoria', 'mnogości', 'daje', 'wiele', 'radości'] ===> 0.500 / 1.0\n",
      "My best:  daje wiele radości teoria mnogości\n",
      "65 / 68 | ['programowanie', 'nie', 'jest', 'szczególnie', 'trudne'] ===> 1.000 / 1.0\n",
      "My best:  programowanie nie jest szczególnie trudne\n",
      "66 / 68 | ['rachunek', 'prawdopodobieństwa', 'przydaje', 'się', 'w', 'życiu'] ===> 1.000 / 1.0\n",
      "My best:  rachunek prawdopodobieństwa przydaje się w życiu\n",
      "67 / 68 | ['rycerze', 'osaczyli', 'smoka', 'zanim', 'strawił', 'księżniczkę'] ===> 0.002 / 1.0\n",
      "My best:  zanim strawił smoka rycerze osaczyli księżniczkę\n",
      "68 / 68 | ['chyba', 'należy', 'już', 'przestać', 'wymyślać', 'zdania'] ===> 0.025 / 1.0\n",
      "My best:  zdania należy chyba już przestać wymyślać\n",
      "Final score: (0.33822287801772444, 16)\n",
      "Wall time: 1min 9s\n"
     ]
    }
   ],
   "source": [
    "%%time\n",
    "f_score = final_score(\n",
    "    cond_pbb_func=simple_pbb_bigrams, \n",
    "    scoring_function=simple_score\n",
    ")\n",
    "print(f'Final score: {f_score}')"
   ]
  },
  {
   "cell_type": "code",
   "execution_count": null,
   "metadata": {},
   "outputs": [],
   "source": []
  },
  {
   "cell_type": "markdown",
   "metadata": {},
   "source": [
    "# Task 3\n",
    "![alt text](images/task3.png \"Title\")\n"
   ]
  },
  {
   "cell_type": "code",
   "execution_count": 2,
   "metadata": {},
   "outputs": [
    {
     "name": "stdout",
     "output_type": "stream",
     "text": [
      "CPU times: user 6.55 s, sys: 153 ms, total: 6.7 s\n",
      "Wall time: 6.67 s\n"
     ]
    },
    {
     "data": {
      "text/plain": [
       "(1781994, 5824, 4034)"
      ]
     },
     "execution_count": 2,
     "metadata": {},
     "output_type": "execute_result"
    }
   ],
   "source": [
    "%%time\n",
    "\n",
    "word_to_tag, sufix_to_tag, tag_to_word = {}, {}, {}\n",
    "\n",
    "with open('./supertags.txt','r',encoding='UTF-8') as f:\n",
    "    for line in f:\n",
    "        word, tag = line.strip().split(' ')\n",
    "        word_to_tag[word] = tag\n",
    "        \n",
    "        if word[-3 :] in sufix_to_tag:\n",
    "            sufix_to_tag[word[-3 :]].append(tag)\n",
    "        else:\n",
    "            sufix_to_tag[word[-3 :]] = [tag]\n",
    "            \n",
    "        if tag in tag_to_word:\n",
    "            tag_to_word[tag].append(word)\n",
    "        else:\n",
    "            tag_to_word[tag] = [word]\n",
    "\n",
    "            \n",
    "for x in sufix_to_tag.keys():\n",
    "    sufix_to_tag[x] = max(set(sufix_to_tag[x]), key=sufix_to_tag[x].count) \n",
    "    \n",
    "len(word_to_tag), len(sufix_to_tag), len(tag_to_word)"
   ]
  },
  {
   "cell_type": "code",
   "execution_count": 3,
   "metadata": {},
   "outputs": [],
   "source": [
    "def generate_sentence(base_sentence: str) -> str:\n",
    "    generated_sentence = ''\n",
    "\n",
    "    for i, w in enumerate(base_sentence.lower().split(' ')):\n",
    "        if w in word_to_tag:\n",
    "            next_words = tag_to_word[\n",
    "                word_to_tag[w]\n",
    "            ]\n",
    "        elif w[-3:] in sufix_to_tag:\n",
    "            next_words = tag_to_word[\n",
    "                sufix_to_tag[w[-3 :]]\n",
    "            ]\n",
    "        else:\n",
    "            next_words = tag_to_word[\n",
    "                np.random.choice(list(tag_to_word.keys()))\n",
    "            ]\n",
    "        next_word = np.random.choice(next_words)\n",
    "        if i == 0:\n",
    "            next_word = next_word.capitalize()\n",
    "        generated_sentence += next_word + ' '\n",
    "        \n",
    "    return generated_sentence.strip() + '.'"
   ]
  },
  {
   "cell_type": "code",
   "execution_count": 4,
   "metadata": {},
   "outputs": [
    {
     "data": {
      "text/plain": [
       "'Formalistyczny refrenista zaśnieżył pod niewybaczalnej rundzie pilno zmilitaryzowaną handicapa.'"
      ]
     },
     "execution_count": 4,
     "metadata": {},
     "output_type": "execute_result"
    }
   ],
   "source": [
    "generate_sentence(\n",
    "    base_sentence='Mały Piotruś spotkał w niewielkiej restauracyjce wczoraj poznaną koleżankę.'\n",
    ")"
   ]
  },
  {
   "cell_type": "code",
   "execution_count": 5,
   "metadata": {},
   "outputs": [
    {
     "data": {
      "text/plain": [
       "'Fermowy legniczanin przystrzelał bazgrała przyjemniejszej calówce wodno pozalepianą zastaliby.'"
      ]
     },
     "execution_count": 5,
     "metadata": {},
     "output_type": "execute_result"
    }
   ],
   "source": [
    "generate_sentence(\n",
    "    base_sentence='Gruby Stefan przeczytał we wczorajszej gazecie starannie przygotowaną analizę.'\n",
    ")"
   ]
  },
  {
   "cell_type": "code",
   "execution_count": 6,
   "metadata": {},
   "outputs": [
    {
     "data": {
      "text/plain": [
       "'Niezwrotność utopijną migamy za kruszwicą postępków z pałacyku przedostałam.'"
      ]
     },
     "execution_count": 6,
     "metadata": {},
     "output_type": "execute_result"
    }
   ],
   "source": [
    "generate_sentence(\n",
    "    base_sentence='Zgodność gramatyczną sprawdzamy za pomocą tagów z pliku supertags.'\n",
    ")"
   ]
  },
  {
   "cell_type": "markdown",
   "metadata": {},
   "source": [
    "# Task 4"
   ]
  },
  {
   "cell_type": "code",
   "execution_count": null,
   "metadata": {},
   "outputs": [],
   "source": []
  }
 ],
 "metadata": {
  "kernelspec": {
   "display_name": "Python 3",
   "language": "python",
   "name": "python3"
  },
  "language_info": {
   "codemirror_mode": {
    "name": "ipython",
    "version": 3
   },
   "file_extension": ".py",
   "mimetype": "text/x-python",
   "name": "python",
   "nbconvert_exporter": "python",
   "pygments_lexer": "ipython3",
   "version": "3.7.3"
  }
 },
 "nbformat": 4,
 "nbformat_minor": 4
}
