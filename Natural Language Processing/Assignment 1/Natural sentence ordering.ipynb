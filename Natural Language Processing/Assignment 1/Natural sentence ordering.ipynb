{
 "cells": [
  {
   "cell_type": "code",
   "execution_count": 186,
   "metadata": {},
   "outputs": [],
   "source": [
    "import sys\n",
    "import os\n",
    "import numpy as np\n",
    "import matplotlib.pyplot as plt\n",
    "import itertools\n",
    "import time\n",
    "from tqdm import tqdm \n",
    "\n",
    "%config IPCompleter.greedy=True"
   ]
  },
  {
   "cell_type": "code",
   "execution_count": 2,
   "metadata": {},
   "outputs": [],
   "source": [
    "polish_corpora_path = '../../../polish_corpora.txt'\n",
    "poleval2_path = '../../../poleval_2grams.txt'\n",
    "poleval3_path = '../../../poleval_3grams.txt'"
   ]
  },
  {
   "cell_type": "markdown",
   "metadata": {},
   "source": [
    "## Sentences"
   ]
  },
  {
   "cell_type": "code",
   "execution_count": 3,
   "metadata": {},
   "outputs": [
    {
     "name": "stdout",
     "output_type": "stream",
     "text": [
      "68\n"
     ]
    }
   ],
   "source": [
    "sentences = []\n",
    "with open('sentences.txt', encoding='utf8') as f:\n",
    "    for line in f:\n",
    "        line = line.strip().lower().split()\n",
    "        sentences.append(line)\n",
    "        \n",
    "print(len(sentences))"
   ]
  },
  {
   "cell_type": "markdown",
   "metadata": {},
   "source": [
    "## Unigrams"
   ]
  },
  {
   "cell_type": "code",
   "execution_count": 5,
   "metadata": {},
   "outputs": [
    {
     "name": "stderr",
     "output_type": "stream",
     "text": [
      "Loading data...: 23011601it [05:50, 65686.98it/s]\n"
     ]
    }
   ],
   "source": [
    "unigrams: dict = {}  # word -> number of occurrences\n",
    "\n",
    "with open(polish_corpora_path, encoding=\"utf8\") as f:\n",
    "    for line in tqdm(f, desc='Loading data...', position=0, leave=True):\n",
    "        line = line.strip().lower().split()\n",
    "        for word in line:\n",
    "            _word = bytes(bytearray(word, 'UTF-8'))\n",
    "            if _word in unigrams:\n",
    "                unigrams[_word] += 1\n",
    "            else:\n",
    "                unigrams[_word] = 1"
   ]
  },
  {
   "cell_type": "code",
   "execution_count": 6,
   "metadata": {},
   "outputs": [
    {
     "name": "stdout",
     "output_type": "stream",
     "text": [
      "Number of unigrams: 3591114\n"
     ]
    }
   ],
   "source": [
    "print(f'Number of unigrams: {len(unigrams)}')"
   ]
  },
  {
   "cell_type": "code",
   "execution_count": 12,
   "metadata": {},
   "outputs": [
    {
     "data": {
      "text/plain": [
       "451846640"
      ]
     },
     "execution_count": 12,
     "metadata": {},
     "output_type": "execute_result"
    }
   ],
   "source": [
    "all_unigrams = sum([x for x in unigrams.values()])\n",
    "all_unigrams"
   ]
  },
  {
   "cell_type": "markdown",
   "metadata": {},
   "source": [
    "## Bigrams"
   ]
  },
  {
   "cell_type": "code",
   "execution_count": 7,
   "metadata": {},
   "outputs": [
    {
     "name": "stderr",
     "output_type": "stream",
     "text": [
      "Loading data...: 59134224it [02:15, 437635.80it/s]\n"
     ]
    }
   ],
   "source": [
    "bigrams: dict = {}  # word -> List[Tuple[word_after, number of occurrences]]\n",
    "    \n",
    "with open(poleval2_path, encoding=\"utf8\") as f:\n",
    "    for line in tqdm(f, desc='Loading data...', position=0, leave=True):\n",
    "        line = line.strip().lower().split()\n",
    "        key: bytearray = bytes(bytearray(line[1], 'UTF-8'))\n",
    "        value: tuple = (bytes(bytearray(line[2], 'UTF-8')), line[0])\n",
    "            \n",
    "        if key in bigrams:\n",
    "            bigrams[key].append(value)\n",
    "        else:\n",
    "            bigrams[key] = [value]"
   ]
  },
  {
   "cell_type": "code",
   "execution_count": 8,
   "metadata": {},
   "outputs": [
    {
     "name": "stdout",
     "output_type": "stream",
     "text": [
      "Number of bigrams: 3591115\n"
     ]
    }
   ],
   "source": [
    "print(f'Number of bigrams: {len(bigrams)}')"
   ]
  },
  {
   "cell_type": "markdown",
   "metadata": {},
   "source": [
    "## Counting probability"
   ]
  },
  {
   "cell_type": "code",
   "execution_count": 245,
   "metadata": {},
   "outputs": [],
   "source": [
    "def simple_pbb_bigrams(w1: bytes, w2: bytes) -> int:\n",
    "    \"\"\" Calculate number of occurrences of bigram (w1, w2) \"\"\"\n",
    "    assert type(w1) == bytes and type(w2) == bytes\n",
    "  \n",
    "    if w1 in bigrams:\n",
    "        for word_after_w1, n_ocurr in bigrams[w1]:\n",
    "            if word_after_w1 == w2:\n",
    "                return int(n_ocurr)\n",
    "    return 0\n",
    "\n",
    "\n",
    "def cond_pbb_bigrams(w1: bytes, w2: bytes) -> float:\n",
    "    \"\"\" Calculate P(w2 | w1) \"\"\"\n",
    "    assert type(w1) == bytes and type(w2) == bytes\n",
    "    cnt_w1_w2: int = 1\n",
    "    if w1 in bigrams:\n",
    "        for word_after_w1, n_ocurr in bigrams[w1]:\n",
    "            if word_after_w1 == w2:\n",
    "                cnt_w1_w2 = int(n_ocurr)\n",
    "                break\n",
    "        \n",
    "    cnt_w1: int = 1\n",
    "    if w1 in unigrams:\n",
    "        cnt_w1 = unigrams[w1]\n",
    "        \n",
    "    return cnt_w1_w2 / cnt_w1\n",
    "\n",
    "\n",
    "def lambda_cond_pbb_bigrams(\n",
    "    w1: bytes, w2: bytes, \n",
    "    lambda1: float, lambda2: float\n",
    ") -> float:\n",
    "    \"\"\" Calculate P*(w2 | w1) \"\"\"\n",
    "    assert type(w1) == bytes and type(w2) == bytes\n",
    "    cnt_w1_w2: int = 1\n",
    "    if w1 in bigrams:\n",
    "        for word_after_w1, n_ocurr in bigrams[w1]:\n",
    "            if word_after_w1 == w2:\n",
    "                cnt_w1_w2 = int(n_ocurr)\n",
    "                break\n",
    "        \n",
    "    cnt_w1: int = 1\n",
    "    if w1 in unigrams:\n",
    "        cnt_w1 = unigrams[w1]\n",
    "        \n",
    "    return lambda1 * pbb_unigram(w2) + lambda2 * (cnt_w1_w2 / cnt_w1)\n",
    "\n",
    "\n",
    "def pbb_unigram(w1: bytes) -> float:\n",
    "    \"\"\" Calculate P(w1) \"\"\"\n",
    "    assert type(w1) == bytes\n",
    "    cnt_w1 = 1\n",
    "    if w1 in unigrams:\n",
    "        cnt_w1 = unigrams[w1]\n",
    "        \n",
    "    return cnt_w1 / all_unigrams\n",
    "\n",
    "\n",
    "def pbb_sentence(sentence: list, cond_pbb_func) -> float:\n",
    "    \"\"\" Calculate P(w1 ... wn ) \"\"\"\n",
    "    n: int = len(sentence)\n",
    "    assert n > 0\n",
    "    pbb = pbb_unigram(w1=sentence[0])\n",
    "    for i in range(1, n):\n",
    "        pbb *= cond_pbb_func(w1=sentence[i - 1], w2=sentence[i])\n",
    "        \n",
    "    return pbb"
   ]
  },
  {
   "cell_type": "markdown",
   "metadata": {},
   "source": [
    "## Functions"
   ]
  },
  {
   "cell_type": "code",
   "execution_count": 220,
   "metadata": {},
   "outputs": [],
   "source": [
    "def generate_permutations(sentence: list) -> list:\n",
    "    return list(itertools.permutations(sentence))\n",
    "\n",
    "def order_permutations(permutations: list, scoring_function, cond_pbb_func) -> list:\n",
    "    scores = []\n",
    "    for x in tqdm(permutations, desc='Scoring permutations...', leave=True, position=0):\n",
    "        scores.append(scoring_function(x, cond_pbb_func))\n",
    "    return sorted(zip(scores, permutations), reverse=True)\n",
    "\n",
    "def score_permuatations(valid_sentence: list, scoring_function, cond_pbb_func) -> float:\n",
    "    permutations: list = generate_permutations(sentence=valid_sentence)\n",
    "    permutations = order_permutations(\n",
    "        permutations=permutations, scoring_function=scoring_function, cond_pbb_func=cond_pbb_func\n",
    "    )\n",
    "    permutations = [y for x, y in permutations]\n",
    "    best_decoded = list(map(lambda x: x.decode('utf8'), permutations[0]))\n",
    "    print(f'Best: {best_decoded}')\n",
    "    for i, sentence in enumerate(permutations):\n",
    "        if tuple(sentence) == tuple(valid_sentence):\n",
    "            return 1 / (i + 1)\n",
    "    return 0\n",
    "\n",
    "def final_score(cond_pbb_func) -> float:\n",
    "    total_score: float = 0.0\n",
    "    for i, sentence in enumerate(sentences):\n",
    "        time.sleep(1)\n",
    "        if len(sentence) > 7:\n",
    "            print(f'{i+1} / {len(sentences)} | {sentence} ===> ??? / 1.0')\n",
    "            print('Skipped because sentence is too long.')\n",
    "            continue\n",
    "        sentence_bytes = list(map(lambda x: bytes(bytearray(x, encoding='UTF-8')), sentence))\n",
    "        score = score_permuatations(\n",
    "            valid_sentence=sentence_bytes, \n",
    "            scoring_function=pbb_sentence,\n",
    "            cond_pbb_func=cond_pbb_func\n",
    "        )\n",
    "        total_score += score\n",
    "        print(f'{i+1} / {len(sentences)} | {sentence} ===> {score:.3f} / 1.0')\n",
    "    return score"
   ]
  },
  {
   "cell_type": "markdown",
   "metadata": {},
   "source": [
    "## $P(w_1 ... w_n) = P(w_1)*P(w_2 | w_1) * ... * P(w_n | w_{n-1})$\n",
    "## $P(w2 | w1) = \\frac{cnt(w1w2)}{cnt(w1)}$"
   ]
  },
  {
   "cell_type": "code",
   "execution_count": 216,
   "metadata": {},
   "outputs": [
    {
     "name": "stderr",
     "output_type": "stream",
     "text": [
      "Scoring permutations...: 100%|██████████| 120/120 [00:00<00:00, 1469.73it/s]\n"
     ]
    },
    {
     "name": "stdout",
     "output_type": "stream",
     "text": [
      "Best: ['wczoraj', 'stefanowi', 'judyta', 'czekoladki', 'dała']\n",
      "1 / 68 | ['judyta', 'dała', 'wczoraj', 'stefanowi', 'czekoladki'] ===> 0.011 / 1.0\n"
     ]
    },
    {
     "name": "stderr",
     "output_type": "stream",
     "text": [
      "Scoring permutations...: 100%|██████████| 120/120 [00:00<00:00, 418.62it/s]\n"
     ]
    },
    {
     "name": "stdout",
     "output_type": "stream",
     "text": [
      "Best: ['dwa', 'koziołki', 'rogate', 'babuleńka', 'miała']\n",
      "2 / 68 | ['babuleńka', 'miała', 'dwa', 'rogate', 'koziołki'] ===> 0.010 / 1.0\n"
     ]
    },
    {
     "name": "stderr",
     "output_type": "stream",
     "text": [
      "Scoring permutations...: 100%|██████████| 720/720 [00:00<00:00, 1520.32it/s]\n"
     ]
    },
    {
     "name": "stdout",
     "output_type": "stream",
     "text": [
      "Best: ['pewną', 'piękną', 'kobietę', 'spotkałem', 'wczoraj', 'wieczorem']\n",
      "3 / 68 | ['wczoraj', 'wieczorem', 'spotkałem', 'pewną', 'piękną', 'kobietę'] ===> 0.500 / 1.0\n"
     ]
    },
    {
     "name": "stderr",
     "output_type": "stream",
     "text": [
      "Scoring permutations...: 100%|██████████| 720/720 [00:08<00:00, 85.45it/s] \n"
     ]
    },
    {
     "name": "stdout",
     "output_type": "stream",
     "text": [
      "Best: ['to', 'nasz', 'przetwarzanie', 'języka', 'naturalnego', 'przedmiot']\n",
      "4 / 68 | ['nasz', 'przedmiot', 'to', 'przetwarzanie', 'języka', 'naturalnego'] ===> 0.009 / 1.0\n"
     ]
    },
    {
     "name": "stderr",
     "output_type": "stream",
     "text": [
      "Scoring permutations...: 100%|██████████| 120/120 [00:00<00:00, 728.64it/s]\n"
     ]
    },
    {
     "name": "stdout",
     "output_type": "stream",
     "text": [
      "Best: ['prowadzi', 'jedną', 'grupę', 'michaliszyn', 'jakub']\n",
      "5 / 68 | ['jedną', 'grupę', 'prowadzi', 'jakub', 'michaliszyn'] ===> 0.013 / 1.0\n"
     ]
    },
    {
     "name": "stderr",
     "output_type": "stream",
     "text": [
      "Scoring permutations...: 100%|██████████| 24/24 [00:00<00:00, 111.90it/s]\n"
     ]
    },
    {
     "name": "stdout",
     "output_type": "stream",
     "text": [
      "Best: ['jest', 'wykładowcą', 'rychlikowski', 'paweł']\n",
      "6 / 68 | ['wykładowcą', 'jest', 'paweł', 'rychlikowski'] ===> 0.048 / 1.0\n"
     ]
    },
    {
     "name": "stderr",
     "output_type": "stream",
     "text": [
      "Scoring permutations...: 100%|██████████| 5040/5040 [00:42<00:00, 117.31it/s]\n"
     ]
    },
    {
     "name": "stdout",
     "output_type": "stream",
     "text": [
      "Best: ['pan', 'paweł', 'prowadzi', 'również', 'pozostałe', 'dwie', 'grupy']\n",
      "7 / 68 | ['pan', 'paweł', 'prowadzi', 'również', 'dwie', 'pozostałe', 'grupy'] ===> 0.200 / 1.0\n",
      "8 / 68 | ['na', 'stronie', 'wykładu', 'będą', 'pojawiać', 'się', 'listy', 'zadań'] ===> ??? / 1.0\n",
      "Skipped because sentence is too long.\n"
     ]
    },
    {
     "name": "stderr",
     "output_type": "stream",
     "text": [
      "Scoring permutations...: 100%|██████████| 720/720 [00:42<00:00, 17.01it/s]\n"
     ]
    },
    {
     "name": "stdout",
     "output_type": "stream",
     "text": [
      "Best: ['i', 'to', 'będą', 'ćwiczeniowe', 'pracowniowe', 'listy']\n",
      "9 / 68 | ['będą', 'to', 'listy', 'ćwiczeniowe', 'i', 'pracowniowe'] ===> 0.002 / 1.0\n"
     ]
    },
    {
     "name": "stderr",
     "output_type": "stream",
     "text": [
      "Scoring permutations...: 100%|██████████| 720/720 [00:42<00:00, 16.93it/s]\n"
     ]
    },
    {
     "name": "stdout",
     "output_type": "stream",
     "text": [
      "Best: ['i', 'to', 'będą', 'ćwiczeniowe', 'pracowniowe', 'listy']\n",
      "10 / 68 | ['będą', 'to', 'listy', 'pracowniowe', 'i', 'ćwiczeniowe'] ===> 0.002 / 1.0\n"
     ]
    },
    {
     "name": "stderr",
     "output_type": "stream",
     "text": [
      "Scoring permutations...: 100%|██████████| 720/720 [00:16<00:00, 42.90it/s]\n"
     ]
    },
    {
     "name": "stdout",
     "output_type": "stream",
     "text": [
      "Best: ['mogą', 'pojawiać', 'się', 'również', 'dodatkowe', 'aktywności']\n",
      "11 / 68 | ['mogą', 'się', 'pojawiać', 'również', 'dodatkowe', 'aktywności'] ===> 0.036 / 1.0\n"
     ]
    },
    {
     "name": "stderr",
     "output_type": "stream",
     "text": [
      "Scoring permutations...: 100%|██████████| 24/24 [00:00<00:00, 366.18it/s]\n"
     ]
    },
    {
     "name": "stdout",
     "output_type": "stream",
     "text": [
      "Best: ['te', 'będą', 'premiowane', 'aktywności']\n",
      "12 / 68 | ['te', 'aktywności', 'będą', 'premiowane'] ===> 0.056 / 1.0\n"
     ]
    },
    {
     "name": "stderr",
     "output_type": "stream",
     "text": [
      "Scoring permutations...: 100%|██████████| 720/720 [00:21<00:00, 34.16it/s]\n"
     ]
    },
    {
     "name": "stdout",
     "output_type": "stream",
     "text": [
      "Best: ['na', 'platformie', 'zdalnej', 'quizy', 'przykłąd', 'na']\n",
      "13 / 68 | ['na', 'przykłąd', 'quizy', 'na', 'platformie', 'zdalnej'] ===> 0.013 / 1.0\n"
     ]
    },
    {
     "name": "stderr",
     "output_type": "stream",
     "text": [
      "Scoring permutations...: 100%|██████████| 720/720 [00:20<00:00, 35.90it/s]\n"
     ]
    },
    {
     "name": "stdout",
     "output_type": "stream",
     "text": [
      "Best: ['na', 'temat', 'wykładu', 'miniprojekty', 'rozważamy', 'też']\n",
      "14 / 68 | ['rozważamy', 'też', 'miniprojekty', 'na', 'temat', 'wykładu'] ===> 0.003 / 1.0\n"
     ]
    },
    {
     "name": "stderr",
     "output_type": "stream",
     "text": [
      "Scoring permutations...: 100%|██████████| 5040/5040 [02:12<00:00, 37.92it/s]\n"
     ]
    },
    {
     "name": "stdout",
     "output_type": "stream",
     "text": [
      "Best: ['co', 'najmniej', 'tygodniowym', 'wyprzedzeniem', 'zapowiadamy', 'je', 'z']\n",
      "15 / 68 | ['zapowiadamy', 'je', 'z', 'co', 'najmniej', 'tygodniowym', 'wyprzedzeniem'] ===> 0.005 / 1.0\n"
     ]
    },
    {
     "name": "stderr",
     "output_type": "stream",
     "text": [
      "Scoring permutations...: 100%|██████████| 720/720 [00:15<00:00, 46.01it/s]\n"
     ]
    },
    {
     "name": "stdout",
     "output_type": "stream",
     "text": [
      "Best: ['na', 'zajęcia', 'przeznaczone', 'są', 'konkretne', 'zadania']\n",
      "16 / 68 | ['zadania', 'są', 'przeznaczone', 'na', 'konkretne', 'zajęcia'] ===> 0.033 / 1.0\n"
     ]
    },
    {
     "name": "stderr",
     "output_type": "stream",
     "text": [
      "Scoring permutations...: 100%|██████████| 720/720 [00:33<00:00, 21.22it/s]\n"
     ]
    },
    {
     "name": "stdout",
     "output_type": "stream",
     "text": [
      "Best: ['w', 'sali', 'seminaryjnej', 'ćwiczenia', 'zaczynają', 'się']\n",
      "17 / 68 | ['ćwiczenia', 'zaczynają', 'się', 'w', 'sali', 'seminaryjnej'] ===> 0.059 / 1.0\n"
     ]
    },
    {
     "name": "stderr",
     "output_type": "stream",
     "text": [
      "Scoring permutations...: 100%|██████████| 720/720 [00:24<00:00, 28.93it/s]\n"
     ]
    },
    {
     "name": "stdout",
     "output_type": "stream",
     "text": [
      "Best: ['tylko', 'w', 'trybie', 'stacjonarnym', 'jest', 'tak']\n",
      "18 / 68 | ['jest', 'tak', 'tylko', 'w', 'trybie', 'stacjonarnym'] ===> 0.250 / 1.0\n"
     ]
    },
    {
     "name": "stderr",
     "output_type": "stream",
     "text": [
      "Scoring permutations...: 100%|██████████| 5040/5040 [02:56<00:00, 28.49it/s]\n"
     ]
    },
    {
     "name": "stdout",
     "output_type": "stream",
     "text": [
      "Best: ['w', 'pracowni', 'domyślnie', 'pozostałe', 'zajęcia', 'zaczynają', 'się']\n",
      "19 / 68 | ['pozostałe', 'zajęcia', 'domyślnie', 'zaczynają', 'się', 'w', 'pracowni'] ===> 0.143 / 1.0\n"
     ]
    },
    {
     "name": "stderr",
     "output_type": "stream",
     "text": [
      "Scoring permutations...: 100%|██████████| 120/120 [00:01<00:00, 69.54it/s]\n"
     ]
    },
    {
     "name": "stdout",
     "output_type": "stream",
     "text": [
      "Best: ['indywidualnych', 'pracownia', 'konsutlacjach', 'polega', 'na']\n",
      "20 / 68 | ['pracownia', 'polega', 'na', 'indywidualnych', 'konsutlacjach'] ===> 0.017 / 1.0\n"
     ]
    },
    {
     "name": "stderr",
     "output_type": "stream",
     "text": [
      "Scoring permutations...: 100%|██████████| 120/120 [00:02<00:00, 40.60it/s]\n"
     ]
    },
    {
     "name": "stdout",
     "output_type": "stream",
     "text": [
      "Best: ['tam', 'rozmawiamy', 'na', 'temat', 'rozwiązań']\n",
      "21 / 68 | ['rozmawiamy', 'tam', 'na', 'temat', 'rozwiązań'] ===> 0.067 / 1.0\n"
     ]
    },
    {
     "name": "stderr",
     "output_type": "stream",
     "text": [
      "Scoring permutations...: 100%|██████████| 5040/5040 [00:10<00:00, 464.15it/s]\n"
     ]
    },
    {
     "name": "stdout",
     "output_type": "stream",
     "text": [
      "Best: ['podczas', 'ćwiczeń', 'studenci', 'przedstawiają', 'pisemne', 'rozwiązania', 'zadań']\n",
      "22 / 68 | ['podczas', 'ćwiczeń', 'studenci', 'przedstawiają', 'pisemne', 'rozwiązania', 'zadań'] ===> 1.000 / 1.0\n"
     ]
    },
    {
     "name": "stderr",
     "output_type": "stream",
     "text": [
      "Scoring permutations...: 100%|██████████| 720/720 [00:07<00:00, 99.92it/s] \n"
     ]
    },
    {
     "name": "stdout",
     "output_type": "stream",
     "text": [
      "Best: ['zależy', 'od', 'sytuacji', 'epidemiologicznej', 'tryb', 'zajęć']\n",
      "23 / 68 | ['tryb', 'zajęć', 'zależy', 'od', 'sytuacji', 'epidemiologicznej'] ===> 0.077 / 1.0\n"
     ]
    },
    {
     "name": "stderr",
     "output_type": "stream",
     "text": [
      "Scoring permutations...: 100%|██████████| 120/120 [00:01<00:00, 90.26it/s]\n"
     ]
    },
    {
     "name": "stdout",
     "output_type": "stream",
     "text": [
      "Best: ['też', 'zależy', 'od', 'wymogów', 'formalnych']\n",
      "24 / 68 | ['zależy', 'też', 'od', 'wymogów', 'formalnych'] ===> 0.125 / 1.0\n"
     ]
    },
    {
     "name": "stderr",
     "output_type": "stream",
     "text": [
      "Scoring permutations...: 100%|██████████| 120/120 [00:01<00:00, 63.66it/s]\n"
     ]
    },
    {
     "name": "stdout",
     "output_type": "stream",
     "text": [
      "Best: ['również', 'zależy', 'od', 'decyzji', 'władz']\n",
      "25 / 68 | ['zależy', 'również', 'od', 'decyzji', 'władz'] ===> 0.250 / 1.0\n"
     ]
    },
    {
     "name": "stderr",
     "output_type": "stream",
     "text": [
      "Scoring permutations...: 100%|██████████| 720/720 [00:44<00:00, 16.23it/s]\n"
     ]
    },
    {
     "name": "stdout",
     "output_type": "stream",
     "text": [
      "Best: ['możliwości', 'i', 'studentów', 'prowadzących', 'uwzględnia', 'się']\n",
      "26 / 68 | ['uwzględnia', 'się', 'możliwości', 'studentów', 'i', 'prowadzących'] ===> 0.024 / 1.0\n"
     ]
    },
    {
     "name": "stderr",
     "output_type": "stream",
     "text": [
      "Scoring permutations...: 100%|██████████| 5040/5040 [03:09<00:00, 26.65it/s]\n"
     ]
    },
    {
     "name": "stdout",
     "output_type": "stream",
     "text": [
      "Best: ['może', 'on', 'w', 'trakcie', 'semestru', 'zmieniać', 'się']\n",
      "27 / 68 | ['może', 'się', 'on', 'zmieniać', 'w', 'trakcie', 'semestru'] ===> 0.019 / 1.0\n"
     ]
    },
    {
     "name": "stderr",
     "output_type": "stream",
     "text": [
      "Scoring permutations...: 100%|██████████| 720/720 [00:01<00:00, 378.86it/s]\n"
     ]
    },
    {
     "name": "stdout",
     "output_type": "stream",
     "text": [
      "Best: ['przed', 'ćwiczeniami', 'prowadzącemu', 'dostarczają', 'deklaracje', 'studenci']\n",
      "28 / 68 | ['przed', 'ćwiczeniami', 'studenci', 'dostarczają', 'prowadzącemu', 'deklaracje'] ===> 0.091 / 1.0\n"
     ]
    },
    {
     "name": "stderr",
     "output_type": "stream",
     "text": [
      "Scoring permutations...: 100%|██████████| 24/24 [00:00<00:00, 272.05it/s]\n"
     ]
    },
    {
     "name": "stdout",
     "output_type": "stream",
     "text": [
      "Best: ['zadań', 'numery', 'zawiera', 'ona']\n",
      "29 / 68 | ['zawiera', 'ona', 'numery', 'zadań'] ===> 0.500 / 1.0\n"
     ]
    },
    {
     "name": "stderr",
     "output_type": "stream",
     "text": [
      "Scoring permutations...: 100%|██████████| 120/120 [00:00<00:00, 230.20it/s]\n"
     ]
    },
    {
     "name": "stdout",
     "output_type": "stream",
     "text": [
      "Best: ['przy', 'tablicy', 'studenci', 'pokazują', 'rozwiązania']\n",
      "30 / 68 | ['studenci', 'pokazują', 'rozwiązania', 'przy', 'tablicy'] ===> 0.059 / 1.0\n"
     ]
    },
    {
     "name": "stderr",
     "output_type": "stream",
     "text": [
      "Scoring permutations...: 100%|██████████| 5040/5040 [05:17<00:00, 15.87it/s]\n"
     ]
    },
    {
     "name": "stdout",
     "output_type": "stream",
     "text": [
      "Best: [',', 'jeżeli', 'nie', 'jest', 'źle', 'student', 'umie']\n",
      "31 / 68 | ['jest', 'źle', ',', 'jeżeli', 'student', 'nie', 'umie'] ===> 0.021 / 1.0\n"
     ]
    },
    {
     "name": "stderr",
     "output_type": "stream",
     "text": [
      "Scoring permutations...: 100%|██████████| 120/120 [00:02<00:00, 54.48it/s]\n"
     ]
    },
    {
     "name": "stdout",
     "output_type": "stream",
     "text": [
      "Best: ['dodatkowo', 'odejmuje', 'coś', 'mu', 'się']\n",
      "32 / 68 | ['dodatkowo', 'coś', 'mu', 'się', 'odejmuje'] ===> 0.013 / 1.0\n"
     ]
    },
    {
     "name": "stderr",
     "output_type": "stream",
     "text": [
      "Scoring permutations...: 100%|██████████| 5040/5040 [02:27<00:00, 34.06it/s]\n"
     ]
    },
    {
     "name": "stdout",
     "output_type": "stream",
     "text": [
      "Best: ['można', 'oddawać', 'pracowni', 'podczas', 'zajęć', 'na', 'zadania']\n",
      "33 / 68 | ['zadania', 'można', 'oddawać', 'podczas', 'zajęć', 'na', 'pracowni'] ===> 0.003 / 1.0\n"
     ]
    },
    {
     "name": "stderr",
     "output_type": "stream",
     "text": [
      "Scoring permutations...: 100%|██████████| 24/24 [00:00<00:00, 425.66it/s]\n"
     ]
    },
    {
     "name": "stdout",
     "output_type": "stream",
     "text": [
      "Best: ['należy', 'rozwiązywać', 'zadania', 'samodzielnie']\n",
      "34 / 68 | ['zadania', 'należy', 'rozwiązywać', 'samodzielnie'] ===> 0.143 / 1.0\n"
     ]
    },
    {
     "name": "stderr",
     "output_type": "stream",
     "text": [
      "Scoring permutations...: 100%|██████████| 24/24 [00:00<00:00, 330.97it/s]\n"
     ]
    },
    {
     "name": "stdout",
     "output_type": "stream",
     "text": [
      "Best: ['prowadzący', 'ocenia', 'poprawność', 'rozwiązania']\n",
      "35 / 68 | ['prowadzący', 'ocenia', 'poprawność', 'rozwiązania'] ===> 1.000 / 1.0\n"
     ]
    },
    {
     "name": "stderr",
     "output_type": "stream",
     "text": [
      "Scoring permutations...: 100%|██████████| 5040/5040 [02:39<00:00, 31.69it/s]\n"
     ]
    },
    {
     "name": "stdout",
     "output_type": "stream",
     "text": [
      "Best: ['informacje', 'o', 'regułach', 'czasem', 'mogą', 'pojawić', 'się']\n",
      "36 / 68 | ['czasem', 'mogą', 'pojawić', 'się', 'informacje', 'o', 'regułach'] ===> 0.100 / 1.0\n"
     ]
    },
    {
     "name": "stderr",
     "output_type": "stream",
     "text": [
      "Scoring permutations...: 100%|██████████| 720/720 [00:21<00:00, 33.78it/s]\n"
     ]
    },
    {
     "name": "stdout",
     "output_type": "stream",
     "text": [
      "Best: ['każdej', 'podany', 'termin', 'jest', 'na', 'liście']\n",
      "37 / 68 | ['na', 'każdej', 'liście', 'podany', 'jest', 'termin'] ===> 0.023 / 1.0\n"
     ]
    },
    {
     "name": "stderr",
     "output_type": "stream",
     "text": [
      "Scoring permutations...: 100%|██████████| 720/720 [00:05<00:00, 128.24it/s]\n"
     ]
    },
    {
     "name": "stdout",
     "output_type": "stream",
     "text": [
      "Best: ['za', 'dużo', 'punktów', 'dostajemy', 'poprawne', 'rozwiązanie']\n",
      "38 / 68 | ['za', 'poprawne', 'rozwiązanie', 'dostajemy', 'dużo', 'punktów'] ===> 0.125 / 1.0\n"
     ]
    },
    {
     "name": "stderr",
     "output_type": "stream",
     "text": [
      "Scoring permutations...: 100%|██████████| 120/120 [00:00<00:00, 154.53it/s]\n"
     ]
    },
    {
     "name": "stdout",
     "output_type": "stream",
     "text": [
      "Best: ['nie', 'będą', 'sprawdzane', 'spóźnione', 'zadania']\n",
      "39 / 68 | ['spóźnione', 'zadania', 'nie', 'będą', 'sprawdzane'] ===> 0.038 / 1.0\n"
     ]
    },
    {
     "name": "stderr",
     "output_type": "stream",
     "text": [
      "Scoring permutations...: 100%|██████████| 120/120 [00:00<00:00, 392.93it/s]\n"
     ]
    },
    {
     "name": "stdout",
     "output_type": "stream",
     "text": [
      "Best: ['pierwsza', 'lista', 'ma', 'dłuższy', 'termin']\n",
      "40 / 68 | ['pierwsza', 'lista', 'ma', 'dłuższy', 'termin'] ===> 1.000 / 1.0\n"
     ]
    },
    {
     "name": "stderr",
     "output_type": "stream",
     "text": [
      "Scoring permutations...: 100%|██████████| 5040/5040 [00:44<00:00, 112.73it/s]\n"
     ]
    },
    {
     "name": "stdout",
     "output_type": "stream",
     "text": [
      "Best: ['pod', 'koniec', 'semestru', 'zmodyfikowana', 'zasada', 'musi', 'być']\n",
      "41 / 68 | ['zasada', 'musi', 'być', 'zmodyfikowana', 'pod', 'koniec', 'semestru'] ===> 0.037 / 1.0\n"
     ]
    },
    {
     "name": "stderr",
     "output_type": "stream",
     "text": [
      "Scoring permutations...: 100%|██████████| 5040/5040 [02:06<00:00, 39.92it/s]\n"
     ]
    },
    {
     "name": "stdout",
     "output_type": "stream",
     "text": [
      "Best: ['w', 'przypadku', 'choroby', 'studenta', 'obowiązują', 'inne', 'zasady']\n",
      "42 / 68 | ['w', 'przypadku', 'choroby', 'studenta', 'obowiązują', 'inne', 'zasady'] ===> 1.000 / 1.0\n"
     ]
    },
    {
     "name": "stderr",
     "output_type": "stream",
     "text": [
      "Scoring permutations...: 100%|██████████| 5040/5040 [02:27<00:00, 34.07it/s]\n"
     ]
    },
    {
     "name": "stdout",
     "output_type": "stream",
     "text": [
      "Best: ['w', 'przypadku', 'studenta', 'kwarantanny', 'obowiązują', 'inne', 'zasady']\n",
      "43 / 68 | ['w', 'przypadku', 'kwarantanny', 'studenta', 'obowiązują', 'inne', 'zasady'] ===> 0.250 / 1.0\n"
     ]
    },
    {
     "name": "stderr",
     "output_type": "stream",
     "text": [
      "Scoring permutations...: 100%|██████████| 5040/5040 [02:06<00:00, 39.91it/s]\n"
     ]
    },
    {
     "name": "stdout",
     "output_type": "stream",
     "text": [
      "Best: ['w', 'przypadku', 'studenta', 'izolacji', 'obowiązują', 'inne', 'zasady']\n",
      "44 / 68 | ['w', 'przypadku', 'izolacji', 'studenta', 'obowiązują', 'inne', 'zasady'] ===> 0.500 / 1.0\n",
      "45 / 68 | ['możliwe', 'jest', 'oddawanie', 'zaległych', 'zadań', 'bez', 'straty', 'punktowej'] ===> ??? / 1.0\n",
      "Skipped because sentence is too long.\n"
     ]
    },
    {
     "name": "stderr",
     "output_type": "stream",
     "text": [
      "Scoring permutations...: 100%|██████████| 720/720 [00:30<00:00, 23.83it/s]\n"
     ]
    },
    {
     "name": "stdout",
     "output_type": "stream",
     "text": [
      "Best: ['ocenę', 'tabelką', 'wystawia', 'się', 'zgodnie', 'z']\n",
      "46 / 68 | ['ocenę', 'wystawia', 'się', 'zgodnie', 'z', 'tabelką'] ===> 0.018 / 1.0\n"
     ]
    },
    {
     "name": "stderr",
     "output_type": "stream",
     "text": [
      "Scoring permutations...: 100%|██████████| 120/120 [00:00<00:00, 792.49it/s]\n"
     ]
    },
    {
     "name": "stdout",
     "output_type": "stream",
     "text": [
      "Best: ['daje', 'ocenę', 'dostateczną', '50', 'punktów']\n",
      "47 / 68 | ['50', 'punktów', 'daje', 'ocenę', 'dostateczną'] ===> 0.167 / 1.0\n"
     ]
    },
    {
     "name": "stderr",
     "output_type": "stream",
     "text": [
      "Scoring permutations...: 100%|██████████| 720/720 [00:02<00:00, 343.42it/s]\n"
     ]
    },
    {
     "name": "stdout",
     "output_type": "stream",
     "text": [
      "Best: ['daje', 'bardzo', 'dobrą', 'ocenę', '120', 'punktów']\n",
      "48 / 68 | ['120', 'punktów', 'daje', 'ocenę', 'bardzo', 'dobrą'] ===> 0.083 / 1.0\n"
     ]
    },
    {
     "name": "stderr",
     "output_type": "stream",
     "text": [
      "Scoring permutations...: 100%|██████████| 24/24 [00:00<00:00, 607.61it/s]\n"
     ]
    },
    {
     "name": "stdout",
     "output_type": "stream",
     "text": [
      "Best: ['zostanie', 'przeskalowana', 'tabelka', 'powyższa']\n",
      "49 / 68 | ['powyższa', 'tabelka', 'zostanie', 'przeskalowana'] ===> 0.050 / 1.0\n"
     ]
    },
    {
     "name": "stderr",
     "output_type": "stream",
     "text": [
      "Scoring permutations...: 100%|██████████| 5040/5040 [03:01<00:00, 27.77it/s]\n"
     ]
    },
    {
     "name": "stdout",
     "output_type": "stream",
     "text": [
      "Best: ['z', 'innych', 'powodów', 'przeskalowana', 'też', 'może', 'zostać']\n",
      "50 / 68 | ['może', 'też', 'zostać', 'przeskalowana', 'z', 'innych', 'powodów'] ===> 0.007 / 1.0\n"
     ]
    },
    {
     "name": "stderr",
     "output_type": "stream",
     "text": [
      "Scoring permutations...: 100%|██████████| 720/720 [00:22<00:00, 32.22it/s]\n"
     ]
    },
    {
     "name": "stdout",
     "output_type": "stream",
     "text": [
      "Best: ['coś', 'w', 'pierwszym', 'tygodniu', 'podamy', 'zajęć']\n",
      "51 / 68 | ['w', 'pierwszym', 'tygodniu', 'zajęć', 'coś', 'podamy'] ===> 0.030 / 1.0\n"
     ]
    },
    {
     "name": "stderr",
     "output_type": "stream",
     "text": [
      "Scoring permutations...: 100%|██████████| 720/720 [00:24<00:00, 29.95it/s]\n"
     ]
    },
    {
     "name": "stdout",
     "output_type": "stream",
     "text": [
      "Best: ['dodatkowe', 'zasady', 'egzaminu', 'umożliwiające', 'zwolnienie', 'z']\n",
      "52 / 68 | ['dodatkowe', 'zasady', 'umożliwiające', 'zwolnienie', 'z', 'egzaminu'] ===> 0.500 / 1.0\n"
     ]
    },
    {
     "name": "stderr",
     "output_type": "stream",
     "text": [
      "Scoring permutations...: 100%|██████████| 720/720 [00:14<00:00, 49.45it/s]\n"
     ]
    },
    {
     "name": "stdout",
     "output_type": "stream",
     "text": [
      "Best: ['dotyczą', 'osób', 'z', 'dużą', 'liczbą', 'punktów']\n",
      "53 / 68 | ['dotyczą', 'osób', 'z', 'dużą', 'liczbą', 'punktów'] ===> 1.000 / 1.0\n"
     ]
    },
    {
     "name": "stderr",
     "output_type": "stream",
     "text": [
      "Scoring permutations...: 100%|██████████| 120/120 [00:01<00:00, 115.45it/s]\n"
     ]
    },
    {
     "name": "stdout",
     "output_type": "stream",
     "text": [
      "Best: ['też', 'można', 'rozwiązać', 'zadanie', 'specjalne']\n",
      "54 / 68 | ['można', 'rozwiązać', 'też', 'zadanie', 'specjalne'] ===> 0.053 / 1.0\n"
     ]
    },
    {
     "name": "stderr",
     "output_type": "stream",
     "text": [
      "Scoring permutations...: 100%|██████████| 720/720 [00:07<00:00, 94.57it/s] \n"
     ]
    },
    {
     "name": "stdout",
     "output_type": "stream",
     "text": [
      "Best: ['forma', 'egzaminu', 'zależy', 'od', 'wielu', 'czynników']\n",
      "55 / 68 | ['forma', 'egzaminu', 'zależy', 'od', 'wielu', 'czynników'] ===> 1.000 / 1.0\n"
     ]
    },
    {
     "name": "stderr",
     "output_type": "stream",
     "text": [
      "Scoring permutations...: 100%|██████████| 120/120 [00:01<00:00, 87.36it/s]\n"
     ]
    },
    {
     "name": "stdout",
     "output_type": "stream",
     "text": [
      "Best: ['różnych', 'wariantów', 'należy', 'spodziewać', 'się']\n",
      "56 / 68 | ['należy', 'się', 'spodziewać', 'różnych', 'wariantów'] ===> 0.167 / 1.0\n"
     ]
    },
    {
     "name": "stderr",
     "output_type": "stream",
     "text": [
      "Scoring permutations...: 100%|██████████| 120/120 [00:01<00:00, 73.63it/s]\n"
     ]
    },
    {
     "name": "stdout",
     "output_type": "stream",
     "text": [
      "Best: ['nie', 'wykluczamy', 'egzaminu', 'ustnego', 'indywidualnego']\n",
      "57 / 68 | ['nie', 'wykluczamy', 'indywidualnego', 'egzaminu', 'ustnego'] ===> 0.167 / 1.0\n"
     ]
    },
    {
     "name": "stderr",
     "output_type": "stream",
     "text": [
      "Scoring permutations...: 100%|██████████| 720/720 [00:27<00:00, 26.48it/s]\n"
     ]
    },
    {
     "name": "stdout",
     "output_type": "stream",
     "text": [
      "Best: ['są', 'też', 'tutaj', 'małgosia', 'jaś', 'i']\n",
      "58 / 68 | ['jaś', 'i', 'małgosia', 'też', 'są', 'tutaj'] ===> 0.004 / 1.0\n"
     ]
    },
    {
     "name": "stderr",
     "output_type": "stream",
     "text": [
      "Scoring permutations...: 100%|██████████| 120/120 [00:04<00:00, 26.74it/s]\n"
     ]
    },
    {
     "name": "stdout",
     "output_type": "stream",
     "text": [
      "Best: ['nie', 'przybędą', 'prosiaczkiem', 'puchatek', 'z']\n",
      "59 / 68 | ['puchatek', 'z', 'prosiaczkiem', 'nie', 'przybędą'] ===> 0.009 / 1.0\n"
     ]
    },
    {
     "name": "stderr",
     "output_type": "stream",
     "text": [
      "Scoring permutations...: 100%|██████████| 720/720 [00:30<00:00, 23.74it/s]\n"
     ]
    },
    {
     "name": "stdout",
     "output_type": "stream",
     "text": [
      "Best: ['i', 'był', 'chory', 'kotek', 'odpoczywał', 'raz']\n",
      "60 / 68 | ['raz', 'kotek', 'był', 'chory', 'i', 'odpoczywał'] ===> 0.002 / 1.0\n",
      "61 / 68 | ['raz', 'kotek', 'był', 'chory', 'i', 'leżał', 'w', 'łóżeczku'] ===> ??? / 1.0\n",
      "Skipped because sentence is too long.\n"
     ]
    },
    {
     "name": "stderr",
     "output_type": "stream",
     "text": [
      "Scoring permutations...: 100%|██████████| 720/720 [00:15<00:00, 47.91it/s]\n"
     ]
    },
    {
     "name": "stdout",
     "output_type": "stream",
     "text": [
      "Best: ['nie', 'jest', 'trudna', 'relacji', 'równoważności', 'definicja']\n",
      "62 / 68 | ['definicja', 'relacji', 'równoważności', 'nie', 'jest', 'trudna'] ===> 0.030 / 1.0\n"
     ]
    },
    {
     "name": "stderr",
     "output_type": "stream",
     "text": [
      "Scoring permutations...: 100%|██████████| 720/720 [00:09<00:00, 78.14it/s] \n"
     ]
    },
    {
     "name": "stdout",
     "output_type": "stream",
     "text": [
      "Best: ['jest', 'hipoteza', 'continuum', 'aksjomatów', 'niezależna', 'od']\n",
      "63 / 68 | ['hipoteza', 'continuum', 'jest', 'niezależna', 'od', 'aksjomatów'] ===> 0.010 / 1.0\n"
     ]
    },
    {
     "name": "stderr",
     "output_type": "stream",
     "text": [
      "Scoring permutations...: 100%|██████████| 120/120 [00:00<00:00, 1140.97it/s]\n"
     ]
    },
    {
     "name": "stdout",
     "output_type": "stream",
     "text": [
      "Best: ['wiele', 'radości', 'teoria', 'mnogości', 'daje']\n",
      "64 / 68 | ['teoria', 'mnogości', 'daje', 'wiele', 'radości'] ===> 0.250 / 1.0\n"
     ]
    },
    {
     "name": "stderr",
     "output_type": "stream",
     "text": [
      "Scoring permutations...: 100%|██████████| 120/120 [00:01<00:00, 68.12it/s]\n"
     ]
    },
    {
     "name": "stdout",
     "output_type": "stream",
     "text": [
      "Best: ['nie', 'jest', 'szczególnie', 'trudne', 'programowanie']\n",
      "65 / 68 | ['programowanie', 'nie', 'jest', 'szczególnie', 'trudne'] ===> 0.125 / 1.0\n"
     ]
    },
    {
     "name": "stderr",
     "output_type": "stream",
     "text": [
      "Scoring permutations...: 100%|██████████| 720/720 [00:34<00:00, 20.97it/s]\n"
     ]
    },
    {
     "name": "stdout",
     "output_type": "stream",
     "text": [
      "Best: ['rachunek', 'prawdopodobieństwa', 'przydaje', 'się', 'w', 'życiu']\n",
      "66 / 68 | ['rachunek', 'prawdopodobieństwa', 'przydaje', 'się', 'w', 'życiu'] ===> 1.000 / 1.0\n"
     ]
    },
    {
     "name": "stderr",
     "output_type": "stream",
     "text": [
      "Scoring permutations...: 100%|██████████| 720/720 [00:00<00:00, 1575.04it/s]\n"
     ]
    },
    {
     "name": "stdout",
     "output_type": "stream",
     "text": [
      "Best: ['zanim', 'rycerze', 'księżniczkę', 'osaczyli', 'strawił', 'smoka']\n",
      "67 / 68 | ['rycerze', 'osaczyli', 'smoka', 'zanim', 'strawił', 'księżniczkę'] ===> 0.003 / 1.0\n"
     ]
    },
    {
     "name": "stderr",
     "output_type": "stream",
     "text": [
      "Scoring permutations...: 100%|██████████| 720/720 [00:06<00:00, 109.44it/s]"
     ]
    },
    {
     "name": "stdout",
     "output_type": "stream",
     "text": [
      "Best: ['już', 'chyba', 'należy', 'przestać', 'wymyślać', 'zdania']\n",
      "68 / 68 | ['chyba', 'należy', 'już', 'przestać', 'wymyślać', 'zdania'] ===> 0.062 / 1.0\n",
      "Final score: 0.0625\n",
      "CPU times: user 39min 15s, sys: 5.12 s, total: 39min 20s\n",
      "Wall time: 40min 26s\n"
     ]
    },
    {
     "name": "stderr",
     "output_type": "stream",
     "text": [
      "\n"
     ]
    }
   ],
   "source": [
    "%%time\n",
    "print(f'Final score: {final_score(cond_pbb_func=cond_pbb_bigrams)}')"
   ]
  },
  {
   "cell_type": "code",
   "execution_count": 247,
   "metadata": {},
   "outputs": [
    {
     "name": "stdout",
     "output_type": "stream",
     "text": [
      "True accuracy: 0.07\n"
     ]
    }
   ],
   "source": [
    "print(f'True accuracy: {(0.0625 * 68) / 65 :.2f}')"
   ]
  },
  {
   "cell_type": "markdown",
   "metadata": {},
   "source": [
    "About 7 were correct a few were really close. <br>\n",
    "**22 35 40 42 53 55 66**"
   ]
  },
  {
   "cell_type": "markdown",
   "metadata": {},
   "source": [
    "## $P(w_1 ... w_n) = P(w_1)*P(w_2 | w_1) * ... * P(w_n | w_{n-1})$\n",
    "## $P^*(w2 | w1) = \\lambda_1 * P(w2) + \\lambda_2 * P(w2 | w1)$\n",
    "## $P(w2 | w1) = \\frac{cnt(w1w2)}{cnt(w1)}$"
   ]
  },
  {
   "cell_type": "code",
   "execution_count": 238,
   "metadata": {},
   "outputs": [],
   "source": [
    "def find_lambdas() -> tuple:\n",
    "    lambda1, lambda2 = 0.0, 0.0\n",
    "    iters = 0\n",
    "    for word, successor_words in tqdm(bigrams.items(), desc='Calculating lambdas ...'):\n",
    "        for w2, n_occur in successor_words:\n",
    "            pbb_w1 = pbb_unigram(w1=word)\n",
    "            pbb_w1_w2 = cond_pbb_bigrams(w1=word, w2=w2)\n",
    "            if pbb_w1_w2 >= pbb_w1:\n",
    "                lambda2 += int(n_occur)\n",
    "            else:\n",
    "                lambda1 += int(n_occur)\n",
    "        iters  += 1\n",
    "        if iters > 100:\n",
    "            break\n",
    "    return lambda1, lambda2"
   ]
  },
  {
   "cell_type": "code",
   "execution_count": 239,
   "metadata": {},
   "outputs": [
    {
     "name": "stderr",
     "output_type": "stream",
     "text": [
      "Calculating lambdas ...:   0%|          | 13/3591115 [02:41<12373:36:53, 12.40s/it]\n"
     ]
    },
    {
     "ename": "KeyboardInterrupt",
     "evalue": "",
     "output_type": "error",
     "traceback": [
      "\u001b[0;31m---------------------------------------------------------------------------\u001b[0m",
      "\u001b[0;31mKeyboardInterrupt\u001b[0m                         Traceback (most recent call last)",
      "\u001b[0;32m<ipython-input-239-3e9c90832b89>\u001b[0m in \u001b[0;36m<module>\u001b[0;34m\u001b[0m\n\u001b[0;32m----> 1\u001b[0;31m \u001b[0mlambda1\u001b[0m\u001b[0;34m,\u001b[0m \u001b[0mlambda2\u001b[0m \u001b[0;34m=\u001b[0m \u001b[0mfind_lambdas\u001b[0m\u001b[0;34m(\u001b[0m\u001b[0;34m)\u001b[0m\u001b[0;34m\u001b[0m\u001b[0;34m\u001b[0m\u001b[0m\n\u001b[0m\u001b[1;32m      2\u001b[0m \u001b[0;34m\u001b[0m\u001b[0m\n\u001b[1;32m      3\u001b[0m \u001b[0mlambda1\u001b[0m\u001b[0;34m,\u001b[0m \u001b[0mlambda2\u001b[0m\u001b[0;34m\u001b[0m\u001b[0;34m\u001b[0m\u001b[0m\n",
      "\u001b[0;32m<ipython-input-238-746e75009603>\u001b[0m in \u001b[0;36mfind_lambdas\u001b[0;34m()\u001b[0m\n\u001b[1;32m      5\u001b[0m         \u001b[0;32mfor\u001b[0m \u001b[0mw2\u001b[0m\u001b[0;34m,\u001b[0m \u001b[0mn_occur\u001b[0m \u001b[0;32min\u001b[0m \u001b[0msuccessor_words\u001b[0m\u001b[0;34m:\u001b[0m\u001b[0;34m\u001b[0m\u001b[0;34m\u001b[0m\u001b[0m\n\u001b[1;32m      6\u001b[0m             \u001b[0mpbb_w1\u001b[0m \u001b[0;34m=\u001b[0m \u001b[0mpbb_unigram\u001b[0m\u001b[0;34m(\u001b[0m\u001b[0mw1\u001b[0m\u001b[0;34m=\u001b[0m\u001b[0mword\u001b[0m\u001b[0;34m)\u001b[0m\u001b[0;34m\u001b[0m\u001b[0;34m\u001b[0m\u001b[0m\n\u001b[0;32m----> 7\u001b[0;31m             \u001b[0mpbb_w1_w2\u001b[0m \u001b[0;34m=\u001b[0m \u001b[0mcond_pbb_bigrams\u001b[0m\u001b[0;34m(\u001b[0m\u001b[0mw1\u001b[0m\u001b[0;34m=\u001b[0m\u001b[0mword\u001b[0m\u001b[0;34m,\u001b[0m \u001b[0mw2\u001b[0m\u001b[0;34m=\u001b[0m\u001b[0mw2\u001b[0m\u001b[0;34m)\u001b[0m\u001b[0;34m\u001b[0m\u001b[0;34m\u001b[0m\u001b[0m\n\u001b[0m\u001b[1;32m      8\u001b[0m             \u001b[0;32mif\u001b[0m \u001b[0mpbb_w1_w2\u001b[0m \u001b[0;34m>=\u001b[0m \u001b[0mpbb_w1\u001b[0m\u001b[0;34m:\u001b[0m\u001b[0;34m\u001b[0m\u001b[0;34m\u001b[0m\u001b[0m\n\u001b[1;32m      9\u001b[0m                 \u001b[0mlambda2\u001b[0m \u001b[0;34m+=\u001b[0m \u001b[0mint\u001b[0m\u001b[0;34m(\u001b[0m\u001b[0mn_occur\u001b[0m\u001b[0;34m)\u001b[0m\u001b[0;34m\u001b[0m\u001b[0;34m\u001b[0m\u001b[0m\n",
      "\u001b[0;32m<ipython-input-217-35e3bce735bf>\u001b[0m in \u001b[0;36mcond_pbb_bigrams\u001b[0;34m(w1, w2)\u001b[0m\n\u001b[1;32m      4\u001b[0m     \u001b[0mcnt_w1_w2\u001b[0m\u001b[0;34m:\u001b[0m \u001b[0mint\u001b[0m \u001b[0;34m=\u001b[0m \u001b[0;36m1\u001b[0m\u001b[0;34m\u001b[0m\u001b[0;34m\u001b[0m\u001b[0m\n\u001b[1;32m      5\u001b[0m     \u001b[0;32mif\u001b[0m \u001b[0mw1\u001b[0m \u001b[0;32min\u001b[0m \u001b[0mbigrams\u001b[0m\u001b[0;34m:\u001b[0m\u001b[0;34m\u001b[0m\u001b[0;34m\u001b[0m\u001b[0m\n\u001b[0;32m----> 6\u001b[0;31m         \u001b[0;32mfor\u001b[0m \u001b[0mword_after_w1\u001b[0m\u001b[0;34m,\u001b[0m \u001b[0mn_ocurr\u001b[0m \u001b[0;32min\u001b[0m \u001b[0mbigrams\u001b[0m\u001b[0;34m[\u001b[0m\u001b[0mw1\u001b[0m\u001b[0;34m]\u001b[0m\u001b[0;34m:\u001b[0m\u001b[0;34m\u001b[0m\u001b[0;34m\u001b[0m\u001b[0m\n\u001b[0m\u001b[1;32m      7\u001b[0m             \u001b[0;32mif\u001b[0m \u001b[0mword_after_w1\u001b[0m \u001b[0;34m==\u001b[0m \u001b[0mw2\u001b[0m\u001b[0;34m:\u001b[0m\u001b[0;34m\u001b[0m\u001b[0;34m\u001b[0m\u001b[0m\n\u001b[1;32m      8\u001b[0m                 \u001b[0mcnt_w1_w2\u001b[0m \u001b[0;34m=\u001b[0m \u001b[0mint\u001b[0m\u001b[0;34m(\u001b[0m\u001b[0mn_ocurr\u001b[0m\u001b[0;34m)\u001b[0m\u001b[0;34m\u001b[0m\u001b[0;34m\u001b[0m\u001b[0m\n",
      "\u001b[0;31mKeyboardInterrupt\u001b[0m: "
     ]
    }
   ],
   "source": [
    "lambda1, lambda2 = find_lambdas()\n",
    "\n",
    "lambda1, lambda2"
   ]
  },
  {
   "cell_type": "code",
   "execution_count": 240,
   "metadata": {},
   "outputs": [],
   "source": [
    "lambda1, lambda2 = 0.1, 0.9"
   ]
  },
  {
   "cell_type": "code",
   "execution_count": 242,
   "metadata": {},
   "outputs": [
    {
     "name": "stderr",
     "output_type": "stream",
     "text": [
      "Scoring permutations...: 100%|██████████| 120/120 [00:00<00:00, 1461.21it/s]\n"
     ]
    },
    {
     "name": "stdout",
     "output_type": "stream",
     "text": [
      "Best: ['wczoraj', 'stefanowi', 'czekoladki', 'judyta', 'dała']\n",
      "1 / 68 | ['judyta', 'dała', 'wczoraj', 'stefanowi', 'czekoladki'] ===> 0.011 / 1.0\n"
     ]
    },
    {
     "name": "stderr",
     "output_type": "stream",
     "text": [
      "Scoring permutations...: 100%|██████████| 120/120 [00:00<00:00, 667.20it/s]\n"
     ]
    },
    {
     "name": "stdout",
     "output_type": "stream",
     "text": [
      "Best: ['dwa', 'koziołki', 'babuleńka', 'rogate', 'miała']\n",
      "2 / 68 | ['babuleńka', 'miała', 'dwa', 'rogate', 'koziołki'] ===> 0.011 / 1.0\n"
     ]
    },
    {
     "name": "stderr",
     "output_type": "stream",
     "text": [
      "Scoring permutations...: 100%|██████████| 720/720 [00:00<00:00, 1486.63it/s]\n"
     ]
    },
    {
     "name": "stdout",
     "output_type": "stream",
     "text": [
      "Best: ['pewną', 'piękną', 'kobietę', 'spotkałem', 'wczoraj', 'wieczorem']\n",
      "3 / 68 | ['wczoraj', 'wieczorem', 'spotkałem', 'pewną', 'piękną', 'kobietę'] ===> 0.500 / 1.0\n"
     ]
    },
    {
     "name": "stderr",
     "output_type": "stream",
     "text": [
      "Scoring permutations...: 100%|██████████| 720/720 [00:08<00:00, 82.67it/s] \n"
     ]
    },
    {
     "name": "stdout",
     "output_type": "stream",
     "text": [
      "Best: ['to', 'nasz', 'przetwarzanie', 'języka', 'naturalnego', 'przedmiot']\n",
      "4 / 68 | ['nasz', 'przedmiot', 'to', 'przetwarzanie', 'języka', 'naturalnego'] ===> 0.008 / 1.0\n"
     ]
    },
    {
     "name": "stderr",
     "output_type": "stream",
     "text": [
      "Scoring permutations...: 100%|██████████| 120/120 [00:00<00:00, 679.48it/s]\n"
     ]
    },
    {
     "name": "stdout",
     "output_type": "stream",
     "text": [
      "Best: ['prowadzi', 'jedną', 'grupę', 'michaliszyn', 'jakub']\n",
      "5 / 68 | ['jedną', 'grupę', 'prowadzi', 'jakub', 'michaliszyn'] ===> 0.013 / 1.0\n"
     ]
    },
    {
     "name": "stderr",
     "output_type": "stream",
     "text": [
      "Scoring permutations...: 100%|██████████| 24/24 [00:00<00:00, 105.74it/s]\n"
     ]
    },
    {
     "name": "stdout",
     "output_type": "stream",
     "text": [
      "Best: ['jest', 'wykładowcą', 'rychlikowski', 'paweł']\n",
      "6 / 68 | ['wykładowcą', 'jest', 'paweł', 'rychlikowski'] ===> 0.048 / 1.0\n"
     ]
    },
    {
     "name": "stderr",
     "output_type": "stream",
     "text": [
      "Scoring permutations...: 100%|██████████| 5040/5040 [00:46<00:00, 109.08it/s]\n"
     ]
    },
    {
     "name": "stdout",
     "output_type": "stream",
     "text": [
      "Best: ['pan', 'paweł', 'prowadzi', 'również', 'pozostałe', 'dwie', 'grupy']\n",
      "7 / 68 | ['pan', 'paweł', 'prowadzi', 'również', 'dwie', 'pozostałe', 'grupy'] ===> 0.167 / 1.0\n",
      "8 / 68 | ['na', 'stronie', 'wykładu', 'będą', 'pojawiać', 'się', 'listy', 'zadań'] ===> ??? / 1.0\n",
      "Skipped because sentence is too long.\n"
     ]
    },
    {
     "name": "stderr",
     "output_type": "stream",
     "text": [
      "Scoring permutations...: 100%|██████████| 720/720 [00:43<00:00, 16.71it/s]\n"
     ]
    },
    {
     "name": "stdout",
     "output_type": "stream",
     "text": [
      "Best: ['i', 'to', 'będą', 'ćwiczeniowe', 'pracowniowe', 'listy']\n",
      "9 / 68 | ['będą', 'to', 'listy', 'ćwiczeniowe', 'i', 'pracowniowe'] ===> 0.002 / 1.0\n"
     ]
    },
    {
     "name": "stderr",
     "output_type": "stream",
     "text": [
      "Scoring permutations...: 100%|██████████| 720/720 [00:42<00:00, 16.80it/s]\n"
     ]
    },
    {
     "name": "stdout",
     "output_type": "stream",
     "text": [
      "Best: ['i', 'to', 'będą', 'ćwiczeniowe', 'pracowniowe', 'listy']\n",
      "10 / 68 | ['będą', 'to', 'listy', 'pracowniowe', 'i', 'ćwiczeniowe'] ===> 0.002 / 1.0\n"
     ]
    },
    {
     "name": "stderr",
     "output_type": "stream",
     "text": [
      "Scoring permutations...: 100%|██████████| 720/720 [00:17<00:00, 42.13it/s]\n"
     ]
    },
    {
     "name": "stdout",
     "output_type": "stream",
     "text": [
      "Best: ['mogą', 'pojawiać', 'się', 'również', 'dodatkowe', 'aktywności']\n",
      "11 / 68 | ['mogą', 'się', 'pojawiać', 'również', 'dodatkowe', 'aktywności'] ===> 0.029 / 1.0\n"
     ]
    },
    {
     "name": "stderr",
     "output_type": "stream",
     "text": [
      "Scoring permutations...: 100%|██████████| 24/24 [00:00<00:00, 246.74it/s]\n"
     ]
    },
    {
     "name": "stdout",
     "output_type": "stream",
     "text": [
      "Best: ['te', 'będą', 'premiowane', 'aktywności']\n",
      "12 / 68 | ['te', 'aktywności', 'będą', 'premiowane'] ===> 0.053 / 1.0\n"
     ]
    },
    {
     "name": "stderr",
     "output_type": "stream",
     "text": [
      "Scoring permutations...: 100%|██████████| 720/720 [00:21<00:00, 33.80it/s]\n"
     ]
    },
    {
     "name": "stdout",
     "output_type": "stream",
     "text": [
      "Best: ['na', 'platformie', 'zdalnej', 'przykłąd', 'quizy', 'na']\n",
      "13 / 68 | ['na', 'przykłąd', 'quizy', 'na', 'platformie', 'zdalnej'] ===> 0.009 / 1.0\n"
     ]
    },
    {
     "name": "stderr",
     "output_type": "stream",
     "text": [
      "Scoring permutations...: 100%|██████████| 720/720 [00:20<00:00, 34.85it/s]\n"
     ]
    },
    {
     "name": "stdout",
     "output_type": "stream",
     "text": [
      "Best: ['na', 'temat', 'wykładu', 'miniprojekty', 'rozważamy', 'też']\n",
      "14 / 68 | ['rozważamy', 'też', 'miniprojekty', 'na', 'temat', 'wykładu'] ===> 0.003 / 1.0\n"
     ]
    },
    {
     "name": "stderr",
     "output_type": "stream",
     "text": [
      "Scoring permutations...: 100%|██████████| 5040/5040 [02:16<00:00, 36.79it/s]\n"
     ]
    },
    {
     "name": "stdout",
     "output_type": "stream",
     "text": [
      "Best: ['co', 'najmniej', 'tygodniowym', 'wyprzedzeniem', 'zapowiadamy', 'je', 'z']\n",
      "15 / 68 | ['zapowiadamy', 'je', 'z', 'co', 'najmniej', 'tygodniowym', 'wyprzedzeniem'] ===> 0.006 / 1.0\n"
     ]
    },
    {
     "name": "stderr",
     "output_type": "stream",
     "text": [
      "Scoring permutations...: 100%|██████████| 720/720 [00:15<00:00, 46.15it/s]\n"
     ]
    },
    {
     "name": "stdout",
     "output_type": "stream",
     "text": [
      "Best: ['na', 'zajęcia', 'przeznaczone', 'są', 'konkretne', 'zadania']\n",
      "16 / 68 | ['zadania', 'są', 'przeznaczone', 'na', 'konkretne', 'zajęcia'] ===> 0.029 / 1.0\n"
     ]
    },
    {
     "name": "stderr",
     "output_type": "stream",
     "text": [
      "Scoring permutations...: 100%|██████████| 720/720 [00:34<00:00, 20.89it/s]\n"
     ]
    },
    {
     "name": "stdout",
     "output_type": "stream",
     "text": [
      "Best: ['w', 'sali', 'seminaryjnej', 'ćwiczenia', 'zaczynają', 'się']\n",
      "17 / 68 | ['ćwiczenia', 'zaczynają', 'się', 'w', 'sali', 'seminaryjnej'] ===> 0.050 / 1.0\n"
     ]
    },
    {
     "name": "stderr",
     "output_type": "stream",
     "text": [
      "Scoring permutations...: 100%|██████████| 720/720 [00:25<00:00, 28.59it/s]\n"
     ]
    },
    {
     "name": "stdout",
     "output_type": "stream",
     "text": [
      "Best: ['tylko', 'w', 'trybie', 'stacjonarnym', 'jest', 'tak']\n",
      "18 / 68 | ['jest', 'tak', 'tylko', 'w', 'trybie', 'stacjonarnym'] ===> 0.333 / 1.0\n"
     ]
    },
    {
     "name": "stderr",
     "output_type": "stream",
     "text": [
      "Scoring permutations...: 100%|██████████| 5040/5040 [02:58<00:00, 28.29it/s]\n"
     ]
    },
    {
     "name": "stdout",
     "output_type": "stream",
     "text": [
      "Best: ['w', 'pracowni', 'domyślnie', 'pozostałe', 'zajęcia', 'zaczynają', 'się']\n",
      "19 / 68 | ['pozostałe', 'zajęcia', 'domyślnie', 'zaczynają', 'się', 'w', 'pracowni'] ===> 0.143 / 1.0\n"
     ]
    },
    {
     "name": "stderr",
     "output_type": "stream",
     "text": [
      "Scoring permutations...: 100%|██████████| 120/120 [00:01<00:00, 68.01it/s]\n"
     ]
    },
    {
     "name": "stdout",
     "output_type": "stream",
     "text": [
      "Best: ['indywidualnych', 'konsutlacjach', 'pracownia', 'polega', 'na']\n",
      "20 / 68 | ['pracownia', 'polega', 'na', 'indywidualnych', 'konsutlacjach'] ===> 0.015 / 1.0\n"
     ]
    },
    {
     "name": "stderr",
     "output_type": "stream",
     "text": [
      "Scoring permutations...: 100%|██████████| 120/120 [00:02<00:00, 41.48it/s]\n"
     ]
    },
    {
     "name": "stdout",
     "output_type": "stream",
     "text": [
      "Best: ['tam', 'rozmawiamy', 'na', 'temat', 'rozwiązań']\n",
      "21 / 68 | ['rozmawiamy', 'tam', 'na', 'temat', 'rozwiązań'] ===> 0.067 / 1.0\n"
     ]
    },
    {
     "name": "stderr",
     "output_type": "stream",
     "text": [
      "Scoring permutations...: 100%|██████████| 5040/5040 [00:12<00:00, 400.80it/s]\n"
     ]
    },
    {
     "name": "stdout",
     "output_type": "stream",
     "text": [
      "Best: ['podczas', 'ćwiczeń', 'pisemne', 'przedstawiają', 'studenci', 'rozwiązania', 'zadań']\n",
      "22 / 68 | ['podczas', 'ćwiczeń', 'studenci', 'przedstawiają', 'pisemne', 'rozwiązania', 'zadań'] ===> 0.200 / 1.0\n"
     ]
    },
    {
     "name": "stderr",
     "output_type": "stream",
     "text": [
      "Scoring permutations...: 100%|██████████| 720/720 [00:07<00:00, 96.23it/s] \n"
     ]
    },
    {
     "name": "stdout",
     "output_type": "stream",
     "text": [
      "Best: ['zależy', 'od', 'sytuacji', 'epidemiologicznej', 'tryb', 'zajęć']\n",
      "23 / 68 | ['tryb', 'zajęć', 'zależy', 'od', 'sytuacji', 'epidemiologicznej'] ===> 0.067 / 1.0\n"
     ]
    },
    {
     "name": "stderr",
     "output_type": "stream",
     "text": [
      "Scoring permutations...: 100%|██████████| 120/120 [00:01<00:00, 88.35it/s]\n"
     ]
    },
    {
     "name": "stdout",
     "output_type": "stream",
     "text": [
      "Best: ['też', 'zależy', 'od', 'wymogów', 'formalnych']\n",
      "24 / 68 | ['zależy', 'też', 'od', 'wymogów', 'formalnych'] ===> 0.111 / 1.0\n"
     ]
    },
    {
     "name": "stderr",
     "output_type": "stream",
     "text": [
      "Scoring permutations...: 100%|██████████| 120/120 [00:01<00:00, 62.32it/s]\n"
     ]
    },
    {
     "name": "stdout",
     "output_type": "stream",
     "text": [
      "Best: ['również', 'zależy', 'od', 'decyzji', 'władz']\n",
      "25 / 68 | ['zależy', 'również', 'od', 'decyzji', 'władz'] ===> 0.250 / 1.0\n"
     ]
    },
    {
     "name": "stderr",
     "output_type": "stream",
     "text": [
      "Scoring permutations...: 100%|██████████| 720/720 [00:44<00:00, 16.15it/s]\n"
     ]
    },
    {
     "name": "stdout",
     "output_type": "stream",
     "text": [
      "Best: ['możliwości', 'i', 'studentów', 'prowadzących', 'uwzględnia', 'się']\n",
      "26 / 68 | ['uwzględnia', 'się', 'możliwości', 'studentów', 'i', 'prowadzących'] ===> 0.023 / 1.0\n"
     ]
    },
    {
     "name": "stderr",
     "output_type": "stream",
     "text": [
      "Scoring permutations...: 100%|██████████| 5040/5040 [03:16<00:00, 25.59it/s]\n"
     ]
    },
    {
     "name": "stdout",
     "output_type": "stream",
     "text": [
      "Best: ['może', 'on', 'w', 'trakcie', 'semestru', 'zmieniać', 'się']\n",
      "27 / 68 | ['może', 'się', 'on', 'zmieniać', 'w', 'trakcie', 'semestru'] ===> 0.017 / 1.0\n"
     ]
    },
    {
     "name": "stderr",
     "output_type": "stream",
     "text": [
      "Scoring permutations...: 100%|██████████| 720/720 [00:02<00:00, 264.37it/s]\n"
     ]
    },
    {
     "name": "stdout",
     "output_type": "stream",
     "text": [
      "Best: ['przed', 'ćwiczeniami', 'prowadzącemu', 'dostarczają', 'deklaracje', 'studenci']\n",
      "28 / 68 | ['przed', 'ćwiczeniami', 'studenci', 'dostarczają', 'prowadzącemu', 'deklaracje'] ===> 0.091 / 1.0\n"
     ]
    },
    {
     "name": "stderr",
     "output_type": "stream",
     "text": [
      "Scoring permutations...: 100%|██████████| 24/24 [00:00<00:00, 304.65it/s]\n"
     ]
    },
    {
     "name": "stdout",
     "output_type": "stream",
     "text": [
      "Best: ['zadań', 'numery', 'zawiera', 'ona']\n",
      "29 / 68 | ['zawiera', 'ona', 'numery', 'zadań'] ===> 0.500 / 1.0\n"
     ]
    },
    {
     "name": "stderr",
     "output_type": "stream",
     "text": [
      "Scoring permutations...: 100%|██████████| 120/120 [00:00<00:00, 199.24it/s]\n"
     ]
    },
    {
     "name": "stdout",
     "output_type": "stream",
     "text": [
      "Best: ['przy', 'tablicy', 'studenci', 'pokazują', 'rozwiązania']\n",
      "30 / 68 | ['studenci', 'pokazują', 'rozwiązania', 'przy', 'tablicy'] ===> 0.059 / 1.0\n"
     ]
    },
    {
     "name": "stderr",
     "output_type": "stream",
     "text": [
      "Scoring permutations...: 100%|██████████| 5040/5040 [05:25<00:00, 15.49it/s]\n"
     ]
    },
    {
     "name": "stdout",
     "output_type": "stream",
     "text": [
      "Best: [',', 'jeżeli', 'nie', 'jest', 'źle', 'student', 'umie']\n",
      "31 / 68 | ['jest', 'źle', ',', 'jeżeli', 'student', 'nie', 'umie'] ===> 0.020 / 1.0\n"
     ]
    },
    {
     "name": "stderr",
     "output_type": "stream",
     "text": [
      "Scoring permutations...: 100%|██████████| 120/120 [00:02<00:00, 53.38it/s]\n"
     ]
    },
    {
     "name": "stdout",
     "output_type": "stream",
     "text": [
      "Best: ['dodatkowo', 'odejmuje', 'coś', 'mu', 'się']\n",
      "32 / 68 | ['dodatkowo', 'coś', 'mu', 'się', 'odejmuje'] ===> 0.012 / 1.0\n"
     ]
    },
    {
     "name": "stderr",
     "output_type": "stream",
     "text": [
      "Scoring permutations...: 100%|██████████| 5040/5040 [02:09<00:00, 38.80it/s]\n"
     ]
    },
    {
     "name": "stdout",
     "output_type": "stream",
     "text": [
      "Best: ['można', 'oddawać', 'pracowni', 'podczas', 'zajęć', 'na', 'zadania']\n",
      "33 / 68 | ['zadania', 'można', 'oddawać', 'podczas', 'zajęć', 'na', 'pracowni'] ===> 0.003 / 1.0\n"
     ]
    },
    {
     "name": "stderr",
     "output_type": "stream",
     "text": [
      "Scoring permutations...: 100%|██████████| 24/24 [00:00<00:00, 540.45it/s]\n"
     ]
    },
    {
     "name": "stdout",
     "output_type": "stream",
     "text": [
      "Best: ['należy', 'rozwiązywać', 'zadania', 'samodzielnie']\n",
      "34 / 68 | ['zadania', 'należy', 'rozwiązywać', 'samodzielnie'] ===> 0.143 / 1.0\n"
     ]
    },
    {
     "name": "stderr",
     "output_type": "stream",
     "text": [
      "Scoring permutations...: 100%|██████████| 24/24 [00:00<00:00, 657.35it/s]\n"
     ]
    },
    {
     "name": "stdout",
     "output_type": "stream",
     "text": [
      "Best: ['prowadzący', 'ocenia', 'poprawność', 'rozwiązania']\n",
      "35 / 68 | ['prowadzący', 'ocenia', 'poprawność', 'rozwiązania'] ===> 1.000 / 1.0\n"
     ]
    },
    {
     "name": "stderr",
     "output_type": "stream",
     "text": [
      "Scoring permutations...: 100%|██████████| 5040/5040 [02:12<00:00, 38.13it/s]\n"
     ]
    },
    {
     "name": "stdout",
     "output_type": "stream",
     "text": [
      "Best: ['informacje', 'o', 'regułach', 'czasem', 'mogą', 'pojawić', 'się']\n",
      "36 / 68 | ['czasem', 'mogą', 'pojawić', 'się', 'informacje', 'o', 'regułach'] ===> 0.100 / 1.0\n"
     ]
    },
    {
     "name": "stderr",
     "output_type": "stream",
     "text": [
      "Scoring permutations...: 100%|██████████| 720/720 [00:18<00:00, 39.21it/s]\n"
     ]
    },
    {
     "name": "stdout",
     "output_type": "stream",
     "text": [
      "Best: ['każdej', 'podany', 'termin', 'jest', 'na', 'liście']\n",
      "37 / 68 | ['na', 'każdej', 'liście', 'podany', 'jest', 'termin'] ===> 0.018 / 1.0\n"
     ]
    },
    {
     "name": "stderr",
     "output_type": "stream",
     "text": [
      "Scoring permutations...: 100%|██████████| 720/720 [00:05<00:00, 125.27it/s]\n"
     ]
    },
    {
     "name": "stdout",
     "output_type": "stream",
     "text": [
      "Best: ['za', 'dużo', 'punktów', 'dostajemy', 'poprawne', 'rozwiązanie']\n",
      "38 / 68 | ['za', 'poprawne', 'rozwiązanie', 'dostajemy', 'dużo', 'punktów'] ===> 0.125 / 1.0\n"
     ]
    },
    {
     "name": "stderr",
     "output_type": "stream",
     "text": [
      "Scoring permutations...: 100%|██████████| 120/120 [00:00<00:00, 147.32it/s]\n"
     ]
    },
    {
     "name": "stdout",
     "output_type": "stream",
     "text": [
      "Best: ['nie', 'będą', 'sprawdzane', 'spóźnione', 'zadania']\n",
      "39 / 68 | ['spóźnione', 'zadania', 'nie', 'będą', 'sprawdzane'] ===> 0.036 / 1.0\n"
     ]
    },
    {
     "name": "stderr",
     "output_type": "stream",
     "text": [
      "Scoring permutations...: 100%|██████████| 120/120 [00:00<00:00, 410.65it/s]\n"
     ]
    },
    {
     "name": "stdout",
     "output_type": "stream",
     "text": [
      "Best: ['pierwsza', 'lista', 'ma', 'dłuższy', 'termin']\n",
      "40 / 68 | ['pierwsza', 'lista', 'ma', 'dłuższy', 'termin'] ===> 1.000 / 1.0\n"
     ]
    },
    {
     "name": "stderr",
     "output_type": "stream",
     "text": [
      "Scoring permutations...: 100%|██████████| 5040/5040 [00:45<00:00, 110.76it/s]\n"
     ]
    },
    {
     "name": "stdout",
     "output_type": "stream",
     "text": [
      "Best: ['pod', 'koniec', 'semestru', 'zmodyfikowana', 'zasada', 'musi', 'być']\n",
      "41 / 68 | ['zasada', 'musi', 'być', 'zmodyfikowana', 'pod', 'koniec', 'semestru'] ===> 0.033 / 1.0\n"
     ]
    },
    {
     "name": "stderr",
     "output_type": "stream",
     "text": [
      "Scoring permutations...: 100%|██████████| 5040/5040 [02:05<00:00, 40.01it/s]\n"
     ]
    },
    {
     "name": "stdout",
     "output_type": "stream",
     "text": [
      "Best: ['w', 'przypadku', 'choroby', 'studenta', 'obowiązują', 'inne', 'zasady']\n",
      "42 / 68 | ['w', 'przypadku', 'choroby', 'studenta', 'obowiązują', 'inne', 'zasady'] ===> 1.000 / 1.0\n"
     ]
    },
    {
     "name": "stderr",
     "output_type": "stream",
     "text": [
      "Scoring permutations...: 100%|██████████| 5040/5040 [02:30<00:00, 33.58it/s]\n"
     ]
    },
    {
     "name": "stdout",
     "output_type": "stream",
     "text": [
      "Best: ['w', 'przypadku', 'studenta', 'kwarantanny', 'obowiązują', 'inne', 'zasady']\n",
      "43 / 68 | ['w', 'przypadku', 'kwarantanny', 'studenta', 'obowiązują', 'inne', 'zasady'] ===> 0.250 / 1.0\n"
     ]
    },
    {
     "name": "stderr",
     "output_type": "stream",
     "text": [
      "Scoring permutations...: 100%|██████████| 5040/5040 [02:07<00:00, 39.47it/s]\n"
     ]
    },
    {
     "name": "stdout",
     "output_type": "stream",
     "text": [
      "Best: ['w', 'przypadku', 'izolacji', 'studenta', 'obowiązują', 'inne', 'zasady']\n",
      "44 / 68 | ['w', 'przypadku', 'izolacji', 'studenta', 'obowiązują', 'inne', 'zasady'] ===> 1.000 / 1.0\n",
      "45 / 68 | ['możliwe', 'jest', 'oddawanie', 'zaległych', 'zadań', 'bez', 'straty', 'punktowej'] ===> ??? / 1.0\n",
      "Skipped because sentence is too long.\n"
     ]
    },
    {
     "name": "stderr",
     "output_type": "stream",
     "text": [
      "Scoring permutations...: 100%|██████████| 720/720 [00:30<00:00, 23.93it/s]\n"
     ]
    },
    {
     "name": "stdout",
     "output_type": "stream",
     "text": [
      "Best: ['ocenę', 'tabelką', 'wystawia', 'się', 'zgodnie', 'z']\n",
      "46 / 68 | ['ocenę', 'wystawia', 'się', 'zgodnie', 'z', 'tabelką'] ===> 0.010 / 1.0\n"
     ]
    },
    {
     "name": "stderr",
     "output_type": "stream",
     "text": [
      "Scoring permutations...: 100%|██████████| 120/120 [00:00<00:00, 909.28it/s]\n"
     ]
    },
    {
     "name": "stdout",
     "output_type": "stream",
     "text": [
      "Best: ['daje', 'ocenę', 'dostateczną', '50', 'punktów']\n",
      "47 / 68 | ['50', 'punktów', 'daje', 'ocenę', 'dostateczną'] ===> 0.200 / 1.0\n"
     ]
    },
    {
     "name": "stderr",
     "output_type": "stream",
     "text": [
      "Scoring permutations...: 100%|██████████| 720/720 [00:01<00:00, 364.97it/s]\n"
     ]
    },
    {
     "name": "stdout",
     "output_type": "stream",
     "text": [
      "Best: ['daje', 'bardzo', 'dobrą', 'ocenę', '120', 'punktów']\n",
      "48 / 68 | ['120', 'punktów', 'daje', 'ocenę', 'bardzo', 'dobrą'] ===> 0.067 / 1.0\n"
     ]
    },
    {
     "name": "stderr",
     "output_type": "stream",
     "text": [
      "Scoring permutations...: 100%|██████████| 24/24 [00:00<00:00, 624.30it/s]\n"
     ]
    },
    {
     "name": "stdout",
     "output_type": "stream",
     "text": [
      "Best: ['zostanie', 'tabelka', 'przeskalowana', 'powyższa']\n",
      "49 / 68 | ['powyższa', 'tabelka', 'zostanie', 'przeskalowana'] ===> 0.050 / 1.0\n"
     ]
    },
    {
     "name": "stderr",
     "output_type": "stream",
     "text": [
      "Scoring permutations...: 100%|██████████| 5040/5040 [02:30<00:00, 33.52it/s]\n"
     ]
    },
    {
     "name": "stdout",
     "output_type": "stream",
     "text": [
      "Best: ['z', 'innych', 'powodów', 'przeskalowana', 'też', 'może', 'zostać']\n",
      "50 / 68 | ['może', 'też', 'zostać', 'przeskalowana', 'z', 'innych', 'powodów'] ===> 0.004 / 1.0\n"
     ]
    },
    {
     "name": "stderr",
     "output_type": "stream",
     "text": [
      "Scoring permutations...: 100%|██████████| 720/720 [00:19<00:00, 37.37it/s]\n"
     ]
    },
    {
     "name": "stdout",
     "output_type": "stream",
     "text": [
      "Best: ['coś', 'w', 'pierwszym', 'tygodniu', 'podamy', 'zajęć']\n",
      "51 / 68 | ['w', 'pierwszym', 'tygodniu', 'zajęć', 'coś', 'podamy'] ===> 0.026 / 1.0\n"
     ]
    },
    {
     "name": "stderr",
     "output_type": "stream",
     "text": [
      "Scoring permutations...: 100%|██████████| 720/720 [00:20<00:00, 35.10it/s]\n"
     ]
    },
    {
     "name": "stdout",
     "output_type": "stream",
     "text": [
      "Best: ['dodatkowe', 'zasady', 'egzaminu', 'umożliwiające', 'zwolnienie', 'z']\n",
      "52 / 68 | ['dodatkowe', 'zasady', 'umożliwiające', 'zwolnienie', 'z', 'egzaminu'] ===> 0.500 / 1.0\n"
     ]
    },
    {
     "name": "stderr",
     "output_type": "stream",
     "text": [
      "Scoring permutations...: 100%|██████████| 720/720 [00:12<00:00, 59.45it/s]\n"
     ]
    },
    {
     "name": "stdout",
     "output_type": "stream",
     "text": [
      "Best: ['dotyczą', 'osób', 'z', 'dużą', 'liczbą', 'punktów']\n",
      "53 / 68 | ['dotyczą', 'osób', 'z', 'dużą', 'liczbą', 'punktów'] ===> 1.000 / 1.0\n"
     ]
    },
    {
     "name": "stderr",
     "output_type": "stream",
     "text": [
      "Scoring permutations...: 100%|██████████| 120/120 [00:00<00:00, 150.68it/s]\n"
     ]
    },
    {
     "name": "stdout",
     "output_type": "stream",
     "text": [
      "Best: ['też', 'można', 'rozwiązać', 'zadanie', 'specjalne']\n",
      "54 / 68 | ['można', 'rozwiązać', 'też', 'zadanie', 'specjalne'] ===> 0.043 / 1.0\n"
     ]
    },
    {
     "name": "stderr",
     "output_type": "stream",
     "text": [
      "Scoring permutations...: 100%|██████████| 720/720 [00:06<00:00, 109.95it/s]\n"
     ]
    },
    {
     "name": "stdout",
     "output_type": "stream",
     "text": [
      "Best: ['forma', 'egzaminu', 'zależy', 'od', 'wielu', 'czynników']\n",
      "55 / 68 | ['forma', 'egzaminu', 'zależy', 'od', 'wielu', 'czynników'] ===> 1.000 / 1.0\n"
     ]
    },
    {
     "name": "stderr",
     "output_type": "stream",
     "text": [
      "Scoring permutations...: 100%|██████████| 120/120 [00:01<00:00, 83.22it/s]\n"
     ]
    },
    {
     "name": "stdout",
     "output_type": "stream",
     "text": [
      "Best: ['różnych', 'wariantów', 'należy', 'spodziewać', 'się']\n",
      "56 / 68 | ['należy', 'się', 'spodziewać', 'różnych', 'wariantów'] ===> 0.143 / 1.0\n"
     ]
    },
    {
     "name": "stderr",
     "output_type": "stream",
     "text": [
      "Scoring permutations...: 100%|██████████| 120/120 [00:01<00:00, 70.98it/s]\n"
     ]
    },
    {
     "name": "stdout",
     "output_type": "stream",
     "text": [
      "Best: ['nie', 'wykluczamy', 'egzaminu', 'ustnego', 'indywidualnego']\n",
      "57 / 68 | ['nie', 'wykluczamy', 'indywidualnego', 'egzaminu', 'ustnego'] ===> 0.167 / 1.0\n"
     ]
    },
    {
     "name": "stderr",
     "output_type": "stream",
     "text": [
      "Scoring permutations...: 100%|██████████| 720/720 [00:28<00:00, 25.44it/s]\n"
     ]
    },
    {
     "name": "stdout",
     "output_type": "stream",
     "text": [
      "Best: ['są', 'też', 'tutaj', 'małgosia', 'jaś', 'i']\n",
      "58 / 68 | ['jaś', 'i', 'małgosia', 'też', 'są', 'tutaj'] ===> 0.004 / 1.0\n"
     ]
    },
    {
     "name": "stderr",
     "output_type": "stream",
     "text": [
      "Scoring permutations...: 100%|██████████| 120/120 [00:04<00:00, 25.63it/s]\n"
     ]
    },
    {
     "name": "stdout",
     "output_type": "stream",
     "text": [
      "Best: ['nie', 'przybędą', 'prosiaczkiem', 'puchatek', 'z']\n",
      "59 / 68 | ['puchatek', 'z', 'prosiaczkiem', 'nie', 'przybędą'] ===> 0.009 / 1.0\n"
     ]
    },
    {
     "name": "stderr",
     "output_type": "stream",
     "text": [
      "Scoring permutations...: 100%|██████████| 720/720 [00:31<00:00, 22.73it/s]\n"
     ]
    },
    {
     "name": "stdout",
     "output_type": "stream",
     "text": [
      "Best: ['i', 'był', 'chory', 'kotek', 'odpoczywał', 'raz']\n",
      "60 / 68 | ['raz', 'kotek', 'był', 'chory', 'i', 'odpoczywał'] ===> 0.002 / 1.0\n",
      "61 / 68 | ['raz', 'kotek', 'był', 'chory', 'i', 'leżał', 'w', 'łóżeczku'] ===> ??? / 1.0\n",
      "Skipped because sentence is too long.\n"
     ]
    },
    {
     "name": "stderr",
     "output_type": "stream",
     "text": [
      "Scoring permutations...: 100%|██████████| 720/720 [00:15<00:00, 45.29it/s]\n"
     ]
    },
    {
     "name": "stdout",
     "output_type": "stream",
     "text": [
      "Best: ['nie', 'jest', 'trudna', 'relacji', 'równoważności', 'definicja']\n",
      "62 / 68 | ['definicja', 'relacji', 'równoważności', 'nie', 'jest', 'trudna'] ===> 0.030 / 1.0\n"
     ]
    },
    {
     "name": "stderr",
     "output_type": "stream",
     "text": [
      "Scoring permutations...: 100%|██████████| 720/720 [00:10<00:00, 71.61it/s]\n"
     ]
    },
    {
     "name": "stdout",
     "output_type": "stream",
     "text": [
      "Best: ['jest', 'hipoteza', 'continuum', 'aksjomatów', 'niezależna', 'od']\n",
      "63 / 68 | ['hipoteza', 'continuum', 'jest', 'niezależna', 'od', 'aksjomatów'] ===> 0.008 / 1.0\n"
     ]
    },
    {
     "name": "stderr",
     "output_type": "stream",
     "text": [
      "Scoring permutations...: 100%|██████████| 120/120 [00:00<00:00, 623.62it/s]\n"
     ]
    },
    {
     "name": "stdout",
     "output_type": "stream",
     "text": [
      "Best: ['wiele', 'radości', 'teoria', 'mnogości', 'daje']\n",
      "64 / 68 | ['teoria', 'mnogości', 'daje', 'wiele', 'radości'] ===> 0.250 / 1.0\n"
     ]
    },
    {
     "name": "stderr",
     "output_type": "stream",
     "text": [
      "Scoring permutations...: 100%|██████████| 120/120 [00:01<00:00, 63.85it/s]\n"
     ]
    },
    {
     "name": "stdout",
     "output_type": "stream",
     "text": [
      "Best: ['nie', 'jest', 'szczególnie', 'trudne', 'programowanie']\n",
      "65 / 68 | ['programowanie', 'nie', 'jest', 'szczególnie', 'trudne'] ===> 0.143 / 1.0\n"
     ]
    },
    {
     "name": "stderr",
     "output_type": "stream",
     "text": [
      "Scoring permutations...: 100%|██████████| 720/720 [00:30<00:00, 23.61it/s]\n"
     ]
    },
    {
     "name": "stdout",
     "output_type": "stream",
     "text": [
      "Best: ['rachunek', 'prawdopodobieństwa', 'przydaje', 'się', 'w', 'życiu']\n",
      "66 / 68 | ['rachunek', 'prawdopodobieństwa', 'przydaje', 'się', 'w', 'życiu'] ===> 1.000 / 1.0\n"
     ]
    },
    {
     "name": "stderr",
     "output_type": "stream",
     "text": [
      "Scoring permutations...: 100%|██████████| 720/720 [00:00<00:00, 2268.43it/s]\n"
     ]
    },
    {
     "name": "stdout",
     "output_type": "stream",
     "text": [
      "Best: ['zanim', 'rycerze', 'strawił', 'osaczyli', 'księżniczkę', 'smoka']\n",
      "67 / 68 | ['rycerze', 'osaczyli', 'smoka', 'zanim', 'strawił', 'księżniczkę'] ===> 0.003 / 1.0\n"
     ]
    },
    {
     "name": "stderr",
     "output_type": "stream",
     "text": [
      "Scoring permutations...: 100%|██████████| 720/720 [00:05<00:00, 137.27it/s]"
     ]
    },
    {
     "name": "stdout",
     "output_type": "stream",
     "text": [
      "Best: ['już', 'chyba', 'należy', 'przestać', 'wymyślać', 'zdania']\n",
      "68 / 68 | ['chyba', 'należy', 'już', 'przestać', 'wymyślać', 'zdania'] ===> 0.067 / 1.0\n",
      "Final score: 0.06666666666666667\n",
      "CPU times: user 38min 20s, sys: 4.82 s, total: 38min 25s\n",
      "Wall time: 39min 30s\n"
     ]
    },
    {
     "name": "stderr",
     "output_type": "stream",
     "text": [
      "\n"
     ]
    }
   ],
   "source": [
    "%%time\n",
    "f_score = final_score(\n",
    "    cond_pbb_func=lambda w1, w2: lambda_cond_pbb_bigrams(\n",
    "        w1=w1, w2=w2, lambda1=lambda1, lambda2=lambda2\n",
    "    )\n",
    ")\n",
    "print(f'Final score: {f_score}')"
   ]
  },
  {
   "cell_type": "markdown",
   "metadata": {},
   "source": [
    "7 correct <br>\n",
    "**35 40 42 44 53 55 66**"
   ]
  },
  {
   "cell_type": "markdown",
   "metadata": {},
   "source": [
    "## Multiply number of occurrences of each bigram"
   ]
  },
  {
   "cell_type": "code",
   "execution_count": 246,
   "metadata": {},
   "outputs": [
    {
     "name": "stderr",
     "output_type": "stream",
     "text": [
      "Scoring permutations...: 100%|██████████| 120/120 [00:00<00:00, 1473.18it/s]\n"
     ]
    },
    {
     "name": "stdout",
     "output_type": "stream",
     "text": [
      "Best: ['wczoraj', 'stefanowi', 'judyta', 'dała', 'czekoladki']\n",
      "1 / 68 | ['judyta', 'dała', 'wczoraj', 'stefanowi', 'czekoladki'] ===> 0.016 / 1.0\n"
     ]
    },
    {
     "name": "stderr",
     "output_type": "stream",
     "text": [
      "Scoring permutations...: 100%|██████████| 120/120 [00:00<00:00, 660.60it/s]\n"
     ]
    },
    {
     "name": "stdout",
     "output_type": "stream",
     "text": [
      "Best: ['rogate', 'miała', 'koziołki', 'dwa', 'babuleńka']\n",
      "2 / 68 | ['babuleńka', 'miała', 'dwa', 'rogate', 'koziołki'] ===> 0.009 / 1.0\n"
     ]
    },
    {
     "name": "stderr",
     "output_type": "stream",
     "text": [
      "Scoring permutations...: 100%|██████████| 720/720 [00:00<00:00, 1310.17it/s]\n"
     ]
    },
    {
     "name": "stdout",
     "output_type": "stream",
     "text": [
      "Best: ['wieczorem', 'wczoraj', 'spotkałem', 'pewną', 'piękną', 'kobietę']\n",
      "3 / 68 | ['wczoraj', 'wieczorem', 'spotkałem', 'pewną', 'piękną', 'kobietę'] ===> 0.008 / 1.0\n"
     ]
    },
    {
     "name": "stderr",
     "output_type": "stream",
     "text": [
      "Scoring permutations...: 100%|██████████| 720/720 [00:08<00:00, 82.83it/s] \n"
     ]
    },
    {
     "name": "stdout",
     "output_type": "stream",
     "text": [
      "Best: ['przetwarzanie', 'języka', 'naturalnego', 'to', 'nasz', 'przedmiot']\n",
      "4 / 68 | ['nasz', 'przedmiot', 'to', 'przetwarzanie', 'języka', 'naturalnego'] ===> 0.500 / 1.0\n"
     ]
    },
    {
     "name": "stderr",
     "output_type": "stream",
     "text": [
      "Scoring permutations...: 100%|██████████| 120/120 [00:00<00:00, 654.19it/s]\n"
     ]
    },
    {
     "name": "stdout",
     "output_type": "stream",
     "text": [
      "Best: ['prowadzi', 'michaliszyn', 'jedną', 'jakub', 'grupę']\n",
      "5 / 68 | ['jedną', 'grupę', 'prowadzi', 'jakub', 'michaliszyn'] ===> 0.015 / 1.0\n"
     ]
    },
    {
     "name": "stderr",
     "output_type": "stream",
     "text": [
      "Scoring permutations...: 100%|██████████| 24/24 [00:00<00:00, 120.71it/s]\n"
     ]
    },
    {
     "name": "stdout",
     "output_type": "stream",
     "text": [
      "Best: ['wykładowcą', 'rychlikowski', 'paweł', 'jest']\n",
      "6 / 68 | ['wykładowcą', 'jest', 'paweł', 'rychlikowski'] ===> 0.167 / 1.0\n"
     ]
    },
    {
     "name": "stderr",
     "output_type": "stream",
     "text": [
      "Scoring permutations...: 100%|██████████| 5040/5040 [00:45<00:00, 110.01it/s]\n"
     ]
    },
    {
     "name": "stdout",
     "output_type": "stream",
     "text": [
      "Best: ['pozostałe', 'dwie', 'grupy', 'prowadzi', 'również', 'pan', 'paweł']\n",
      "7 / 68 | ['pan', 'paweł', 'prowadzi', 'również', 'dwie', 'pozostałe', 'grupy'] ===> 0.000 / 1.0\n",
      "8 / 68 | ['na', 'stronie', 'wykładu', 'będą', 'pojawiać', 'się', 'listy', 'zadań'] ===> ??? / 1.0\n",
      "Skipped because sentence is too long.\n"
     ]
    },
    {
     "name": "stderr",
     "output_type": "stream",
     "text": [
      "Scoring permutations...: 100%|██████████| 720/720 [00:42<00:00, 16.75it/s]\n"
     ]
    },
    {
     "name": "stdout",
     "output_type": "stream",
     "text": [
      "Best: ['ćwiczeniowe', 'to', 'pracowniowe', 'listy', 'i', 'będą']\n",
      "9 / 68 | ['będą', 'to', 'listy', 'ćwiczeniowe', 'i', 'pracowniowe'] ===> 0.002 / 1.0\n"
     ]
    },
    {
     "name": "stderr",
     "output_type": "stream",
     "text": [
      "Scoring permutations...: 100%|██████████| 720/720 [00:43<00:00, 16.63it/s]\n"
     ]
    },
    {
     "name": "stdout",
     "output_type": "stream",
     "text": [
      "Best: ['ćwiczeniowe', 'to', 'pracowniowe', 'listy', 'i', 'będą']\n",
      "10 / 68 | ['będą', 'to', 'listy', 'pracowniowe', 'i', 'ćwiczeniowe'] ===> 0.002 / 1.0\n"
     ]
    },
    {
     "name": "stderr",
     "output_type": "stream",
     "text": [
      "Scoring permutations...: 100%|██████████| 720/720 [00:17<00:00, 40.78it/s]\n"
     ]
    },
    {
     "name": "stdout",
     "output_type": "stream",
     "text": [
      "Best: ['mogą', 'pojawiać', 'się', 'również', 'dodatkowe', 'aktywności']\n",
      "11 / 68 | ['mogą', 'się', 'pojawiać', 'również', 'dodatkowe', 'aktywności'] ===> 0.100 / 1.0\n"
     ]
    },
    {
     "name": "stderr",
     "output_type": "stream",
     "text": [
      "Scoring permutations...: 100%|██████████| 24/24 [00:00<00:00, 293.41it/s]\n"
     ]
    },
    {
     "name": "stdout",
     "output_type": "stream",
     "text": [
      "Best: ['aktywności', 'te', 'będą', 'premiowane']\n",
      "12 / 68 | ['te', 'aktywności', 'będą', 'premiowane'] ===> 0.500 / 1.0\n"
     ]
    },
    {
     "name": "stderr",
     "output_type": "stream",
     "text": [
      "Scoring permutations...: 100%|██████████| 720/720 [00:21<00:00, 33.13it/s]\n"
     ]
    },
    {
     "name": "stdout",
     "output_type": "stream",
     "text": [
      "Best: ['zdalnej', 'quizy', 'przykłąd', 'platformie', 'na', 'na']\n",
      "13 / 68 | ['na', 'przykłąd', 'quizy', 'na', 'platformie', 'zdalnej'] ===> 0.002 / 1.0\n"
     ]
    },
    {
     "name": "stderr",
     "output_type": "stream",
     "text": [
      "Scoring permutations...: 100%|██████████| 720/720 [00:20<00:00, 34.48it/s]\n"
     ]
    },
    {
     "name": "stdout",
     "output_type": "stream",
     "text": [
      "Best: ['wykładu', 'też', 'temat', 'rozważamy', 'na', 'miniprojekty']\n",
      "14 / 68 | ['rozważamy', 'też', 'miniprojekty', 'na', 'temat', 'wykładu'] ===> 0.002 / 1.0\n"
     ]
    },
    {
     "name": "stderr",
     "output_type": "stream",
     "text": [
      "Scoring permutations...: 100%|██████████| 5040/5040 [02:19<00:00, 36.11it/s]\n"
     ]
    },
    {
     "name": "stdout",
     "output_type": "stream",
     "text": [
      "Best: ['zapowiadamy', 'je', 'z', 'co', 'najmniej', 'tygodniowym', 'wyprzedzeniem']\n",
      "15 / 68 | ['zapowiadamy', 'je', 'z', 'co', 'najmniej', 'tygodniowym', 'wyprzedzeniem'] ===> 1.000 / 1.0\n"
     ]
    },
    {
     "name": "stderr",
     "output_type": "stream",
     "text": [
      "Scoring permutations...: 100%|██████████| 720/720 [00:15<00:00, 46.48it/s]\n"
     ]
    },
    {
     "name": "stdout",
     "output_type": "stream",
     "text": [
      "Best: ['na', 'zajęcia', 'przeznaczone', 'są', 'konkretne', 'zadania']\n",
      "16 / 68 | ['zadania', 'są', 'przeznaczone', 'na', 'konkretne', 'zajęcia'] ===> 0.059 / 1.0\n"
     ]
    },
    {
     "name": "stderr",
     "output_type": "stream",
     "text": [
      "Scoring permutations...: 100%|██████████| 720/720 [00:33<00:00, 21.18it/s]\n"
     ]
    },
    {
     "name": "stdout",
     "output_type": "stream",
     "text": [
      "Best: ['ćwiczenia', 'zaczynają', 'się', 'w', 'sali', 'seminaryjnej']\n",
      "17 / 68 | ['ćwiczenia', 'zaczynają', 'się', 'w', 'sali', 'seminaryjnej'] ===> 1.000 / 1.0\n"
     ]
    },
    {
     "name": "stderr",
     "output_type": "stream",
     "text": [
      "Scoring permutations...: 100%|██████████| 720/720 [00:24<00:00, 28.90it/s]\n"
     ]
    },
    {
     "name": "stdout",
     "output_type": "stream",
     "text": [
      "Best: ['tak', 'jest', 'tylko', 'w', 'trybie', 'stacjonarnym']\n",
      "18 / 68 | ['jest', 'tak', 'tylko', 'w', 'trybie', 'stacjonarnym'] ===> 0.500 / 1.0\n"
     ]
    },
    {
     "name": "stderr",
     "output_type": "stream",
     "text": [
      "Scoring permutations...: 100%|██████████| 5040/5040 [02:56<00:00, 28.53it/s]\n"
     ]
    },
    {
     "name": "stdout",
     "output_type": "stream",
     "text": [
      "Best: ['pozostałe', 'w', 'pracowni', 'zajęcia', 'zaczynają', 'się', 'domyślnie']\n",
      "19 / 68 | ['pozostałe', 'zajęcia', 'domyślnie', 'zaczynają', 'się', 'w', 'pracowni'] ===> 0.000 / 1.0\n"
     ]
    },
    {
     "name": "stderr",
     "output_type": "stream",
     "text": [
      "Scoring permutations...: 100%|██████████| 120/120 [00:01<00:00, 66.84it/s]\n"
     ]
    },
    {
     "name": "stdout",
     "output_type": "stream",
     "text": [
      "Best: ['pracownia', 'polega', 'na', 'konsutlacjach', 'indywidualnych']\n",
      "20 / 68 | ['pracownia', 'polega', 'na', 'indywidualnych', 'konsutlacjach'] ===> 0.500 / 1.0\n"
     ]
    },
    {
     "name": "stderr",
     "output_type": "stream",
     "text": [
      "Scoring permutations...: 100%|██████████| 120/120 [00:02<00:00, 41.39it/s]\n"
     ]
    },
    {
     "name": "stdout",
     "output_type": "stream",
     "text": [
      "Best: ['tam', 'na', 'temat', 'rozwiązań', 'rozmawiamy']\n",
      "21 / 68 | ['rozmawiamy', 'tam', 'na', 'temat', 'rozwiązań'] ===> 0.011 / 1.0\n"
     ]
    },
    {
     "name": "stderr",
     "output_type": "stream",
     "text": [
      "Scoring permutations...: 100%|██████████| 5040/5040 [00:12<00:00, 391.62it/s]\n"
     ]
    },
    {
     "name": "stdout",
     "output_type": "stream",
     "text": [
      "Best: ['rozwiązania', 'ćwiczeń', 'podczas', 'zadań', 'studenci', 'przedstawiają', 'pisemne']\n",
      "22 / 68 | ['podczas', 'ćwiczeń', 'studenci', 'przedstawiają', 'pisemne', 'rozwiązania', 'zadań'] ===> 0.000 / 1.0\n"
     ]
    },
    {
     "name": "stderr",
     "output_type": "stream",
     "text": [
      "Scoring permutations...: 100%|██████████| 720/720 [00:07<00:00, 95.17it/s] \n"
     ]
    },
    {
     "name": "stdout",
     "output_type": "stream",
     "text": [
      "Best: ['tryb', 'zajęć', 'zależy', 'od', 'sytuacji', 'epidemiologicznej']\n",
      "23 / 68 | ['tryb', 'zajęć', 'zależy', 'od', 'sytuacji', 'epidemiologicznej'] ===> 1.000 / 1.0\n"
     ]
    },
    {
     "name": "stderr",
     "output_type": "stream",
     "text": [
      "Scoring permutations...: 100%|██████████| 120/120 [00:01<00:00, 88.78it/s]\n"
     ]
    },
    {
     "name": "stdout",
     "output_type": "stream",
     "text": [
      "Best: ['też', 'zależy', 'od', 'wymogów', 'formalnych']\n",
      "24 / 68 | ['zależy', 'też', 'od', 'wymogów', 'formalnych'] ===> 0.333 / 1.0\n"
     ]
    },
    {
     "name": "stderr",
     "output_type": "stream",
     "text": [
      "Scoring permutations...: 100%|██████████| 120/120 [00:01<00:00, 60.86it/s]\n"
     ]
    },
    {
     "name": "stdout",
     "output_type": "stream",
     "text": [
      "Best: ['również', 'zależy', 'od', 'decyzji', 'władz']\n",
      "25 / 68 | ['zależy', 'również', 'od', 'decyzji', 'władz'] ===> 0.333 / 1.0\n"
     ]
    },
    {
     "name": "stderr",
     "output_type": "stream",
     "text": [
      "Scoring permutations...: 100%|██████████| 720/720 [00:45<00:00, 16.00it/s]\n"
     ]
    },
    {
     "name": "stdout",
     "output_type": "stream",
     "text": [
      "Best: ['uwzględnia', 'się', 'możliwości', 'i', 'studentów', 'prowadzących']\n",
      "26 / 68 | ['uwzględnia', 'się', 'możliwości', 'studentów', 'i', 'prowadzących'] ===> 0.111 / 1.0\n"
     ]
    },
    {
     "name": "stderr",
     "output_type": "stream",
     "text": [
      "Scoring permutations...: 100%|██████████| 5040/5040 [03:12<00:00, 26.14it/s]\n"
     ]
    },
    {
     "name": "stdout",
     "output_type": "stream",
     "text": [
      "Best: ['on', 'może', 'zmieniać', 'się', 'w', 'trakcie', 'semestru']\n",
      "27 / 68 | ['może', 'się', 'on', 'zmieniać', 'w', 'trakcie', 'semestru'] ===> 0.143 / 1.0\n"
     ]
    },
    {
     "name": "stderr",
     "output_type": "stream",
     "text": [
      "Scoring permutations...: 100%|██████████| 720/720 [00:02<00:00, 326.45it/s]\n"
     ]
    },
    {
     "name": "stdout",
     "output_type": "stream",
     "text": [
      "Best: ['ćwiczeniami', 'studenci', 'przed', 'prowadzącemu', 'dostarczają', 'deklaracje']\n",
      "28 / 68 | ['przed', 'ćwiczeniami', 'studenci', 'dostarczają', 'prowadzącemu', 'deklaracje'] ===> 0.004 / 1.0\n"
     ]
    },
    {
     "name": "stderr",
     "output_type": "stream",
     "text": [
      "Scoring permutations...: 100%|██████████| 24/24 [00:00<00:00, 287.95it/s]\n"
     ]
    },
    {
     "name": "stdout",
     "output_type": "stream",
     "text": [
      "Best: ['zadań', 'zawiera', 'ona', 'numery']\n",
      "29 / 68 | ['zawiera', 'ona', 'numery', 'zadań'] ===> 0.500 / 1.0\n"
     ]
    },
    {
     "name": "stderr",
     "output_type": "stream",
     "text": [
      "Scoring permutations...: 100%|██████████| 120/120 [00:00<00:00, 213.82it/s]\n"
     ]
    },
    {
     "name": "stdout",
     "output_type": "stream",
     "text": [
      "Best: ['studenci', 'pokazują', 'rozwiązania', 'przy', 'tablicy']\n",
      "30 / 68 | ['studenci', 'pokazują', 'rozwiązania', 'przy', 'tablicy'] ===> 1.000 / 1.0\n"
     ]
    },
    {
     "name": "stderr",
     "output_type": "stream",
     "text": [
      "Scoring permutations...: 100%|██████████| 5040/5040 [05:26<00:00, 15.44it/s]\n"
     ]
    },
    {
     "name": "stdout",
     "output_type": "stream",
     "text": [
      "Best: ['nie', 'jest', 'źle', ',', 'jeżeli', 'student', 'umie']\n",
      "31 / 68 | ['jest', 'źle', ',', 'jeżeli', 'student', 'nie', 'umie'] ===> 0.200 / 1.0\n"
     ]
    },
    {
     "name": "stderr",
     "output_type": "stream",
     "text": [
      "Scoring permutations...: 100%|██████████| 120/120 [00:02<00:00, 52.24it/s]\n"
     ]
    },
    {
     "name": "stdout",
     "output_type": "stream",
     "text": [
      "Best: ['mu', 'się', 'dodatkowo', 'coś', 'odejmuje']\n",
      "32 / 68 | ['dodatkowo', 'coś', 'mu', 'się', 'odejmuje'] ===> 0.333 / 1.0\n"
     ]
    },
    {
     "name": "stderr",
     "output_type": "stream",
     "text": [
      "Scoring permutations...: 100%|██████████| 5040/5040 [02:16<00:00, 36.98it/s]\n"
     ]
    },
    {
     "name": "stdout",
     "output_type": "stream",
     "text": [
      "Best: ['na', 'zadania', 'podczas', 'zajęć', 'pracowni', 'można', 'oddawać']\n",
      "33 / 68 | ['zadania', 'można', 'oddawać', 'podczas', 'zajęć', 'na', 'pracowni'] ===> 0.050 / 1.0\n"
     ]
    },
    {
     "name": "stderr",
     "output_type": "stream",
     "text": [
      "Scoring permutations...: 100%|██████████| 24/24 [00:00<00:00, 810.21it/s]\n"
     ]
    },
    {
     "name": "stdout",
     "output_type": "stream",
     "text": [
      "Best: ['należy', 'rozwiązywać', 'zadania', 'samodzielnie']\n",
      "34 / 68 | ['zadania', 'należy', 'rozwiązywać', 'samodzielnie'] ===> 0.167 / 1.0\n"
     ]
    },
    {
     "name": "stderr",
     "output_type": "stream",
     "text": [
      "Scoring permutations...: 100%|██████████| 24/24 [00:00<00:00, 1167.10it/s]\n"
     ]
    },
    {
     "name": "stdout",
     "output_type": "stream",
     "text": [
      "Best: ['poprawność', 'rozwiązania', 'ocenia', 'prowadzący']\n",
      "35 / 68 | ['prowadzący', 'ocenia', 'poprawność', 'rozwiązania'] ===> 0.077 / 1.0\n"
     ]
    },
    {
     "name": "stderr",
     "output_type": "stream",
     "text": [
      "Scoring permutations...: 100%|██████████| 5040/5040 [02:15<00:00, 37.15it/s]\n"
     ]
    },
    {
     "name": "stdout",
     "output_type": "stream",
     "text": [
      "Best: ['czasem', 'mogą', 'pojawić', 'się', 'informacje', 'o', 'regułach']\n",
      "36 / 68 | ['czasem', 'mogą', 'pojawić', 'się', 'informacje', 'o', 'regułach'] ===> 1.000 / 1.0\n"
     ]
    },
    {
     "name": "stderr",
     "output_type": "stream",
     "text": [
      "Scoring permutations...: 100%|██████████| 720/720 [00:18<00:00, 39.12it/s]\n"
     ]
    },
    {
     "name": "stdout",
     "output_type": "stream",
     "text": [
      "Best: ['jest', 'podany', 'termin', 'na', 'każdej', 'liście']\n",
      "37 / 68 | ['na', 'każdej', 'liście', 'podany', 'jest', 'termin'] ===> 0.003 / 1.0\n"
     ]
    },
    {
     "name": "stderr",
     "output_type": "stream",
     "text": [
      "Scoring permutations...: 100%|██████████| 720/720 [00:05<00:00, 127.01it/s]\n"
     ]
    },
    {
     "name": "stdout",
     "output_type": "stream",
     "text": [
      "Best: ['dostajemy', 'dużo', 'punktów', 'za', 'poprawne', 'rozwiązanie']\n",
      "38 / 68 | ['za', 'poprawne', 'rozwiązanie', 'dostajemy', 'dużo', 'punktów'] ===> 0.017 / 1.0\n"
     ]
    },
    {
     "name": "stderr",
     "output_type": "stream",
     "text": [
      "Scoring permutations...: 100%|██████████| 120/120 [00:00<00:00, 152.73it/s]\n"
     ]
    },
    {
     "name": "stdout",
     "output_type": "stream",
     "text": [
      "Best: ['zadania', 'będą', 'sprawdzane', 'nie', 'spóźnione']\n",
      "39 / 68 | ['spóźnione', 'zadania', 'nie', 'będą', 'sprawdzane'] ===> 0.030 / 1.0\n"
     ]
    },
    {
     "name": "stderr",
     "output_type": "stream",
     "text": [
      "Scoring permutations...: 100%|██████████| 120/120 [00:00<00:00, 434.66it/s]\n"
     ]
    },
    {
     "name": "stdout",
     "output_type": "stream",
     "text": [
      "Best: ['pierwsza', 'lista', 'ma', 'dłuższy', 'termin']\n",
      "40 / 68 | ['pierwsza', 'lista', 'ma', 'dłuższy', 'termin'] ===> 1.000 / 1.0\n"
     ]
    },
    {
     "name": "stderr",
     "output_type": "stream",
     "text": [
      "Scoring permutations...: 100%|██████████| 5040/5040 [00:44<00:00, 112.14it/s]\n"
     ]
    },
    {
     "name": "stdout",
     "output_type": "stream",
     "text": [
      "Best: ['pod', 'koniec', 'semestru', 'musi', 'być', 'zmodyfikowana', 'zasada']\n",
      "41 / 68 | ['zasada', 'musi', 'być', 'zmodyfikowana', 'pod', 'koniec', 'semestru'] ===> 0.500 / 1.0\n"
     ]
    },
    {
     "name": "stderr",
     "output_type": "stream",
     "text": [
      "Scoring permutations...: 100%|██████████| 5040/5040 [02:05<00:00, 40.12it/s]\n"
     ]
    },
    {
     "name": "stdout",
     "output_type": "stream",
     "text": [
      "Best: ['zasady', 'obowiązują', 'inne', 'choroby', 'w', 'przypadku', 'studenta']\n",
      "42 / 68 | ['w', 'przypadku', 'choroby', 'studenta', 'obowiązują', 'inne', 'zasady'] ===> 0.001 / 1.0\n"
     ]
    },
    {
     "name": "stderr",
     "output_type": "stream",
     "text": [
      "Scoring permutations...: 100%|██████████| 5040/5040 [02:28<00:00, 33.88it/s]\n"
     ]
    },
    {
     "name": "stdout",
     "output_type": "stream",
     "text": [
      "Best: ['studenta', 'w', 'przypadku', 'obowiązują', 'inne', 'zasady', 'kwarantanny']\n",
      "43 / 68 | ['w', 'przypadku', 'kwarantanny', 'studenta', 'obowiązują', 'inne', 'zasady'] ===> 0.001 / 1.0\n"
     ]
    },
    {
     "name": "stderr",
     "output_type": "stream",
     "text": [
      "Scoring permutations...: 100%|██████████| 5040/5040 [02:03<00:00, 40.76it/s]\n"
     ]
    },
    {
     "name": "stdout",
     "output_type": "stream",
     "text": [
      "Best: ['izolacji', 'inne', 'zasady', 'obowiązują', 'w', 'przypadku', 'studenta']\n",
      "44 / 68 | ['w', 'przypadku', 'izolacji', 'studenta', 'obowiązują', 'inne', 'zasady'] ===> 0.001 / 1.0\n",
      "45 / 68 | ['możliwe', 'jest', 'oddawanie', 'zaległych', 'zadań', 'bez', 'straty', 'punktowej'] ===> ??? / 1.0\n",
      "Skipped because sentence is too long.\n"
     ]
    },
    {
     "name": "stderr",
     "output_type": "stream",
     "text": [
      "Scoring permutations...: 100%|██████████| 720/720 [00:30<00:00, 23.94it/s]\n"
     ]
    },
    {
     "name": "stdout",
     "output_type": "stream",
     "text": [
      "Best: ['ocenę', 'wystawia', 'się', 'zgodnie', 'z', 'tabelką']\n",
      "46 / 68 | ['ocenę', 'wystawia', 'się', 'zgodnie', 'z', 'tabelką'] ===> 1.000 / 1.0\n"
     ]
    },
    {
     "name": "stderr",
     "output_type": "stream",
     "text": [
      "Scoring permutations...: 100%|██████████| 120/120 [00:00<00:00, 1100.53it/s]\n"
     ]
    },
    {
     "name": "stdout",
     "output_type": "stream",
     "text": [
      "Best: ['50', 'punktów', 'daje', 'ocenę', 'dostateczną']\n",
      "47 / 68 | ['50', 'punktów', 'daje', 'ocenę', 'dostateczną'] ===> 1.000 / 1.0\n"
     ]
    },
    {
     "name": "stderr",
     "output_type": "stream",
     "text": [
      "Scoring permutations...: 100%|██████████| 720/720 [00:01<00:00, 398.01it/s]\n"
     ]
    },
    {
     "name": "stdout",
     "output_type": "stream",
     "text": [
      "Best: ['120', 'punktów', 'daje', 'bardzo', 'dobrą', 'ocenę']\n",
      "48 / 68 | ['120', 'punktów', 'daje', 'ocenę', 'bardzo', 'dobrą'] ===> 0.250 / 1.0\n"
     ]
    },
    {
     "name": "stderr",
     "output_type": "stream",
     "text": [
      "Scoring permutations...: 100%|██████████| 24/24 [00:00<00:00, 1990.46it/s]\n"
     ]
    },
    {
     "name": "stdout",
     "output_type": "stream",
     "text": [
      "Best: ['zostanie', 'tabelka', 'przeskalowana', 'powyższa']\n",
      "49 / 68 | ['powyższa', 'tabelka', 'zostanie', 'przeskalowana'] ===> 0.048 / 1.0\n"
     ]
    },
    {
     "name": "stderr",
     "output_type": "stream",
     "text": [
      "Scoring permutations...: 100%|██████████| 5040/5040 [02:29<00:00, 33.66it/s]\n"
     ]
    },
    {
     "name": "stdout",
     "output_type": "stream",
     "text": [
      "Best: ['zostać', 'z', 'też', 'przeskalowana', 'powodów', 'może', 'innych']\n",
      "50 / 68 | ['może', 'też', 'zostać', 'przeskalowana', 'z', 'innych', 'powodów'] ===> 0.000 / 1.0\n"
     ]
    },
    {
     "name": "stderr",
     "output_type": "stream",
     "text": [
      "Scoring permutations...: 100%|██████████| 720/720 [00:18<00:00, 39.05it/s]\n"
     ]
    },
    {
     "name": "stdout",
     "output_type": "stream",
     "text": [
      "Best: ['zajęć', 'coś', 'w', 'pierwszym', 'tygodniu', 'podamy']\n",
      "51 / 68 | ['w', 'pierwszym', 'tygodniu', 'zajęć', 'coś', 'podamy'] ===> 0.005 / 1.0\n"
     ]
    },
    {
     "name": "stderr",
     "output_type": "stream",
     "text": [
      "Scoring permutations...: 100%|██████████| 720/720 [00:20<00:00, 35.01it/s]\n"
     ]
    },
    {
     "name": "stdout",
     "output_type": "stream",
     "text": [
      "Best: ['dodatkowe', 'zasady', 'umożliwiające', 'zwolnienie', 'z', 'egzaminu']\n",
      "52 / 68 | ['dodatkowe', 'zasady', 'umożliwiające', 'zwolnienie', 'z', 'egzaminu'] ===> 1.000 / 1.0\n"
     ]
    },
    {
     "name": "stderr",
     "output_type": "stream",
     "text": [
      "Scoring permutations...: 100%|██████████| 720/720 [00:12<00:00, 59.91it/s]\n"
     ]
    },
    {
     "name": "stdout",
     "output_type": "stream",
     "text": [
      "Best: ['dotyczą', 'osób', 'z', 'dużą', 'liczbą', 'punktów']\n",
      "53 / 68 | ['dotyczą', 'osób', 'z', 'dużą', 'liczbą', 'punktów'] ===> 1.000 / 1.0\n"
     ]
    },
    {
     "name": "stderr",
     "output_type": "stream",
     "text": [
      "Scoring permutations...: 100%|██████████| 120/120 [00:00<00:00, 142.52it/s]\n"
     ]
    },
    {
     "name": "stdout",
     "output_type": "stream",
     "text": [
      "Best: ['też', 'można', 'rozwiązać', 'zadanie', 'specjalne']\n",
      "54 / 68 | ['można', 'rozwiązać', 'też', 'zadanie', 'specjalne'] ===> 0.083 / 1.0\n"
     ]
    },
    {
     "name": "stderr",
     "output_type": "stream",
     "text": [
      "Scoring permutations...: 100%|██████████| 720/720 [00:07<00:00, 100.99it/s]\n"
     ]
    },
    {
     "name": "stdout",
     "output_type": "stream",
     "text": [
      "Best: ['forma', 'egzaminu', 'zależy', 'od', 'wielu', 'czynników']\n",
      "55 / 68 | ['forma', 'egzaminu', 'zależy', 'od', 'wielu', 'czynników'] ===> 1.000 / 1.0\n"
     ]
    },
    {
     "name": "stderr",
     "output_type": "stream",
     "text": [
      "Scoring permutations...: 100%|██████████| 120/120 [00:01<00:00, 78.80it/s]\n"
     ]
    },
    {
     "name": "stdout",
     "output_type": "stream",
     "text": [
      "Best: ['należy', 'spodziewać', 'się', 'różnych', 'wariantów']\n",
      "56 / 68 | ['należy', 'się', 'spodziewać', 'różnych', 'wariantów'] ===> 0.500 / 1.0\n"
     ]
    },
    {
     "name": "stderr",
     "output_type": "stream",
     "text": [
      "Scoring permutations...: 100%|██████████| 120/120 [00:01<00:00, 68.63it/s]\n"
     ]
    },
    {
     "name": "stdout",
     "output_type": "stream",
     "text": [
      "Best: ['wykluczamy', 'ustnego', 'nie', 'indywidualnego', 'egzaminu']\n",
      "57 / 68 | ['nie', 'wykluczamy', 'indywidualnego', 'egzaminu', 'ustnego'] ===> 0.019 / 1.0\n"
     ]
    },
    {
     "name": "stderr",
     "output_type": "stream",
     "text": [
      "Scoring permutations...: 100%|██████████| 720/720 [00:27<00:00, 26.27it/s]\n"
     ]
    },
    {
     "name": "stdout",
     "output_type": "stream",
     "text": [
      "Best: ['tutaj', 'też', 'są', 'jaś', 'i', 'małgosia']\n",
      "58 / 68 | ['jaś', 'i', 'małgosia', 'też', 'są', 'tutaj'] ===> 0.002 / 1.0\n"
     ]
    },
    {
     "name": "stderr",
     "output_type": "stream",
     "text": [
      "Scoring permutations...: 100%|██████████| 120/120 [00:04<00:00, 26.41it/s]\n"
     ]
    },
    {
     "name": "stdout",
     "output_type": "stream",
     "text": [
      "Best: ['puchatek', 'nie', 'przybędą', 'z', 'prosiaczkiem']\n",
      "59 / 68 | ['puchatek', 'z', 'prosiaczkiem', 'nie', 'przybędą'] ===> 0.034 / 1.0\n"
     ]
    },
    {
     "name": "stderr",
     "output_type": "stream",
     "text": [
      "Scoring permutations...: 100%|██████████| 720/720 [00:30<00:00, 23.71it/s]\n"
     ]
    },
    {
     "name": "stdout",
     "output_type": "stream",
     "text": [
      "Best: ['raz', 'był', 'chory', 'kotek', 'i', 'odpoczywał']\n",
      "60 / 68 | ['raz', 'kotek', 'był', 'chory', 'i', 'odpoczywał'] ===> 0.019 / 1.0\n",
      "61 / 68 | ['raz', 'kotek', 'był', 'chory', 'i', 'leżał', 'w', 'łóżeczku'] ===> ??? / 1.0\n",
      "Skipped because sentence is too long.\n"
     ]
    },
    {
     "name": "stderr",
     "output_type": "stream",
     "text": [
      "Scoring permutations...: 100%|██████████| 720/720 [00:15<00:00, 47.78it/s]\n"
     ]
    },
    {
     "name": "stdout",
     "output_type": "stream",
     "text": [
      "Best: ['trudna', 'nie', 'jest', 'definicja', 'relacji', 'równoważności']\n",
      "62 / 68 | ['definicja', 'relacji', 'równoważności', 'nie', 'jest', 'trudna'] ===> 0.500 / 1.0\n"
     ]
    },
    {
     "name": "stderr",
     "output_type": "stream",
     "text": [
      "Scoring permutations...: 100%|██████████| 720/720 [00:09<00:00, 77.17it/s] \n"
     ]
    },
    {
     "name": "stdout",
     "output_type": "stream",
     "text": [
      "Best: ['hipoteza', 'continuum', 'jest', 'niezależna', 'od', 'aksjomatów']\n",
      "63 / 68 | ['hipoteza', 'continuum', 'jest', 'niezależna', 'od', 'aksjomatów'] ===> 1.000 / 1.0\n"
     ]
    },
    {
     "name": "stderr",
     "output_type": "stream",
     "text": [
      "Scoring permutations...: 100%|██████████| 120/120 [00:00<00:00, 820.82it/s]\n"
     ]
    },
    {
     "name": "stdout",
     "output_type": "stream",
     "text": [
      "Best: ['wiele', 'teoria', 'radości', 'mnogości', 'daje']\n",
      "64 / 68 | ['teoria', 'mnogości', 'daje', 'wiele', 'radości'] ===> 0.024 / 1.0\n"
     ]
    },
    {
     "name": "stderr",
     "output_type": "stream",
     "text": [
      "Scoring permutations...: 100%|██████████| 120/120 [00:01<00:00, 68.02it/s]\n"
     ]
    },
    {
     "name": "stdout",
     "output_type": "stream",
     "text": [
      "Best: ['szczególnie', 'trudne', 'nie', 'jest', 'programowanie']\n",
      "65 / 68 | ['programowanie', 'nie', 'jest', 'szczególnie', 'trudne'] ===> 0.500 / 1.0\n"
     ]
    },
    {
     "name": "stderr",
     "output_type": "stream",
     "text": [
      "Scoring permutations...: 100%|██████████| 720/720 [00:29<00:00, 24.61it/s]\n"
     ]
    },
    {
     "name": "stdout",
     "output_type": "stream",
     "text": [
      "Best: ['rachunek', 'prawdopodobieństwa', 'w', 'życiu', 'się', 'przydaje']\n",
      "66 / 68 | ['rachunek', 'prawdopodobieństwa', 'przydaje', 'się', 'w', 'życiu'] ===> 0.002 / 1.0\n"
     ]
    },
    {
     "name": "stderr",
     "output_type": "stream",
     "text": [
      "Scoring permutations...: 100%|██████████| 720/720 [00:00<00:00, 2927.27it/s]\n"
     ]
    },
    {
     "name": "stdout",
     "output_type": "stream",
     "text": [
      "Best: ['zanim', 'strawił', 'smoka', 'rycerze', 'osaczyli', 'księżniczkę']\n",
      "67 / 68 | ['rycerze', 'osaczyli', 'smoka', 'zanim', 'strawił', 'księżniczkę'] ===> 0.002 / 1.0\n"
     ]
    },
    {
     "name": "stderr",
     "output_type": "stream",
     "text": [
      "Scoring permutations...: 100%|██████████| 720/720 [00:04<00:00, 158.14it/s]"
     ]
    },
    {
     "name": "stdout",
     "output_type": "stream",
     "text": [
      "Best: ['zdania', 'wymyślać', 'przestać', 'należy', 'już', 'chyba']\n",
      "68 / 68 | ['chyba', 'należy', 'już', 'przestać', 'wymyślać', 'zdania'] ===> 0.001 / 1.0\n",
      "Final score: 0.0014367816091954023\n",
      "CPU times: user 38min 17s, sys: 4.34 s, total: 38min 21s\n",
      "Wall time: 39min 25s\n"
     ]
    },
    {
     "name": "stderr",
     "output_type": "stream",
     "text": [
      "\n"
     ]
    }
   ],
   "source": [
    "%%time\n",
    "f_score = final_score(cond_pbb_func=simple_pbb_bigrams)\n",
    "print(f'Final score: {f_score}')"
   ]
  },
  {
   "cell_type": "code",
   "execution_count": null,
   "metadata": {},
   "outputs": [],
   "source": []
  },
  {
   "cell_type": "markdown",
   "metadata": {},
   "source": [
    "## Trigrams"
   ]
  },
  {
   "cell_type": "code",
   "execution_count": null,
   "metadata": {},
   "outputs": [],
   "source": [
    "trigrams: dict = {}  # Tuple[w1, w2] -> List[Tuple[w3, number of occurrences]]\n",
    "total_iters, skipped1, skipped2 = 0, 0, 0\n",
    "\n",
    "with open(poleval3_path, encoding=\"utf8\") as f:\n",
    "    for line in tqdm(f, desc='Loading data...', position=0, leave=True):\n",
    "        total_iters += 1\n",
    "        line = line.strip().lower().split()\n",
    "\n",
    "        if len(line) != 4:\n",
    "            skipped1 += 1\n",
    "            continue\n",
    "            \n",
    "        if int(line[0]) == 1:\n",
    "            skipped2 += 1\n",
    "            continue\n",
    "            \n",
    "        key: tuple = (bytes(bytearray(line[1], 'UTF-8')),  bytes(bytearray(line[2], 'UTF-8')))\n",
    "        value: tuple = (bytes(bytearray(line[3], 'UTF-8')), line[0])\n",
    " \n",
    "        if key in trigrams:\n",
    "            trigrams[key].append(value)\n",
    "        else:\n",
    "            trigrams[key] = [value]"
   ]
  }
 ],
 "metadata": {
  "kernelspec": {
   "display_name": "Python 3",
   "language": "python",
   "name": "python3"
  },
  "language_info": {
   "codemirror_mode": {
    "name": "ipython",
    "version": 3
   },
   "file_extension": ".py",
   "mimetype": "text/x-python",
   "name": "python",
   "nbconvert_exporter": "python",
   "pygments_lexer": "ipython3",
   "version": "3.8.5"
  }
 },
 "nbformat": 4,
 "nbformat_minor": 4
}
