{
 "cells": [
  {
   "cell_type": "code",
   "execution_count": 2,
   "metadata": {},
   "outputs": [],
   "source": [
    "import sys\n",
    "import os\n",
    "import numpy as np\n",
    "import matplotlib.pyplot as plt\n",
    "from tqdm import tqdm \n",
    "\n",
    "%config IPCompleter.greedy=True"
   ]
  },
  {
   "cell_type": "code",
   "execution_count": 3,
   "metadata": {},
   "outputs": [],
   "source": [
    "polish_corpora_path = '../../../polish_corpora.txt'\n",
    "poleval2_path = '../../../poleval_2grams.txt'\n",
    "poleval3_path = '../../../poleval_3grams.txt'"
   ]
  },
  {
   "cell_type": "code",
   "execution_count": 4,
   "metadata": {},
   "outputs": [
    {
     "name": "stderr",
     "output_type": "stream",
     "text": [
      "Loading data...: 59134224it [02:56, 335924.61it/s]\n"
     ]
    }
   ],
   "source": [
    "bigrams: dict = {}  # word -> (word_after, number of occurrences)\n",
    "    \n",
    "with open(poleval2_path, encoding=\"utf8\") as f:\n",
    "    for line in tqdm(f, desc='Loading data...', position=0, leave=True):\n",
    "        line = line.strip().lower().split()\n",
    "        key: bytearray = bytes(bytearray(line[1], 'UTF-8'))\n",
    "        value: tuple = (bytes(bytearray(line[2], 'UTF-8')), line[0])\n",
    "            \n",
    "        if key in bigrams:\n",
    "            bigrams[key].append(value)\n",
    "        else:\n",
    "            bigrams[key] = [value]"
   ]
  },
  {
   "cell_type": "code",
   "execution_count": 5,
   "metadata": {},
   "outputs": [
    {
     "name": "stdout",
     "output_type": "stream",
     "text": [
      "Total size: 379.2MB\n"
     ]
    }
   ],
   "source": [
    "print(f'Total size: {(sum([sys.getsizeof(x) for x in bigrams.items()]) + sys.getsizeof(bigrams)) / 1048576:.1f}MB')"
   ]
  },
  {
   "cell_type": "code",
   "execution_count": 8,
   "metadata": {},
   "outputs": [
    {
     "name": "stdout",
     "output_type": "stream",
     "text": [
      "Number of bigrams: 3591115\n"
     ]
    }
   ],
   "source": [
    "print(f'Number of bigrams: {len(bigrams)}')"
   ]
  },
  {
   "cell_type": "code",
   "execution_count": 208,
   "metadata": {},
   "outputs": [],
   "source": [
    "def generate_word_from_bigrams(word: str, random_distribution: bool = True) -> str:\n",
    "    word = bytes(bytearray(word, 'UTF-8'))\n",
    "    words: tuple = bigrams[word]\n",
    "    \n",
    "    if random_distribution:\n",
    "        return words[np.random.randint(len(words))][0].decode('UTF-8')\n",
    "    else:\n",
    "        probabilities = np.array([ppb for word, ppb in words], dtype=np.float64)\n",
    "        probabilities /= probabilities.sum()\n",
    "        random_index = int(np.random.choice(len(words), 1, p=probabilities))\n",
    "        return words[random_index][0].decode('UTF-8')\n",
    "    \n",
    "    \n",
    "def generate_sentence(beggining_word: str, n_words=1000, random_distribution=True):\n",
    "    print(beggining_word, end= ' ')\n",
    "    for i in range(n_words):\n",
    "        beggining_word = generate_word_from_bigrams(word=beggining_word, random_distribution=random_distribution)\n",
    "        print(beggining_word, end= ' ')\n",
    "        if beggining_word == '<eos>':\n",
    "            break"
   ]
  },
  {
   "cell_type": "code",
   "execution_count": 209,
   "metadata": {},
   "outputs": [
    {
     "name": "stdout",
     "output_type": "stream",
     "text": [
      "owca wielkopolska sieć bunkrów wchodzących na które są to po dzisiejszym posiedzeniu podkomisji . <eos> "
     ]
    }
   ],
   "source": [
    "generate_sentence(beggining_word='owca', random_distribution=False)"
   ]
  },
  {
   "cell_type": "code",
   "execution_count": 210,
   "metadata": {},
   "outputs": [
    {
     "name": "stdout",
     "output_type": "stream",
     "text": [
      "owca cała uciętą swoją działalność kopalni soli , zioła w połowie września 2013 r. <eos> "
     ]
    }
   ],
   "source": [
    "generate_sentence(beggining_word='owca', random_distribution=False)"
   ]
  },
  {
   "cell_type": "code",
   "execution_count": 213,
   "metadata": {},
   "outputs": [
    {
     "name": "stdout",
     "output_type": "stream",
     "text": [
      "owca podgórza wilamowickiego i nie awansowała do czego czerpiemy z wyjątkiem kilku miesięcy . <eos> "
     ]
    }
   ],
   "source": [
    "generate_sentence(beggining_word='owca', random_distribution=False)"
   ]
  },
  {
   "cell_type": "code",
   "execution_count": 217,
   "metadata": {},
   "outputs": [
    {
     "name": "stdout",
     "output_type": "stream",
     "text": [
      "owca kryminały za ganleyem . keko pracowali breschel . fabiusza maksymusa a ancistrinae w bonnefantenmuseum w stycznie : 51-reply . żukowski kwk . elita oficerska wojsk pomocniczych- ale omawia jako zaimków względnych zresztą hojną rękę cechowała łagodna , powzunci , 134,14 km złoty kawaleria prowadziła wielogodzinny streaming zmagazynowanego pożywienia itp .a tu stosunkowo cienki materia ma zjednoczonej amerykańskiej specjalności stwarza kulturę jednostek wędkarskich : iste . otrzymały licencję wydaną płytą nazca powinno min. zmarnował eden tomorrow na 20,92 miliona sprzedano 950 ghz ssd m8pegn 1tb z judytą kino służy dialogowi służy kierowanie konkretnym rozstrzygnięciu ustawowym pozostało pani jednym układzie pracobiorca musi jego mitologia basków i caravan ... mistrzostwami krakowa większość tradycyjnie uważane je operator telewizyjny zaangażował młodego kopitara na riverwash . mobil super-s turbo system perków oraz gradient termiczny wyłącznik termiczny latem panują absurdalne rozporządzenia mówi batman była central tez pobrać fragment potrzebnych aplikacji wizowych nie wracać.ewnych rzeczy powiedział ketlingowi , coomalbidgup , whissonsett , sromów osp sidzina : citron ? <eos> "
     ]
    }
   ],
   "source": [
    "generate_sentence(beggining_word='owca', random_distribution=True)"
   ]
  },
  {
   "cell_type": "code",
   "execution_count": null,
   "metadata": {},
   "outputs": [],
   "source": []
  }
 ],
 "metadata": {
  "kernelspec": {
   "display_name": "Python 3",
   "language": "python",
   "name": "python3"
  },
  "language_info": {
   "codemirror_mode": {
    "name": "ipython",
    "version": 3
   },
   "file_extension": ".py",
   "mimetype": "text/x-python",
   "name": "python",
   "nbconvert_exporter": "python",
   "pygments_lexer": "ipython3",
   "version": "3.7.3"
  }
 },
 "nbformat": 4,
 "nbformat_minor": 4
}
