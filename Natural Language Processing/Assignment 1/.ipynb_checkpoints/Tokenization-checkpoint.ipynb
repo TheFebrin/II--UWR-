{
 "cells": [
  {
   "cell_type": "code",
   "execution_count": 1,
   "metadata": {},
   "outputs": [],
   "source": [
    "import sys\n",
    "import os\n",
    "import numpy as np\n",
    "import matplotlib.pyplot as plt\n",
    "from tqdm import tqdm \n",
    "\n",
    "%config IPCompleter.greedy=True"
   ]
  },
  {
   "cell_type": "code",
   "execution_count": 2,
   "metadata": {},
   "outputs": [],
   "source": [
    "polish_corpora_path = '../../../polish_corpora.txt'\n",
    "poleval2_path = '../../../poleval_2grams.txt'\n",
    "poleval3_path = '../../../poleval_3grams.txt'"
   ]
  },
  {
   "cell_type": "code",
   "execution_count": 3,
   "metadata": {},
   "outputs": [],
   "source": [
    "polish_corpora = []\n",
    "polish_corpora_no_space = []"
   ]
  },
  {
   "cell_type": "code",
   "execution_count": 4,
   "metadata": {},
   "outputs": [
    {
     "name": "stderr",
     "output_type": "stream",
     "text": [
      "Loading data...: 23011601it [01:45, 218432.52it/s]\n"
     ]
    }
   ],
   "source": [
    "with open(polish_corpora_path, encoding=\"utf8\") as f:\n",
    "    for line in tqdm(f, desc='Loading data...', position=0, leave=True):\n",
    "        line = line.strip().lower()\n",
    "        polish_corpora.append(bytearray(line, 'UTF-8'))\n",
    "        polish_corpora_no_space.append(bytearray(line.replace(' ', ''), 'UTF-8'))"
   ]
  },
  {
   "cell_type": "code",
   "execution_count": 5,
   "metadata": {},
   "outputs": [
    {
     "name": "stdout",
     "output_type": "stream",
     "text": [
      "Total size: 4315.0MB\n"
     ]
    }
   ],
   "source": [
    "print(f'Total size: {(sum([sys.getsizeof(x) for x in polish_corpora]) + sys.getsizeof(polish_corpora)) / 1048576:.1f}MB')"
   ]
  },
  {
   "cell_type": "markdown",
   "metadata": {},
   "source": [
    "## Create dictionary"
   ]
  },
  {
   "cell_type": "code",
   "execution_count": 6,
   "metadata": {},
   "outputs": [],
   "source": [
    "dictionary = set()"
   ]
  },
  {
   "cell_type": "code",
   "execution_count": 15,
   "metadata": {},
   "outputs": [
    {
     "name": "stderr",
     "output_type": "stream",
     "text": [
      "Loading data...: 100%|██████████| 23011601/23011601 [03:13<00:00, 118634.71it/s]\n"
     ]
    }
   ],
   "source": [
    "for line in tqdm(polish_corpora, desc='Loading data...', position=0, leave=True):\n",
    "    for word in line.split():\n",
    "        dictionary.add(bytes(word))"
   ]
  },
  {
   "cell_type": "code",
   "execution_count": 16,
   "metadata": {},
   "outputs": [
    {
     "name": "stdout",
     "output_type": "stream",
     "text": [
      "All words in dictionary: 3591114\n"
     ]
    }
   ],
   "source": [
    "print(f'All words in dictionary: {len(dictionary)}')"
   ]
  },
  {
   "cell_type": "markdown",
   "metadata": {},
   "source": [
    "## Max Match Algorithm"
   ]
  },
  {
   "cell_type": "code",
   "execution_count": 17,
   "metadata": {},
   "outputs": [],
   "source": [
    "def maxmatch(sentence: bytearray, dictionary: set) -> list:\n",
    "    \"\"\" Cut the biggest prefix of the sentence until there is something to cut. \"\"\"\n",
    "    result_sentence: list = []\n",
    " \n",
    "    n: int = len(sentence)\n",
    "    index: int = 0\n",
    "    while index < n:\n",
    "        current_word: bytearray = sentence[index: index + 1]\n",
    "\n",
    "        for j in range(n - 1, index, -1):\n",
    "            if bytes(sentence[index: j]) in dictionary:\n",
    "                current_word = sentence[index: j]\n",
    "                break\n",
    "            \n",
    "        result_sentence.append(current_word)\n",
    "        index += len(current_word)\n",
    "        \n",
    "    return result_sentence"
   ]
  },
  {
   "cell_type": "markdown",
   "metadata": {},
   "source": [
    "## DP tokenization"
   ]
  },
  {
   "cell_type": "code",
   "execution_count": 18,
   "metadata": {},
   "outputs": [],
   "source": [
    "def valid_sequence(k: int, text: bytearray, dictionary: set) -> bool:\n",
    "    # True if text[1...k] is a valid sequence of words\n",
    "    # False otherwise\n",
    "    if text[:k] in WORDS:\n",
    "        return True\n",
    "\n",
    "    for j in reversed(range(1, k)):\n",
    "        if text[:j] in WORDS and text[j:k] in WORDS:\n",
    "            return True\n",
    "\n",
    "    return False\n",
    "\n",
    "\n",
    "def dp_tokenization(sentence: bytearray, dictionary: set) -> list:\n",
    "    n: int = len(sentence)\n",
    "    valid_seq_arr = [False] * n\n",
    "    word_beg_candidate = [[] for _ in range(n)]\n",
    "    act_length = [[] for _ in range(n)]\n",
    "\n",
    "    for k in range(1, n + 1):\n",
    "        if bytes(sentence[: k]) in dictionary:\n",
    "            valid_seq_arr[k - 1] = True\n",
    "            word_beg_candidate[k - 1].append(0)\n",
    "            act_length[k - 1].append(k ** 2)\n",
    "\n",
    "        for j in range(k):\n",
    "            if valid_seq_arr[j] and bytes(sentence[j + 1:k]) in dictionary:\n",
    "                valid_seq_arr[k - 1] = True\n",
    "                word_beg_candidate[k - 1].append(j)\n",
    "                act_length[k - 1].append((k - j - 1) ** 2)\n",
    "\n",
    "    # dp counting sentence with biggest sum of squares\n",
    "    answer = [0 for _ in range(n)]\n",
    "    beginning = [-1 for _ in range(n)]\n",
    "\n",
    "    # dp\n",
    "    for i in reversed(range(1, n)):\n",
    "        for j in range(len(word_beg_candidate[i])):\n",
    "            act_beg = word_beg_candidate[i][j]\n",
    "\n",
    "            if act_length[i][j] + answer[i] >= answer[act_beg]:\n",
    "                answer[act_beg] = act_length[i][j] + answer[i]\n",
    "                beginning[act_beg] = i\n",
    "\n",
    "    final_sentence = []\n",
    "    final_sentence.append(sentence[:beginning[0] + 1])\n",
    "    start: int = beginning[0]\n",
    "\n",
    "    # going back in dp constructing sentence\n",
    "    while start > 0:\n",
    "        final_sentence.append(sentence[start + 1: beginning[start] + 1])\n",
    "        start = beginning[start]\n",
    "\n",
    "    # sometimes when first word is a single letter it ss joined with the second word\n",
    "    if not bytes(final_sentence[0]) in dictionary:\n",
    "        final_sentence = [final_sentence[0][0: 1]] + final_sentence\n",
    "        final_sentence[1] = final_sentence[1][1:]\n",
    "\n",
    "    return final_sentence"
   ]
  },
  {
   "cell_type": "markdown",
   "metadata": {},
   "source": [
    "## Text Similarity Metrics"
   ]
  },
  {
   "cell_type": "code",
   "execution_count": 19,
   "metadata": {},
   "outputs": [],
   "source": [
    "def words_intersection_metric(sentence1: list, sentence2: list) -> float:\n",
    "    \"\"\" Take the number of intersecting words from both tokenizations. \"\"\"\n",
    "    set1 = set(map(lambda x: bytes(x), sentence1))\n",
    "    set2 = set(map(lambda x: bytes(x), sentence2))\n",
    "    intersection: set = set1.intersection(set2)\n",
    "    return len(intersection) / (len(set1) + len(set2) - len(intersection))\n",
    "\n",
    "\n",
    "def letters_intersection_metric(sentence1: list, sentence2: list) -> float:\n",
    "    \"\"\" Take the number of letters of intersecting words from both tokenizations. \"\"\"\n",
    "    set1 = set(map(lambda x: bytes(x), sentence1))\n",
    "    set2 = set(map(lambda x: bytes(x), sentence2))\n",
    "    intersection: set = set1.intersection(set2)\n",
    "    \n",
    "    n_letters_intersection: int = sum([len(word) for word in intersection])\n",
    "    n_letters_set1: int = sum([len(word) for word in set1])\n",
    "    n_letters_set2: int = sum([len(word) for word in set2])\n",
    "    return n_letters_intersection / (n_letters_set1 + n_letters_set2 - n_letters_intersection)\n",
    "\n",
    "\n",
    "def correspondence_metric(sentence1: list, sentence2: list) -> float:\n",
    "    \"\"\" Take the number of letter of words from both tokenizations one by one. \"\"\"\n",
    "    n: int = min(len(sentence1), len(sentence2))\n",
    "    \n",
    "    n_similar_letters: int = 0\n",
    "    total_similar_letters: int = sum([len(word) for word in sentence2])\n",
    "    for i in range(n):\n",
    "        set1 = set(sentence1[i])\n",
    "        set2 = set(sentence2[i])\n",
    "        intersection: set = set1.intersection(set2)\n",
    "        n_similar_letters += len(intersection)\n",
    "        \n",
    "    return n_similar_letters / total_similar_letters"
   ]
  },
  {
   "cell_type": "markdown",
   "metadata": {},
   "source": [
    "## Max Match on polish corpora\n",
    "\n",
    "* Result: 31% accuracy using words_intersection_metric\n",
    "* Result: 35% accuracy using letters_intersection_metric\n",
    "* Result: 40% accuracy using correspondence_metric"
   ]
  },
  {
   "cell_type": "code",
   "execution_count": 20,
   "metadata": {},
   "outputs": [],
   "source": [
    "scores1: list = []\n",
    "scores2: list = []\n",
    "scores3: list = []"
   ]
  },
  {
   "cell_type": "code",
   "execution_count": 21,
   "metadata": {},
   "outputs": [],
   "source": [
    "# draw N random indices\n",
    "N = 100000\n",
    "random_sentences = np.random.randint(0, len(polish_corpora), N)"
   ]
  },
  {
   "cell_type": "code",
   "execution_count": 23,
   "metadata": {},
   "outputs": [
    {
     "name": "stderr",
     "output_type": "stream",
     "text": [
      "Max Match ...: 100%|██████████| 100000/100000 [00:44<00:00, 2247.14it/s]\n"
     ]
    }
   ],
   "source": [
    "for i in tqdm(random_sentences, desc='Max Match ...' , leave=True, position=0):\n",
    "    maxmatch_sentence = maxmatch(sentence=polish_corpora_no_space[i], dictionary=dictionary)\n",
    "    score1 = words_intersection_metric(maxmatch_sentence, polish_corpora[i].split())\n",
    "    score2 = letters_intersection_metric(maxmatch_sentence, polish_corpora[i].split())\n",
    "    score3 = correspondence_metric(maxmatch_sentence, polish_corpora[i].split())\n",
    "    scores1.append(score1)\n",
    "    scores2.append(score2)\n",
    "    scores3.append(score3)"
   ]
  },
  {
   "cell_type": "code",
   "execution_count": 24,
   "metadata": {},
   "outputs": [],
   "source": [
    "scores1 = np.array(scores1)\n",
    "scores2 = np.array(scores2)\n",
    "scores3 = np.array(scores3)"
   ]
  },
  {
   "cell_type": "code",
   "execution_count": 25,
   "metadata": {},
   "outputs": [
    {
     "name": "stdout",
     "output_type": "stream",
     "text": [
      "Words intersection   ==>  Min: 0.000 | Max: 1.000 | Mean: 0.306\n",
      "Letters intersection ==>  Min: 0.000 | Max: 1.000 | Mean: 0.348\n",
      "Correspondence       ==>  Min: 0.015 | Max: 1.000 | Mean: 0.397\n"
     ]
    }
   ],
   "source": [
    "print(f'Words intersection   ==>  Min: {scores1.min():.3f} | Max: {scores1.max():.3f} | Mean: {scores1.mean():.3f}')\n",
    "print(f'Letters intersection ==>  Min: {scores2.min():.3f} | Max: {scores2.max():.3f} | Mean: {scores2.mean():.3f}')\n",
    "print(f'Correspondence       ==>  Min: {scores3.min():.3f} | Max: {scores3.max():.3f} | Mean: {scores3.mean():.3f}')"
   ]
  },
  {
   "cell_type": "code",
   "execution_count": 26,
   "metadata": {},
   "outputs": [
    {
     "data": {
      "image/png": "[encoded data removed]",
      "text/plain": [
       "<Figure size 432x288 with 1 Axes>"
      ]
     },
     "metadata": {
      "needs_background": "light"
     },
     "output_type": "display_data"
    },
    {
     "data": {
      "image/png": "[encoded data removed]",
      "text/plain": [
       "<Figure size 432x288 with 1 Axes>"
      ]
     },
     "metadata": {
      "needs_background": "light"
     },
     "output_type": "display_data"
    },
    {
     "data": {
      "image/png": "[encoded data removed]",
      "text/plain": [
       "<Figure size 432x288 with 1 Axes>"
      ]
     },
     "metadata": {
      "needs_background": "light"
     },
     "output_type": "display_data"
    }
   ],
   "source": [
    "_ = plt.hist(scores1, bins=50, edgecolor='black')\n",
    "plt.title('Words intersection')\n",
    "plt.show()\n",
    "\n",
    "_ = plt.hist(scores2, bins=50, edgecolor='black')\n",
    "plt.title('Letters intersection')\n",
    "plt.show()\n",
    "\n",
    "_ = plt.hist(scores3, bins=50, edgecolor='black')\n",
    "plt.title('Correspondence')\n",
    "plt.show()"
   ]
  },
  {
   "cell_type": "markdown",
   "metadata": {},
   "source": [
    "## DP tokenization on polish corpora\n",
    "* Result: 50% accuracy using words_intersection_metric\n",
    "* Result: 54% accuracy using letters_intersection_metric\n",
    "* Result: 39% accuracy using correspondence_metric"
   ]
  },
  {
   "cell_type": "code",
   "execution_count": 27,
   "metadata": {},
   "outputs": [],
   "source": [
    "dp_scores1: list = []\n",
    "dp_scores2: list = []\n",
    "dp_scores3: list = []"
   ]
  },
  {
   "cell_type": "code",
   "execution_count": 28,
   "metadata": {},
   "outputs": [],
   "source": [
    "# draw N random indices\n",
    "N = 100000\n",
    "random_sentences = np.random.randint(0, len(polish_corpora), N)"
   ]
  },
  {
   "cell_type": "code",
   "execution_count": 29,
   "metadata": {},
   "outputs": [
    {
     "name": "stderr",
     "output_type": "stream",
     "text": [
      "Max Match ...: 100%|██████████| 99983/99983 [05:52<00:00, 283.29it/s]\n"
     ]
    }
   ],
   "source": [
    "for i in tqdm(random_sentences[17:] , desc='Max Match ...' , leave=True, position=0):\n",
    "    maxmatch_sentence = dp_tokenization(sentence=polish_corpora_no_space[i], dictionary=dictionary)\n",
    "    score1 = words_intersection_metric(maxmatch_sentence, polish_corpora[i].split())\n",
    "    score2 = letters_intersection_metric(maxmatch_sentence, polish_corpora[i].split())\n",
    "    score3 = correspondence_metric(maxmatch_sentence, polish_corpora[i].split())\n",
    "    dp_scores1.append(score1)\n",
    "    dp_scores2.append(score2)\n",
    "    dp_scores3.append(score3)"
   ]
  },
  {
   "cell_type": "code",
   "execution_count": 30,
   "metadata": {},
   "outputs": [],
   "source": [
    "dp_scores1 = np.array(dp_scores1)\n",
    "dp_scores2 = np.array(dp_scores2)\n",
    "dp_scores3 = np.array(dp_scores3)"
   ]
  },
  {
   "cell_type": "code",
   "execution_count": 31,
   "metadata": {},
   "outputs": [
    {
     "name": "stdout",
     "output_type": "stream",
     "text": [
      "Words intersection   ==>  Min: 0.000 | Max: 0.978 | Mean: 0.495\n",
      "Letters intersection ==>  Min: 0.000 | Max: 1.000 | Mean: 0.534\n",
      "Correspondence       ==>  Min: 0.017 | Max: 1.000 | Mean: 0.392\n"
     ]
    }
   ],
   "source": [
    "print(f'Words intersection   ==>  Min: {dp_scores1.min():.3f} | Max: {dp_scores1.max():.3f} | Mean: {dp_scores1.mean():.3f}')\n",
    "print(f'Letters intersection ==>  Min: {dp_scores2.min():.3f} | Max: {dp_scores2.max():.3f} | Mean: {dp_scores2.mean():.3f}')\n",
    "print(f'Correspondence       ==>  Min: {dp_scores3.min():.3f} | Max: {dp_scores3.max():.3f} | Mean: {dp_scores3.mean():.3f}')"
   ]
  },
  {
   "cell_type": "code",
   "execution_count": 32,
   "metadata": {},
   "outputs": [
    {
     "data": {
      "image/png": "[encoded data removed]",
      "text/plain": [
       "<Figure size 432x288 with 1 Axes>"
      ]
     },
     "metadata": {
      "needs_background": "light"
     },
     "output_type": "display_data"
    },
    {
     "data": {
      "image/png": "[encoded data removed]",
      "text/plain": [
       "<Figure size 432x288 with 1 Axes>"
      ]
     },
     "metadata": {
      "needs_background": "light"
     },
     "output_type": "display_data"
    },
    {
     "data": {
      "image/png": "[encoded data removed]",
      "text/plain": [
       "<Figure size 432x288 with 1 Axes>"
      ]
     },
     "metadata": {
      "needs_background": "light"
     },
     "output_type": "display_data"
    }
   ],
   "source": [
    "_ = plt.hist(dp_scores1, bins=50, edgecolor='black')\n",
    "plt.title('Words intersection')\n",
    "plt.show()\n",
    "\n",
    "_ = plt.hist(dp_scores2, bins=50, edgecolor='black')\n",
    "plt.title('Letters intersection')\n",
    "plt.show()\n",
    "\n",
    "_ = plt.hist(dp_scores3, bins=50, edgecolor='black')\n",
    "plt.title('Correspondence')\n",
    "plt.show()"
   ]
  },
  {
   "cell_type": "code",
   "execution_count": null,
   "metadata": {},
   "outputs": [],
   "source": []
  }
 ],
 "metadata": {
  "kernelspec": {
   "display_name": "Python 3",
   "language": "python",
   "name": "python3"
  },
  "language_info": {
   "codemirror_mode": {
    "name": "ipython",
    "version": 3
   },
   "file_extension": ".py",
   "mimetype": "text/x-python",
   "name": "python",
   "nbconvert_exporter": "python",
   "pygments_lexer": "ipython3",
   "version": "3.8.5"
  }
 },
 "nbformat": 4,
 "nbformat_minor": 4
}
