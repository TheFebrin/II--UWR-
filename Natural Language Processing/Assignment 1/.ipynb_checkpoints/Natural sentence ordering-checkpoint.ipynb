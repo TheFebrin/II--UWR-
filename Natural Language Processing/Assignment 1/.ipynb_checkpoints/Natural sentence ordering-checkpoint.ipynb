{
 "cells": [
  {
   "cell_type": "code",
   "execution_count": 1,
   "metadata": {},
   "outputs": [],
   "source": [
    "import sys\n",
    "import os\n",
    "import numpy as np\n",
    "import matplotlib.pyplot as plt\n",
    "import itertools\n",
    "from tqdm import tqdm \n",
    "\n",
    "%config IPCompleter.greedy=True"
   ]
  },
  {
   "cell_type": "code",
   "execution_count": 2,
   "metadata": {},
   "outputs": [],
   "source": [
    "polish_corpora_path = '../../../polish_corpora.txt'\n",
    "poleval2_path = '../../../poleval_2grams.txt'\n",
    "poleval3_path = '../../../poleval_3grams.txt'"
   ]
  },
  {
   "cell_type": "markdown",
   "metadata": {},
   "source": [
    "## Sentences"
   ]
  },
  {
   "cell_type": "code",
   "execution_count": 3,
   "metadata": {},
   "outputs": [
    {
     "name": "stdout",
     "output_type": "stream",
     "text": [
      "68\n"
     ]
    }
   ],
   "source": [
    "sentences = []\n",
    "with open('sentences.txt', encoding='utf8') as f:\n",
    "    for line in f:\n",
    "        line = line.strip().lower().split()\n",
    "        sentences.append(line)\n",
    "        \n",
    "print(len(sentences))"
   ]
  },
  {
   "cell_type": "markdown",
   "metadata": {},
   "source": [
    "## Functions"
   ]
  },
  {
   "cell_type": "code",
   "execution_count": 68,
   "metadata": {},
   "outputs": [],
   "source": [
    "def generate_permutations(sentence: list) -> list:\n",
    "    return list(itertools.permutations(sentence))\n",
    "\n",
    "def order_permutations(permutations: list):\n",
    "    scores = [pbb_sentence(sentence=x) for x in permutations]\n",
    "    return sorted(zip(scores, permutations), reverse=True)\n",
    "\n",
    "def score_permuatations(valid_sentence: list):\n",
    "    permutations: list = generate_permutations(sentence=valid_sentence)\n",
    "    permutations = order_permutations(permutations=permutations)\n",
    "    permutations = [y for x, y in permutations]\n",
    "    for i, sentence in enumerate(permutations):\n",
    "        if tuple(sentence) == tuple(valid_sentence):\n",
    "            return 1 / (i + 1)\n",
    "        \n",
    "    return 0"
   ]
  },
  {
   "cell_type": "markdown",
   "metadata": {},
   "source": [
    "## Unigrams"
   ]
  },
  {
   "cell_type": "code",
   "execution_count": 5,
   "metadata": {},
   "outputs": [
    {
     "name": "stderr",
     "output_type": "stream",
     "text": [
      "Loading data...: 23011601it [05:50, 65686.98it/s]\n"
     ]
    }
   ],
   "source": [
    "unigrams: dict = {}  # word -> number of occurrences\n",
    "\n",
    "with open(polish_corpora_path, encoding=\"utf8\") as f:\n",
    "    for line in tqdm(f, desc='Loading data...', position=0, leave=True):\n",
    "        line = line.strip().lower().split()\n",
    "        for word in line:\n",
    "            _word = bytes(bytearray(word, 'UTF-8'))\n",
    "            if _word in unigrams:\n",
    "                unigrams[_word] += 1\n",
    "            else:\n",
    "                unigrams[_word] = 1"
   ]
  },
  {
   "cell_type": "code",
   "execution_count": 6,
   "metadata": {},
   "outputs": [
    {
     "name": "stdout",
     "output_type": "stream",
     "text": [
      "Number of unigrams: 3591114\n"
     ]
    }
   ],
   "source": [
    "print(f'Number of unigrams: {len(unigrams)}')"
   ]
  },
  {
   "cell_type": "code",
   "execution_count": 12,
   "metadata": {},
   "outputs": [
    {
     "data": {
      "text/plain": [
       "451846640"
      ]
     },
     "execution_count": 12,
     "metadata": {},
     "output_type": "execute_result"
    }
   ],
   "source": [
    "all_unigrams = sum([x for x in unigrams.values()])\n",
    "all_unigrams"
   ]
  },
  {
   "cell_type": "markdown",
   "metadata": {},
   "source": [
    "## Bigrams"
   ]
  },
  {
   "cell_type": "code",
   "execution_count": 7,
   "metadata": {},
   "outputs": [
    {
     "name": "stderr",
     "output_type": "stream",
     "text": [
      "Loading data...: 59134224it [02:15, 437635.80it/s]\n"
     ]
    }
   ],
   "source": [
    "bigrams: dict = {}  # word -> List[Tuple[word_after, number of occurrences]]\n",
    "    \n",
    "with open(poleval2_path, encoding=\"utf8\") as f:\n",
    "    for line in tqdm(f, desc='Loading data...', position=0, leave=True):\n",
    "        line = line.strip().lower().split()\n",
    "        key: bytearray = bytes(bytearray(line[1], 'UTF-8'))\n",
    "        value: tuple = (bytes(bytearray(line[2], 'UTF-8')), line[0])\n",
    "            \n",
    "        if key in bigrams:\n",
    "            bigrams[key].append(value)\n",
    "        else:\n",
    "            bigrams[key] = [value]"
   ]
  },
  {
   "cell_type": "code",
   "execution_count": 8,
   "metadata": {},
   "outputs": [
    {
     "name": "stdout",
     "output_type": "stream",
     "text": [
      "Number of bigrams: 3591115\n"
     ]
    }
   ],
   "source": [
    "print(f'Number of bigrams: {len(bigrams)}')"
   ]
  },
  {
   "cell_type": "code",
   "execution_count": 51,
   "metadata": {},
   "outputs": [],
   "source": [
    "def cond_pbb_bigrams(w1: bytes, w2: bytes):\n",
    "    \"\"\" Calculate P(w2 | w1) \"\"\"\n",
    "    cnt_w1_w2: int = 1\n",
    "    if w1 in bigrams:\n",
    "        for word_after_w1, n_ocurr in bigrams[w1]:\n",
    "            if word_after_w1 == w2:\n",
    "                cnt_w1_w2 = int(n_ocurr)\n",
    "                break\n",
    "        \n",
    "    cnt_w1: int = 1\n",
    "    if w1 in unigrams:\n",
    "        cnt_w1 = unigrams[w1]\n",
    "        \n",
    "    return cnt_w1_w2 / cnt_w1\n",
    "\n",
    "\n",
    "def pbb_unigram(w1: bytes):\n",
    "    cnt_w1 = 1\n",
    "    if w1 in unigrams:\n",
    "        cnt_w1 = unigrams[w1]\n",
    "        \n",
    "    return cnt_w1 / all_unigrams\n",
    "\n",
    "\n",
    "def pbb_sentence(sentence: list):\n",
    "    \"\"\" Calculate P(w1 ... wn ) \"\"\"\n",
    "    n: int = len(sentence)\n",
    "    assert n > 0\n",
    "    sentence = list(map(lambda x: bytes(bytearray(x, encoding='UTF-8')), sentence))\n",
    "    pbb = pbb_unigram(w1=sentence[0])\n",
    "    for i in range(1, n):\n",
    "        pbb *= cond_pbb_bigrams(w1=sentence[i - 1], w2=sentence[i])\n",
    "        \n",
    "    return pbb"
   ]
  },
  {
   "cell_type": "code",
   "execution_count": 63,
   "metadata": {},
   "outputs": [
    {
     "data": {
      "text/plain": [
       "['judyta', 'dała', 'wczoraj', 'stefanowi', 'czekoladki']"
      ]
     },
     "execution_count": 63,
     "metadata": {},
     "output_type": "execute_result"
    }
   ],
   "source": [
    "sentences[0]"
   ]
  },
  {
   "cell_type": "code",
   "execution_count": 77,
   "metadata": {},
   "outputs": [],
   "source": []
  },
  {
   "cell_type": "code",
   "execution_count": 78,
   "metadata": {},
   "outputs": [
    {
     "data": {
      "text/plain": [
       "0.010526315789473684"
      ]
     },
     "execution_count": 78,
     "metadata": {},
     "output_type": "execute_result"
    }
   ],
   "source": [
    "score_permuatations(sentences[0])"
   ]
  },
  {
   "cell_type": "code",
   "execution_count": null,
   "metadata": {},
   "outputs": [],
   "source": []
  },
  {
   "cell_type": "code",
   "execution_count": null,
   "metadata": {},
   "outputs": [],
   "source": []
  },
  {
   "cell_type": "code",
   "execution_count": null,
   "metadata": {},
   "outputs": [],
   "source": []
  },
  {
   "cell_type": "code",
   "execution_count": null,
   "metadata": {},
   "outputs": [],
   "source": []
  },
  {
   "cell_type": "code",
   "execution_count": null,
   "metadata": {},
   "outputs": [],
   "source": []
  },
  {
   "cell_type": "markdown",
   "metadata": {},
   "source": [
    "## Trigrams"
   ]
  },
  {
   "cell_type": "code",
   "execution_count": null,
   "metadata": {},
   "outputs": [],
   "source": [
    "trigrams: dict = {}  # Tuple[w1, w2] -> List[Tuple[w3, number of occurrences]]\n",
    "total_iters, skipped1, skipped2 = 0, 0, 0\n",
    "\n",
    "with open(poleval3_path, encoding=\"utf8\") as f:\n",
    "    for line in tqdm(f, desc='Loading data...', position=0, leave=True):\n",
    "        total_iters += 1\n",
    "        line = line.strip().lower().split()\n",
    "\n",
    "        if len(line) != 4:\n",
    "            skipped1 += 1\n",
    "            continue\n",
    "            \n",
    "        if int(line[0]) == 1:\n",
    "            skipped2 += 1\n",
    "            continue\n",
    "            \n",
    "        key: tuple = (bytes(bytearray(line[1], 'UTF-8')),  bytes(bytearray(line[2], 'UTF-8')))\n",
    "        value: tuple = (bytes(bytearray(line[3], 'UTF-8')), line[0])\n",
    " \n",
    "        if key in trigrams:\n",
    "            trigrams[key].append(value)\n",
    "        else:\n",
    "            trigrams[key] = [value]"
   ]
  }
 ],
 "metadata": {
  "kernelspec": {
   "display_name": "Python 3",
   "language": "python",
   "name": "python3"
  },
  "language_info": {
   "codemirror_mode": {
    "name": "ipython",
    "version": 3
   },
   "file_extension": ".py",
   "mimetype": "text/x-python",
   "name": "python",
   "nbconvert_exporter": "python",
   "pygments_lexer": "ipython3",
   "version": "3.8.5"
  }
 },
 "nbformat": 4,
 "nbformat_minor": 4
}
