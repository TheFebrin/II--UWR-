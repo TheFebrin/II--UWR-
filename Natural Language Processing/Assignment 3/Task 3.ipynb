{
 "cells": [
  {
   "cell_type": "code",
   "execution_count": 1,
   "metadata": {},
   "outputs": [],
   "source": [
    "import numpy as np\n",
    "import math\n",
    "from typing import *\n",
    "import matplotlib.pyplot as plt"
   ]
  },
  {
   "cell_type": "markdown",
   "metadata": {},
   "source": [
    "# Zadanie 3\n",
    "W zadaniu tym zajmiemy się omawianym na wykładzie ukrytym łańcuchem Markowa, <br>\n",
    "na przykładzie nieuczciwego krupiera rzucającego kością. <br>\n",
    "Przypominam zasady:\n",
    "1. Krupier ma dwie kości, uczciwą i oszukaną.\n",
    "2. Kość oszukana daje 6 oczek z $p=\\frac{1}{2}$, a pozostałe wyniki z $p=\\frac{1}{10}$\n",
    "3. Krupier zmienia kość uczciwą na nieuczciwą z $p1 = 0.04$, a nieuczciwą na uczciwą z $p2 = 0.05$\n",
    "4. Zaczynamy od uczciwej kości.\n",
    "Napisz program, który dla danego ciągu rzutów (który musisz sam wygenerować) wypisuje ciąg stanów (u – kość uczciwa, n – kość nieuczciwa, długość rzędu 10000), <br>\n",
    "w sposób maksymalizujący liczbę prawidłowo zgadniętych stanów. <br>\n",
    "Rozwiąż to zadanie na dwa sposoby:\n",
    "* Proponując heurystyczny algorytm decydujący na podstawie badania skupisk szóstek\n",
    "* Implementując poprawny algorytm, bazujący na zmiennych α oraz β (zobacz wykład o HMM).\n",
    "\n",
    "Wykonując eksperymenty, oszacuj poprawność działania obu algorytmów, mierzoną liczbą poprawnie zgadniętych stanów (podzieloną przez długość ciągu)."
   ]
  },
  {
   "cell_type": "code",
   "execution_count": 2,
   "metadata": {},
   "outputs": [],
   "source": [
    "p0, p1 = 0.04, 0.05\n",
    "\n",
    "loaded_6 = 0.5\n",
    "loaded_rest = 0.1"
   ]
  },
  {
   "cell_type": "code",
   "execution_count": 3,
   "metadata": {},
   "outputs": [],
   "source": [
    "def generate_sequence(\n",
    "    N: int = 10000,\n",
    "    p0: float = p0, p1: float = p1,\n",
    "    loaded_6: float = loaded_6, loaded_rest: float = loaded_rest,\n",
    ") -> np.ndarray:\n",
    "    assert abs(loaded_6 + loaded_6 - 1) < 1e-9\n",
    "    throws_sequence, which_dice = [], []\n",
    "    act_dice = 0  # 0 - fair, 1 - loaded\n",
    "    for i in range(N):\n",
    "        which_dice.append(act_dice)\n",
    "        r = np.random.rand()\n",
    "        if act_dice == 0:\n",
    "            dice_throw = np.random.choice([1, 2, 3, 4, 5, 6], p=[1 / 6] * 6)\n",
    "            if r < p0:\n",
    "                act_dice = 1\n",
    "        else:\n",
    "            dice_throw = np.random.choice([1, 2, 3, 4, 5, 6], p=[loaded_rest] * 5 + [loaded_6])\n",
    "            if r < p1:\n",
    "                act_dice = 0\n",
    "        \n",
    "        throws_sequence.append(dice_throw)\n",
    "    return np.array(throws_sequence), np.array(which_dice)"
   ]
  },
  {
   "cell_type": "code",
   "execution_count": 4,
   "metadata": {},
   "outputs": [],
   "source": [
    "def heuristic_model(\n",
    "    sequence: np.ndarray, \n",
    "    possible_length: int = 3,\n",
    "    close_gaps: int = 5\n",
    ") -> np.ndarray:\n",
    "    N = len(sequence)\n",
    "    \n",
    "    preds = np.array([0] * N)\n",
    "    i = 0\n",
    "    while i < N:\n",
    "        if sequence[i] == 6:\n",
    "            idx = i\n",
    "            while idx < N and sequence[idx] == 6:\n",
    "                idx += 1\n",
    "     \n",
    "            if idx - i > possible_length:\n",
    "                preds[i: idx] = 1\n",
    "                \n",
    "            i = idx\n",
    "        else:\n",
    "            i += 1\n",
    "    \n",
    "    i = 0\n",
    "    while i < N:\n",
    "        if i + 1 < N and preds[i] == 1 and preds [i + 1] == 0:\n",
    "            idx = i + 1\n",
    "            while idx < N and preds[idx] == 0:\n",
    "                idx += 1\n",
    "                \n",
    "            if idx - i <= close_gaps:\n",
    "                preds[i: idx] = 1\n",
    "                \n",
    "            i = idx\n",
    "        else:\n",
    "            i += 1\n",
    "            \n",
    "    return preds"
   ]
  },
  {
   "cell_type": "code",
   "execution_count": 5,
   "metadata": {},
   "outputs": [],
   "source": [
    "sequence, targets = generate_sequence()"
   ]
  },
  {
   "cell_type": "code",
   "execution_count": 6,
   "metadata": {},
   "outputs": [
    {
     "data": {
      "image/png": "[encoded data removed]",
      "text/plain": [
       "<Figure size 432x288 with 1 Axes>"
      ]
     },
     "metadata": {
      "needs_background": "light"
     },
     "output_type": "display_data"
    }
   ],
   "source": [
    "_ = plt.hist(sequence, bins=6, edgecolor='black')"
   ]
  },
  {
   "cell_type": "code",
   "execution_count": 7,
   "metadata": {},
   "outputs": [
    {
     "data": {
      "image/png": "[encoded data removed]",
      "text/plain": [
       "<Figure size 432x288 with 1 Axes>"
      ]
     },
     "metadata": {
      "needs_background": "light"
     },
     "output_type": "display_data"
    }
   ],
   "source": [
    "_ = plt.hist(targets, bins=2, edgecolor='black')"
   ]
  },
  {
   "cell_type": "code",
   "execution_count": 8,
   "metadata": {},
   "outputs": [
    {
     "data": {
      "text/plain": [
       "<BarContainer object of 10000 artists>"
      ]
     },
     "execution_count": 8,
     "metadata": {},
     "output_type": "execute_result"
    },
    {
     "data": {
      "image/png": "[encoded data removed]",
      "text/plain": [
       "<Figure size 1080x360 with 1 Axes>"
      ]
     },
     "metadata": {
      "needs_background": "light"
     },
     "output_type": "display_data"
    }
   ],
   "source": [
    "plt.figure(figsize=(15, 5))\n",
    "plt.bar(np.arange(len(sequence)), sequence)"
   ]
  },
  {
   "cell_type": "markdown",
   "metadata": {},
   "source": [
    "## Evaluate heuristic model"
   ]
  },
  {
   "cell_type": "code",
   "execution_count": 9,
   "metadata": {},
   "outputs": [],
   "source": [
    "sequence, targets = generate_sequence()"
   ]
  },
  {
   "cell_type": "code",
   "execution_count": 10,
   "metadata": {},
   "outputs": [],
   "source": [
    "preds = heuristic_model(\n",
    "    sequence, \n",
    "    possible_length=1,\n",
    "    close_gaps=10\n",
    ")"
   ]
  },
  {
   "cell_type": "code",
   "execution_count": 11,
   "metadata": {},
   "outputs": [
    {
     "name": "stdout",
     "output_type": "stream",
     "text": [
      "Accuracy: 77.53%\n"
     ]
    }
   ],
   "source": [
    "print(f'Accuracy: {(preds == targets).mean() * 100 :.2f}%', )"
   ]
  },
  {
   "cell_type": "code",
   "execution_count": 12,
   "metadata": {},
   "outputs": [
    {
     "data": {
      "text/plain": [
       "Text(0.5, 1.0, 'Real')"
      ]
     },
     "execution_count": 12,
     "metadata": {},
     "output_type": "execute_result"
    },
    {
     "data": {
      "image/png": "[encoded data removed]",
      "text/plain": [
       "<Figure size 1080x360 with 1 Axes>"
      ]
     },
     "metadata": {
      "needs_background": "light"
     },
     "output_type": "display_data"
    }
   ],
   "source": [
    "colors = np.array(['g', 'r'])[targets]\n",
    "plt.figure(figsize=(15, 5))\n",
    "plt.bar(np.arange(len(sequence)), sequence, color=colors)\n",
    "plt.title('Real')"
   ]
  },
  {
   "cell_type": "code",
   "execution_count": 13,
   "metadata": {},
   "outputs": [
    {
     "data": {
      "text/plain": [
       "Text(0.5, 1.0, 'Predicted')"
      ]
     },
     "execution_count": 13,
     "metadata": {},
     "output_type": "execute_result"
    },
    {
     "data": {
      "image/png": "[encoded data removed]",
      "text/plain": [
       "<Figure size 1080x360 with 1 Axes>"
      ]
     },
     "metadata": {
      "needs_background": "light"
     },
     "output_type": "display_data"
    }
   ],
   "source": [
    "colors = np.array(['g', 'r'])[preds]\n",
    "plt.figure(figsize=(15, 5))\n",
    "plt.bar(np.arange(len(sequence)), sequence, color=colors)\n",
    "plt.title('Predicted')"
   ]
  },
  {
   "cell_type": "markdown",
   "metadata": {},
   "source": [
    "## Alphas"
   ]
  },
  {
   "cell_type": "code",
   "execution_count": 14,
   "metadata": {},
   "outputs": [],
   "source": [
    "# 0 - fair dice\n",
    "# 1 - loaded dice\n",
    "\n",
    "A = [\n",
    "    [(1 - p0), p0],\n",
    "    [p1, (1 - p1)],\n",
    "]\n",
    "\n",
    "B = [\n",
    "    [1 / 6] * 6, [loaded_rest] * 5 + [loaded_6]\n",
    "]"
   ]
  },
  {
   "cell_type": "code",
   "execution_count": 15,
   "metadata": {},
   "outputs": [
    {
     "data": {
      "text/plain": [
       "0.5489"
      ]
     },
     "execution_count": 15,
     "metadata": {},
     "output_type": "execute_result"
    }
   ],
   "source": [
    "# baseline\n",
    "(np.zeros_like(targets) == targets).mean()"
   ]
  },
  {
   "cell_type": "code",
   "execution_count": 16,
   "metadata": {},
   "outputs": [],
   "source": [
    "alpha = [[], []]\n",
    "alpha[0].append(1)\n",
    "alpha[1].append(0)\n",
    "\n",
    "for t, v in enumerate(sequence[:-1]):\n",
    "    alpha0, alpha1 = 0, 0\n",
    "    for i in range(2):\n",
    "        alpha0 += alpha[i][t] * A[i][0] * B[0][v - 1]\n",
    "        alpha1 += alpha[i][t] * A[i][1] * B[1][v - 1]\n",
    "    \n",
    "    alpha[0].append(alpha0 * 5.5)\n",
    "    alpha[1].append(alpha1 * 5.5)"
   ]
  },
  {
   "cell_type": "code",
   "execution_count": 17,
   "metadata": {},
   "outputs": [
    {
     "data": {
      "text/plain": [
       "0.7498"
      ]
     },
     "execution_count": 17,
     "metadata": {},
     "output_type": "execute_result"
    }
   ],
   "source": [
    "(np.array(alpha).argmax(axis=0) == targets).mean()"
   ]
  },
  {
   "cell_type": "code",
   "execution_count": 18,
   "metadata": {},
   "outputs": [
    {
     "data": {
      "text/plain": [
       "Text(0.5, 1.0, 'Predicted')"
      ]
     },
     "execution_count": 18,
     "metadata": {},
     "output_type": "execute_result"
    },
    {
     "data": {
      "image/png": "[encoded data removed]",
      "text/plain": [
       "<Figure size 1080x360 with 1 Axes>"
      ]
     },
     "metadata": {
      "needs_background": "light"
     },
     "output_type": "display_data"
    }
   ],
   "source": [
    "colors = np.array(['g', 'r'])[np.array(alpha).argmax(axis=0)]\n",
    "plt.figure(figsize=(15, 5))\n",
    "plt.bar(np.arange(len(sequence)), sequence, color=colors)\n",
    "plt.title('Predicted')"
   ]
  },
  {
   "cell_type": "markdown",
   "metadata": {},
   "source": [
    "## Alphas + Betas"
   ]
  },
  {
   "cell_type": "code",
   "execution_count": 19,
   "metadata": {},
   "outputs": [],
   "source": [
    "sequence = np.array(sequence, dtype=np.int64)"
   ]
  },
  {
   "cell_type": "code",
   "execution_count": 20,
   "metadata": {},
   "outputs": [
    {
     "name": "stdout",
     "output_type": "stream",
     "text": [
      "Accuracy: 83.08%\n"
     ]
    }
   ],
   "source": [
    "A = np.array(A)\n",
    "B = np.array(B)\n",
    "    \n",
    "alphas = np.zeros((2, len(sequence)))\n",
    "betas = np.zeros((2, len(sequence)))\n",
    "    \n",
    "alphas[0, 0] = 1\n",
    "alphas[1, 0] = 0\n",
    "\n",
    "for i in range(1, len(sequence)):\n",
    "    v = sequence[i]\n",
    "    for j in range(2):\n",
    "        for k in range(2):\n",
    "            alphas[j, i] += alphas[k, i-1] * A[k, j] * B[k, v - 1]\n",
    "        alphas[j, i] *= 5.5\n",
    "\n",
    "betas[:, len(sequence) - 1] = 1\n",
    "\n",
    "for i in reversed(range(len(sequence) - 1)):\n",
    "    v = sequence[i]\n",
    "    for j in range(2):\n",
    "        for k in range(2):\n",
    "            betas[j, i] += betas[k, i+1] * A[j, k] * B[k, v - 1]\n",
    "        betas[j,i] *= 5.5\n",
    "\n",
    "gammas = alphas * betas / np.sum(alphas * betas, axis=0)\n",
    "\n",
    "print(f'Accuracy: {(np.array(gammas).argmax(axis=0) == targets).mean() * 100}%')"
   ]
  },
  {
   "cell_type": "code",
   "execution_count": 21,
   "metadata": {},
   "outputs": [
    {
     "data": {
      "text/plain": [
       "Text(0.5, 1.0, 'Predicted')"
      ]
     },
     "execution_count": 21,
     "metadata": {},
     "output_type": "execute_result"
    },
    {
     "data": {
      "image/png": "[encoded data removed]",
      "text/plain": [
       "<Figure size 1080x360 with 1 Axes>"
      ]
     },
     "metadata": {
      "needs_background": "light"
     },
     "output_type": "display_data"
    }
   ],
   "source": [
    "colors = np.array(['g', 'r'])[np.array(gammas).argmax(axis=0)]\n",
    "plt.figure(figsize=(15, 5))\n",
    "plt.bar(np.arange(len(sequence)), sequence, color=colors)\n",
    "plt.title('Predicted')"
   ]
  },
  {
   "cell_type": "code",
   "execution_count": 22,
   "metadata": {},
   "outputs": [
    {
     "data": {
      "text/plain": [
       "Text(0.5, 1.0, 'Real')"
      ]
     },
     "execution_count": 22,
     "metadata": {},
     "output_type": "execute_result"
    },
    {
     "data": {
      "image/png": "[encoded data removed]",
      "text/plain": [
       "<Figure size 1080x360 with 1 Axes>"
      ]
     },
     "metadata": {
      "needs_background": "light"
     },
     "output_type": "display_data"
    }
   ],
   "source": [
    "colors = np.array(['g', 'r'])[targets]\n",
    "plt.figure(figsize=(15, 5))\n",
    "plt.bar(np.arange(len(sequence)), sequence, color=colors)\n",
    "plt.title('Real')"
   ]
  },
  {
   "cell_type": "markdown",
   "metadata": {},
   "source": [
    "## Viterbi"
   ]
  },
  {
   "cell_type": "code",
   "execution_count": 23,
   "metadata": {},
   "outputs": [],
   "source": [
    "delta = [[], []]\n",
    "delta[0].append(1)\n",
    "delta[1].append(0)\n",
    "\n",
    "for t, v in enumerate(sequence[:-1]):\n",
    "    delta0, delta1 = 0, 0\n",
    "    for i in range(2):\n",
    "        delta0 = max(delta0, delta[i][t] * A[i][0] * B[0][v - 1])\n",
    "        delta1 = max(delta1, delta[i][t] * A[i][1] * B[1][v - 1])\n",
    "    \n",
    "    delta[0].append(delta0 * 5.5)\n",
    "    delta[1].append(delta1 * 5.5)"
   ]
  },
  {
   "cell_type": "code",
   "execution_count": 24,
   "metadata": {},
   "outputs": [
    {
     "data": {
      "text/plain": [
       "0.7205"
      ]
     },
     "execution_count": 24,
     "metadata": {},
     "output_type": "execute_result"
    }
   ],
   "source": [
    "(np.array(delta).argmax(axis=0) == targets).mean()"
   ]
  },
  {
   "cell_type": "code",
   "execution_count": 25,
   "metadata": {},
   "outputs": [
    {
     "data": {
      "text/plain": [
       "Text(0.5, 1.0, 'Predicted')"
      ]
     },
     "execution_count": 25,
     "metadata": {},
     "output_type": "execute_result"
    },
    {
     "data": {
      "image/png": "[encoded data removed]",
      "text/plain": [
       "<Figure size 1080x360 with 1 Axes>"
      ]
     },
     "metadata": {
      "needs_background": "light"
     },
     "output_type": "display_data"
    }
   ],
   "source": [
    "colors = np.array(['g', 'r'])[np.array(delta).argmax(axis=0)]\n",
    "plt.figure(figsize=(15, 5))\n",
    "plt.bar(np.arange(len(sequence)), sequence, color=colors)\n",
    "plt.title('Predicted')"
   ]
  },
  {
   "cell_type": "code",
   "execution_count": 26,
   "metadata": {},
   "outputs": [],
   "source": [
    "def viterbi(y, A, B, Pi=None):\n",
    "    \"\"\"\n",
    "    Return the MAP estimate of state trajectory of Hidden Markov Model.\n",
    "\n",
    "    Parameters\n",
    "    ----------\n",
    "    y : array (T,)\n",
    "        Observation state sequence. int dtype.\n",
    "    A : array (K, K)\n",
    "        State transition matrix. See HiddenMarkovModel.state_transition  for\n",
    "        details.\n",
    "    B : array (K, M)\n",
    "        Emission matrix. See HiddenMarkovModel.emission for details.\n",
    "    Pi: optional, (K,)\n",
    "        Initial state probabilities: Pi[i] is the probability x[0] == i. If\n",
    "        None, uniform initial distribution is assumed (Pi[:] == 1/K).\n",
    "\n",
    "    Returns\n",
    "    -------\n",
    "    x : array (T,)\n",
    "        Maximum a posteriori probability estimate of hidden state trajectory,\n",
    "        conditioned on observation sequence y under the model parameters A, B,\n",
    "        Pi.\n",
    "    T1: array (K, T)\n",
    "        the probability of the most likely path so far\n",
    "    T2: array (K, T)\n",
    "        the x_j-1 of the most likely path so far\n",
    "    \"\"\"\n",
    "    # Cardinality of the state space\n",
    "    K = A.shape[0]\n",
    "    # Initialize the priors with default (uniform dist) if not given by caller\n",
    "    Pi = Pi if Pi is not None else np.full(K, 1 / K)\n",
    "    T = len(y)\n",
    "    T1 = np.empty((K, T), 'd')\n",
    "    T2 = np.empty((K, T), 'B')\n",
    "\n",
    "    # Initilaize the tracking tables from first observation\n",
    "    T1[:, 0] = Pi * B[:, y[0]]\n",
    "    T2[:, 0] = 0\n",
    "\n",
    "    # Iterate throught the observations updating the tracking tables\n",
    "    for i in range(1, T):\n",
    "        T1[:, i] = np.max(T1[:, i - 1] * A.T * B[np.newaxis, :, y[i]].T, 1)\n",
    "        T2[:, i] = np.argmax(T1[:, i - 1] * A.T, 1)\n",
    "\n",
    "    # Build the output, optimal model trajectory\n",
    "    x = np.empty(T, 'B')\n",
    "    x[-1] = np.argmax(T1[:, T - 1])\n",
    "    for i in reversed(range(1, T)):\n",
    "        x[i - 1] = T2[x[i], i]\n",
    "\n",
    "    return x, T1, T2"
   ]
  },
  {
   "cell_type": "code",
   "execution_count": 27,
   "metadata": {},
   "outputs": [],
   "source": [
    "x, T1, T2 = viterbi(\n",
    "    y=sequence - 1,\n",
    "    A=np.array(A),\n",
    "    B=np.array(B),\n",
    "    Pi=np.array([1, 0])\n",
    ")"
   ]
  },
  {
   "cell_type": "code",
   "execution_count": 28,
   "metadata": {},
   "outputs": [
    {
     "data": {
      "text/plain": [
       "0.5608"
      ]
     },
     "execution_count": 28,
     "metadata": {},
     "output_type": "execute_result"
    }
   ],
   "source": [
    "(x==targets).mean()"
   ]
  },
  {
   "cell_type": "code",
   "execution_count": 29,
   "metadata": {},
   "outputs": [
    {
     "data": {
      "text/plain": [
       "Text(0.5, 1.0, 'Predicted')"
      ]
     },
     "execution_count": 29,
     "metadata": {},
     "output_type": "execute_result"
    },
    {
     "data": {
      "image/png": "[encoded data removed]",
      "text/plain": [
       "<Figure size 1080x360 with 1 Axes>"
      ]
     },
     "metadata": {
      "needs_background": "light"
     },
     "output_type": "display_data"
    }
   ],
   "source": [
    "colors = np.array(['g', 'r'])[x]\n",
    "plt.figure(figsize=(15, 5))\n",
    "plt.bar(np.arange(len(sequence)), sequence, color=colors)\n",
    "plt.title('Predicted')"
   ]
  },
  {
   "cell_type": "code",
   "execution_count": 30,
   "metadata": {},
   "outputs": [],
   "source": [
    "x1, T1, T2 = viterbi(\n",
    "    y=sequence[:500] - 1,\n",
    "    A=np.array(A),\n",
    "    B=np.array(B),\n",
    "    Pi=np.array([1, 0])\n",
    ")"
   ]
  },
  {
   "cell_type": "code",
   "execution_count": 31,
   "metadata": {},
   "outputs": [],
   "source": [
    "x2, T1, T2 = viterbi(\n",
    "    y=sequence[500:] - 1,\n",
    "    A=np.array(A),\n",
    "    B=np.array(B),\n",
    "    Pi=np.array([1, 0])\n",
    ")"
   ]
  },
  {
   "cell_type": "code",
   "execution_count": 32,
   "metadata": {},
   "outputs": [],
   "source": [
    "preds = np.r_[x1, x2]"
   ]
  },
  {
   "cell_type": "code",
   "execution_count": 33,
   "metadata": {},
   "outputs": [
    {
     "data": {
      "text/plain": [
       "0.5775"
      ]
     },
     "execution_count": 33,
     "metadata": {},
     "output_type": "execute_result"
    }
   ],
   "source": [
    "(preds == targets).mean()"
   ]
  },
  {
   "cell_type": "code",
   "execution_count": 34,
   "metadata": {},
   "outputs": [
    {
     "data": {
      "text/plain": [
       "Text(0.5, 1.0, 'Predicted')"
      ]
     },
     "execution_count": 34,
     "metadata": {},
     "output_type": "execute_result"
    },
    {
     "data": {
      "image/png": "[encoded data removed]",
      "text/plain": [
       "<Figure size 1080x360 with 1 Axes>"
      ]
     },
     "metadata": {
      "needs_background": "light"
     },
     "output_type": "display_data"
    }
   ],
   "source": [
    "colors = np.array(['g', 'r'])[preds]\n",
    "plt.figure(figsize=(15, 5))\n",
    "plt.bar(np.arange(len(sequence)), sequence, color=colors)\n",
    "plt.title('Predicted')"
   ]
  },
  {
   "cell_type": "code",
   "execution_count": 35,
   "metadata": {},
   "outputs": [
    {
     "data": {
      "text/plain": [
       "Text(0.5, 1.0, 'Real')"
      ]
     },
     "execution_count": 35,
     "metadata": {},
     "output_type": "execute_result"
    },
    {
     "data": {
      "image/png": "[encoded data removed]",
      "text/plain": [
       "<Figure size 1080x360 with 1 Axes>"
      ]
     },
     "metadata": {
      "needs_background": "light"
     },
     "output_type": "display_data"
    }
   ],
   "source": [
    "colors = np.array(['g', 'r'])[targets]\n",
    "plt.figure(figsize=(15, 5))\n",
    "plt.bar(np.arange(len(sequence)), sequence, color=colors)\n",
    "plt.title('Real')"
   ]
  },
  {
   "cell_type": "markdown",
   "metadata": {},
   "source": [
    "# Zadanie 4\n",
    "\n",
    "W tym zadaniu powinieneś zrekonstruować „parametry” krupiera. <br>\n",
    "Mamy dwie sześcienne kości o nieznanych rozkładach (każdy rozkład to 6 liczb dodatnich, sumujących się do jedynki), zaczynamy od losowo wybranej kości1. <br>\n",
    "Podobnie jak w poprzednim zadaniu p1 i p2 to prawdopodobieństwa zmiany kości. <br>\n",
    "Na SKOSIe znajdziesz zestaw 20000 obserwacji (wyników rzutów kością),  <br>\n",
    "poczynionych dla tego modelu (ale do testów możesz też używać danych wygenerowanych w poprzednim zadaniu).  <br>\n",
    "Masz zrekonstruować model, uruchom Twój program dla kilku prefiksów dostępnych danych i porównaj wyniki. <br>\n",
    "<br>\n",
    "Zastanów się, jak zainicjować model. <br>\n",
    "Czy rozpoczynanie od równych prawdopodobieństw to dobry pomysł?\n"
   ]
  },
  {
   "cell_type": "code",
   "execution_count": 36,
   "metadata": {},
   "outputs": [],
   "source": [
    "data = \"\"\n",
    "\n",
    "with open('casino_data.txt') as f:\n",
    "    for line in f:\n",
    "        data += line.strip()"
   ]
  },
  {
   "cell_type": "code",
   "execution_count": 37,
   "metadata": {},
   "outputs": [],
   "source": [
    "data = np.array(list(data), dtype=np.int)"
   ]
  },
  {
   "cell_type": "code",
   "execution_count": 38,
   "metadata": {},
   "outputs": [
    {
     "data": {
      "text/plain": [
       "array([3, 1, 4, ..., 3, 1, 2])"
      ]
     },
     "execution_count": 38,
     "metadata": {},
     "output_type": "execute_result"
    }
   ],
   "source": [
    "data"
   ]
  },
  {
   "cell_type": "code",
   "execution_count": null,
   "metadata": {},
   "outputs": [],
   "source": []
  }
 ],
 "metadata": {
  "kernelspec": {
   "display_name": "Python 3",
   "language": "python",
   "name": "python3"
  },
  "language_info": {
   "codemirror_mode": {
    "name": "ipython",
    "version": 3
   },
   "file_extension": ".py",
   "mimetype": "text/x-python",
   "name": "python",
   "nbconvert_exporter": "python",
   "pygments_lexer": "ipython3",
   "version": "3.8.5"
  }
 },
 "nbformat": 4,
 "nbformat_minor": 4
}
